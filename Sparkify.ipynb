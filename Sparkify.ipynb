{
 "cells": [
  {
   "cell_type": "markdown",
   "metadata": {},
   "source": [
    "# Sparkify Project Workspace\n",
    "This workspace contains a tiny subset (128MB) of the full dataset available (12GB). Feel free to use this workspace to build your project, or to explore a smaller subset with Spark before deploying your cluster on the cloud. Instructions for setting up your Spark cluster is included in the last lesson of the Extracurricular Spark Course content.\n",
    "\n",
    "You can follow the steps below to guide your data analysis and model building portion of this project."
   ]
  },
  {
   "cell_type": "code",
   "execution_count": 1,
   "metadata": {},
   "outputs": [],
   "source": [
    "# import libraries\n",
    "import os\n",
    "import re\n",
    "import copy\n",
    "import time\n",
    "import datetime\n",
    "import numpy as np\n",
    "import pandas as pd\n",
    "from matplotlib import pyplot as plt\n",
    "import seaborn as sns\n",
    "import gc\n",
    "\n",
    "%matplotlib inline\n",
    "sns.set()\n",
    "\n",
    "from pyspark.sql import SparkSession\n",
    "from pyspark.sql.functions import *\n",
    "from pyspark.sql.types import *\n",
    "from pyspark.ml.feature import StringIndexer, VectorAssembler #, OneHotEncoderEstimator\n",
    "from pyspark.ml import Pipeline\n",
    "from pyspark.ml.tuning import CrossValidator\n",
    "from pyspark.ml.evaluation import RegressionEvaluator\n",
    "from pyspark.sql.types import IntegerType, ArrayType, FloatType, DoubleType, Row, DateType\n",
    "from pyspark.ml.linalg import DenseVector, SparseVector\n",
    "from pyspark.ml.classification import LogisticRegression, RandomForestClassifier, GBTClassifier\n",
    "from pyspark.ml.evaluation import  MulticlassClassificationEvaluator, BinaryClassificationEvaluator\n",
    "from pyspark.mllib.evaluation import MulticlassMetrics, BinaryClassificationMetrics\n",
    "from pyspark.ml.feature import CountVectorizer, IDF, Normalizer, PCA, RegexTokenizer, StandardScaler, StopWordsRemover, StringIndexer, VectorAssembler\n",
    "from pyspark.ml.tuning import CrossValidator, ParamGridBuilder"
   ]
  },
  {
   "cell_type": "code",
   "execution_count": 2,
   "metadata": {},
   "outputs": [],
   "source": [
    "# create a Spark session\n",
    "spark = SparkSession \\\n",
    "     .builder \\\n",
    "     .master('local') \\\n",
    "     .appName(\"Sparkify\") \\\n",
    "     .config(\"spark.executor.memory\", '8g') \\\n",
    "     .config(\"spark.driver.memory\", '8g') \\\n",
    "     .getOrCreate()\n",
    "     \n",
    "     #.config('spark.driver.maxResultSize', '4G') \\\n",
    "     #.config(\"spark.sql.broadcastTimeout\", \"72000\") \\\n",
    "     #.config(\"spark.dynamicAllocation.enabled\", \"true\") \\\n",
    "     #.config(\"spark.serializer\", \"org.apache.spark.serializer.KryoSerializer\") \\\n",
    "     #.config(\"spark.shuffle.spill.compress\", \"true\") \\\n",
    "     #.config(\"spark.shuffle.service.enabled\", \"true\") \\\n",
    "     #.config(\"spark.io.compression.codec\", \"snappy\") \\\n",
    "     #.config(\"spark.driver.memory\", \"16g\") \\\n",
    "     #.config(\"spark.driver.cores\", \"6\") \\\n",
    "     #.config(\"spark.executor.cores\", \"6\") \\\n",
    "     #.config(\"spark.executor.memory\", \"16g\") \\\n",
    "     #.config(\"spark.kryoserializer.buffer.max\", \"2000m\") \\\n",
    "     #.config(\"spark.network.timeout\", \"360000\") \\\n",
    "     #.config(\"spark.dynamicAllocation.minExecutors\", \"25\")\\\n",
    "     #.enableHiveSupport() \\\n",
    "     #.config(\"spark.sql.shuffle.partitions\", \"1000\") \\\n",
    "     "
   ]
  },
  {
   "cell_type": "code",
   "execution_count": 3,
   "metadata": {},
   "outputs": [
    {
     "output_type": "stream",
     "name": "stdout",
     "text": [
      "Version:  3.0.2\n"
     ]
    }
   ],
   "source": [
    "#check installed spark version\n",
    "print('Version: ', spark.version)"
   ]
  },
  {
   "cell_type": "markdown",
   "metadata": {},
   "source": [
    "# Code Prep\n",
    "In this workspace, all code that is used throughout the notebook is defined."
   ]
  },
  {
   "cell_type": "code",
   "execution_count": 4,
   "metadata": {},
   "outputs": [],
   "source": [
    "def load_data(path=''):\n",
    "    \"\"\"\n",
    "    This function loads json data\n",
    "\n",
    "    Args:\n",
    "        - path (string): filepath to the data\n",
    "    Returns:\n",
    "        - data (json): spark json file\n",
    "    \"\"\"\n",
    "    #create json data from filepath\n",
    "    data = spark.read.json(path)\n",
    "\n",
    "    return data"
   ]
  },
  {
   "cell_type": "code",
   "execution_count": 5,
   "metadata": {},
   "outputs": [],
   "source": [
    "def clean_data(data):\n",
    "    \"\"\"\n",
    "    This function cleans the dataset:\n",
    "        - delete rows without userIds or sessionIds\n",
    "        - cast userId to LongType\n",
    "        - replace special characters of string columns with empty string\n",
    "        - split ts into useable columns interaction_time, month, date\n",
    "        - delete ts column (depricated)\n",
    "        - split location into seperate columns location, state\n",
    "\n",
    "    Args:\n",
    "        data (json): loaded json file\n",
    "    Returns:\n",
    "        cleaned_data (json): cleaned json file\n",
    "    \"\"\"\n",
    "    #delete rows without userids or sessionids\n",
    "    data = data.filter(col('userId').isNotNull() | col('sessionId').isNotNull())\n",
    "\n",
    "    #cast userId to LongType\n",
    "    data= data.withColumn(\"userId\", data[\"userId\"].cast(IntegerType()))\n",
    "    data= data.withColumn(\"sessionId\", data[\"sessionId\"].cast(IntegerType()))\n",
    "\n",
    "    #replace special characters of strings with empty\n",
    "    for field in data.schema.fields:\n",
    "        if field.dataType==StringType():\n",
    "            data = data.withColumn(field.name, regexp_replace(field.name, '[^a-zA-Z0-9 \\n\\.]', ''))\n",
    "    \n",
    "    # split ts into useable columns interaction_time, month, date\n",
    "    data = data.withColumn('interaction_time', from_unixtime(col('ts').cast(LongType())/1000).cast(TimestampType()))\n",
    "    data = data.withColumn('month', month(col('interaction_time')))\n",
    "    data = data.withColumn('date', from_unixtime(col('ts')/1000).cast(DateType()))\n",
    "\n",
    "    #split location into seperate columns location, state\n",
    "    data = data.withColumn('state', split(col('location'), ' ').getItem(1))\n",
    "    data = data.withColumn('location', split(col('location'),' ').getItem(0))\n",
    "\n",
    "    #split userAgent for operating system\n",
    "    data = data.withColumn('operating_system', split(col('userAgent'), ' ').getItem(1))\n",
    "\n",
    "    #substitute NaN values in column length with average\n",
    "    data = data.fillna(0, subset=['length'])\n",
    "\n",
    "    #create new copy\n",
    "    cleaned_data = data\n",
    "\n",
    "    return cleaned_data"
   ]
  },
  {
   "cell_type": "code",
   "execution_count": 6,
   "metadata": {},
   "outputs": [],
   "source": [
    "def check_nan(data):\n",
    "    \"\"\"\n",
    "    This function checks a spark dataframe for nan values\n",
    "\n",
    "    Args:\n",
    "        - data (json): input data\n",
    "    Returns:\n",
    "        - None\n",
    "    \"\"\"\n",
    "    #check data for nan values\n",
    "    data.select([count(when(isnan(c), c)).alias(c) for (c, c_type) in data.dtypes if c_type not in ('timestamp', 'string', 'date')]).show()"
   ]
  },
  {
   "cell_type": "code",
   "execution_count": 7,
   "metadata": {},
   "outputs": [],
   "source": [
    "def show_data(data, n_rows=5):\n",
    "    \"\"\"\n",
    "    This function shows data as a Pandas Dataframe\n",
    "\n",
    "    Args:\n",
    "        - data : input data\n",
    "        - n_rows: number of rows to show\n",
    "    Returns:\n",
    "        - df: Pandas DataFrame to show\n",
    "    \"\"\"\n",
    "    df = pd.DataFrame(data.take(n_rows), columns=data.columns)\n",
    "\n",
    "    return df"
   ]
  },
  {
   "cell_type": "code",
   "execution_count": 8,
   "metadata": {},
   "outputs": [],
   "source": [
    "def add_churn(data):\n",
    "    \"\"\"\n",
    "    This functions adds a new column churn to the cleaned data, based on the Cancellation Confirmation events, \n",
    "    which happen to both paid and free users.\n",
    "\n",
    "    Args:\n",
    "        - data (json): provided data\n",
    "    Returns:\n",
    "        - data (json): with added column churn\n",
    "    \"\"\"\n",
    "    #compute churn on pagetypes and auth\n",
    "    churn = cleaned_data.withColumn('churn', when((col('page').isin(['Cancellation Confirmation', 'Cancel'])) | (col('auth') == 'Cancelled'), 1 ).otherwise(0)).groupby                  ('userId').agg(sum('churn').alias('churn')).withColumn('churn', when(col('churn') >= 1, 1).otherwise(0))\n",
    "\n",
    "    #join new df churn with cleaned_data\n",
    "    churn_data = data.join(churn, on='userId')\n",
    "    \n",
    "    return churn_data"
   ]
  },
  {
   "cell_type": "code",
   "execution_count": 9,
   "metadata": {},
   "outputs": [],
   "source": [
    "def dataframe_shape(data):\n",
    "    \"\"\"\n",
    "    This function displays the shape of a pyspark DataFrame\n",
    "\n",
    "    Args:\n",
    "        - data (Pandas Dataframe): input data\n",
    "    Returns:\n",
    "        - None\n",
    "    \"\"\"\n",
    "    print((data.count(), len(data.columns)))"
   ]
  },
  {
   "cell_type": "code",
   "execution_count": 10,
   "metadata": {},
   "outputs": [],
   "source": [
    "class Plots:\n",
    "    \"\"\"\n",
    "    Can derive different graphs to plot.\n",
    "\n",
    "    Args:\n",
    "        - values (Pandas DataFrame): input values\n",
    "        - x_values (list): input values\n",
    "        - y_values (list): input values\n",
    "        - x_label (string): name for x_axis\n",
    "        - y_label (string): name for y_axis\n",
    "        - title (string): title for plot\n",
    "        - hue (string): defines column for color coding\n",
    "        - data (Pandas DataFrame): input data\n",
    "        - bin_min (int): minimum for bin for histograms\n",
    "        - bin_max (int): maximum for bin for histograms\n",
    "        - bin_step (int): step size for bin for histogram\n",
    "        - fig_width (int): width for figure\n",
    "        - fig_height (int): height for figure\n",
    "    \"\"\"\n",
    "    \n",
    "    #define the __init__\n",
    "    def __init__(self, x_values=[], y_values=[], values=pd.DataFrame(), x_label='', y_label='', title='', \\\n",
    "        hue=[], data=pd.DataFrame(), bin_min=0, bin_max=140, bin_step=5, fig_width=15, fig_height=10):\n",
    "        self.x_values = x_values\n",
    "        self.y_values = y_values\n",
    "        self.values = values\n",
    "        self.x_label = x_label\n",
    "        self.y_label = y_label\n",
    "        self.title = title\n",
    "        self.hue = hue\n",
    "        self.data = data\n",
    "        self.bin_min = bin_min\n",
    "        self.bin_max = bin_max\n",
    "        self.bin_step = bin_step\n",
    "        self.fig_width = fig_width\n",
    "        self.fig_height = fig_height\n",
    "        \n",
    "    \n",
    "    #generic Histogram function\n",
    "    def plot_histogram(self):\n",
    "        \"\"\"\n",
    "        The function plots a histogram for user interactions with articles on IBM Watson.\n",
    "        It saves the histogram as a PNG-file\n",
    "\n",
    "        Args:\n",
    "            values (df): df of user interactions with articles\n",
    "            x_label (string): label for x-axis\n",
    "            y_label (string): label for y_axis\n",
    "            title (string): label for plot\n",
    "            bin_min (int): min range for x-axis\n",
    "            bin_max (int): max range for x_axis\n",
    "            bin_step (int): step size for x_axis\n",
    "        Returns:\n",
    "            None\n",
    "        \"\"\"\n",
    "        #determine number of bins for histogram\n",
    "        bins = np.arange(self.bin_min, self.bin_max, self.bin_step)\n",
    "\n",
    "        #specify plot style from seaborn library\n",
    "        plt.style.use('fivethirtyeight')\n",
    "\n",
    "        #specify figsize\n",
    "        plt.figure(figsize=(self.fig_width, self.fig_height))\n",
    "\n",
    "        #plot the graph\n",
    "        plt.hist(self.values, bins=bins, rwidth=.8, alpha=.8)\n",
    "\n",
    "        #specify title\n",
    "        plt.title(self.title)\n",
    "\n",
    "        #specify label x-axis\n",
    "        plt.xlabel(self.x_label)\n",
    "\n",
    "        #specify label y-axis\n",
    "        plt.ylabel(self.y_label)\n",
    "    \n",
    "    #sns barplot\n",
    "    def sns_barplot(self):\n",
    "        \"\"\"\n",
    "        This functions plots a barplot with seaborn\n",
    "        \"\"\"\n",
    "        sns.barplot(x=self.x_values, y=self.y_values, hue=self.hue, data=self.data)\n",
    "\n",
    "    #barplot with matplotlib.pyplot\n",
    "    def barplot(self):\n",
    "        \"\"\"\n",
    "        This function plots a barplot with matplotlib.pyplot\n",
    "        \"\"\"\n",
    "        self.data.plot.bar(self.x_values, figsize=(self.fig_width, self.fig_height))"
   ]
  },
  {
   "cell_type": "code",
   "execution_count": 11,
   "metadata": {},
   "outputs": [],
   "source": [
    "def show_gender_churn_dist():\n",
    "    \"\"\"\n",
    "    This functions plots the distriution of deduplicated users in the dataset across genders for churn or non churn\n",
    "\n",
    "    Args:\n",
    "        - None\n",
    "    Returns:\n",
    "        - gender_churn_df\n",
    "    \"\"\"\n",
    "    #distribution of churns users and normal users, deduplicated\n",
    "    gender_churn_df = churn_data.dropDuplicates(['userId', 'gender']).groupBy('churn', 'gender').count().toPandas()\n",
    "\n",
    "    #create barplot\n",
    "    gender_churn_barplot = Plots(x_values='churn', y_values='count', hue='gender', data=gender_churn_df)\n",
    "    gender_churn_barplot.sns_barplot()\n",
    "\n",
    "    return gender_churn_df"
   ]
  },
  {
   "cell_type": "code",
   "execution_count": 12,
   "metadata": {},
   "outputs": [],
   "source": [
    "def page_use_distribution():\n",
    "    \"\"\"\n",
    "    This function shows the distribution of pageuse between churn users and non churn users\n",
    "\n",
    "    Args:\n",
    "        -  None\n",
    "    Returns:\n",
    "        - churn_page_df\n",
    "        - non_churn_page_df\n",
    "    \"\"\"\n",
    "    #count churns and non churns\n",
    "    churn_count = churn_data.where(churn_data['churn'] == 1).count()\n",
    "    non_churn_count = churn_data.where(churn_data['churn'] == 0).count()\n",
    "\n",
    "    #create two df with pages and number of interactions for all pages\n",
    "    #filter out page \"NextSong\" for more even distribution\n",
    "    churn_page_df = churn_data.where((churn_data['churn'] == 1) & (churn_data['page'] != 'NextSong')).groupby(['page']).count()\n",
    "    non_churn_page_df = churn_data.where((churn_data['churn'] == 0) & (churn_data['page'] != 'NextSong')).groupby(['page']).count()\n",
    "\n",
    "    #compute frequency of use\n",
    "    churn_page_df = churn_page_df.withColumn('churn_frequency', churn_page_df['count']/(churn_count/100)).sort('page').drop('count').toPandas()\n",
    "    non_churn_page_df = non_churn_page_df.withColumn('non_churn_frequency', non_churn_page_df['count']/(non_churn_count/100)).sort('page').drop('count').toPandas()\n",
    "\n",
    "    #create new df with results\n",
    "    page_use_dist = churn_page_df\n",
    "    page_use_dist['non_churn_frequency'] = non_churn_page_df['non_churn_frequency']\n",
    "    page_use_dist.fillna(0)\n",
    "\n",
    "    #create barplot\n",
    "    page_use_dist_barplot = Plots(x_values='page', data=page_use_dist, fig_width=10, fig_height=5)\n",
    "    page_use_dist_barplot.barplot()\n",
    "\n",
    "    return churn_page_df, non_churn_page_df"
   ]
  },
  {
   "cell_type": "code",
   "execution_count": 13,
   "metadata": {},
   "outputs": [],
   "source": [
    "def churn_level():\n",
    "    \"\"\"\n",
    "    This function shows the payment level for the time the users churned\n",
    "\n",
    "    Args:\n",
    "        - None\n",
    "    Returns:\n",
    "        - churn_level_df\n",
    "    \"\"\"\n",
    "    #level of user when churn happened\n",
    "    churn_level_df = churn_data.where(churn_data['page'] == 'Cancellation Confirmation').groupby('level').count().toPandas()\n",
    "\n",
    "    #create barplot\n",
    "    churn_level_barplot = Plots(x_values='level', y_values='count', hue='level', data=churn_level_df)\n",
    "    churn_level_barplot.sns_barplot()\n",
    "\n",
    "    return churn_level_df"
   ]
  },
  {
   "cell_type": "code",
   "execution_count": 14,
   "metadata": {},
   "outputs": [],
   "source": [
    "def num_registered_days(data):\n",
    "    \"\"\"\n",
    "    This function calculates the number of registered days between registration and the last user interaction\n",
    "\n",
    "    Args:\n",
    "        - data (json): input data\n",
    "    Returns:\n",
    "        - data (json): input data plus new column with num_registered_days\n",
    "    \"\"\"\n",
    "    #create new DataFrame with timestamp of last interaction for each userId\n",
    "    last_interaction_data = data.groupBy('userId').agg(max('ts').alias('last_interaction'))\n",
    "\n",
    "    #join new DataFrame with data and compute registered_days\n",
    "    registered_days_data = last_interaction_data.join(data, on='userId').withColumn('registered_days', ((col('last_interaction')-col('registration'))/86400000)\\\n",
    "        .cast(IntegerType())).dropDuplicates()\n",
    "\n",
    "    return registered_days_data"
   ]
  },
  {
   "cell_type": "code",
   "execution_count": 15,
   "metadata": {},
   "outputs": [],
   "source": [
    "def num_thumbsup(data):\n",
    "    \"\"\"\n",
    "    This function calculates the number of \"Thumbs Up\" or \"Likes\" a user has dealt out.\n",
    "\n",
    "    Args:\n",
    "        - data (json): input data\n",
    "    Returns:\n",
    "        - data (json): input data with new column num_thumbsup\n",
    "    \"\"\"\n",
    "    #create a new DataFrame with count of Thumbs Up\n",
    "    thumbsup_data = data.where(data['page']=='Thumbs Up').groupby('userId').count().withColumnRenamed('count', 'num_thumbsup')\n",
    "    \n",
    "    #join with input data\n",
    "    num_thumbsup_data = data.join(thumbsup_data, on='userId').dropDuplicates()\n",
    "\n",
    "    #cast as integer\n",
    "    num_thumbsup_data = num_thumbsup_data.withColumn(\"num_thumbsup\", num_thumbsup_data[\"num_thumbsup\"].cast(IntegerType()))\n",
    "\n",
    "    return num_thumbsup_data"
   ]
  },
  {
   "cell_type": "code",
   "execution_count": 16,
   "metadata": {},
   "outputs": [],
   "source": [
    "def num_thumbsdown(data):\n",
    "    \"\"\"\n",
    "    This function calculates the number of \"Thumbs Down\" or \"Dislikes\" a user has dealt out.\n",
    "\n",
    "    Args:\n",
    "        - data (json): input data\n",
    "    Returns:\n",
    "        - data (json): input data with new column num_thumbsdown\n",
    "    \"\"\"\n",
    "    #create a new DataFrame with count of Thumbs Down\n",
    "    thumbsdown_data = data.where(data['page']=='Thumbs Down').groupby('userId').count().withColumnRenamed('count', 'num_thumbsdown')\n",
    "    \n",
    "    #join with input data\n",
    "    num_thumbsdown_data = data.join(thumbsdown_data, on='userId').dropDuplicates()\n",
    "\n",
    "    #cast as integer\n",
    "    num_thumbsdown_data = num_thumbsdown_data.withColumn(\"num_thumbsdown\", num_thumbsdown_data[\"num_thumbsdown\"].cast(IntegerType()))\n",
    "\n",
    "    return num_thumbsdown_data"
   ]
  },
  {
   "cell_type": "code",
   "execution_count": 17,
   "metadata": {},
   "outputs": [],
   "source": [
    "def num_add_friend(data):\n",
    "    \"\"\"\n",
    "    This function calculates the number of \"Add Friend\" .\n",
    "\n",
    "    Args:\n",
    "        - data (json): input data\n",
    "    Returns:\n",
    "        - data (json): input data with new column num_add_friend\n",
    "    \"\"\"\n",
    "    #create a new DataFrame with count of Thumbs Down\n",
    "    friend_data = data.where(data['page']=='Add Friend').groupby('userId').count().withColumnRenamed('count', 'num_add_friend')\n",
    "\n",
    "    #join with input data\n",
    "    num_friend_data = data.join(friend_data, on='userId').dropDuplicates()\n",
    "\n",
    "    #cast as integer\n",
    "    num_friend_data = num_friend_data.withColumn(\"num_add_friend\", num_friend_data[\"num_add_friend\"].cast(IntegerType()))\n",
    "\n",
    "    return num_friend_data"
   ]
  },
  {
   "cell_type": "code",
   "execution_count": 18,
   "metadata": {},
   "outputs": [],
   "source": [
    "def payment_level(data):\n",
    "    \"\"\"\n",
    "    This function computes the most recent payment level for each user \n",
    "    and adds a new column to the input data\n",
    "\n",
    "    Args:\n",
    "        - data (json): input data\n",
    "    Returns:\n",
    "        - data (json): input data with new column payment_level\n",
    "    \"\"\"\n",
    "    #create new DataFrame with the most recent payment level for each user\n",
    "    payment_level_data = data.orderBy('ts').groupBy('userId').agg(first('level').alias('payment_level'))\n",
    "\n",
    "    #turn free and paid into 0, 1\n",
    "    payment_level_data = payment_level_data.select('userId', 'payment_level').dropDuplicates().replace(['free', 'paid'], ['0', '1'], 'payment_level')\n",
    "\n",
    "    #join with input data\n",
    "    payment_data = data.join(payment_level_data, on='userId').dropDuplicates()\n",
    "\n",
    "    #cast as integer\n",
    "    payment_data = payment_data.withColumn(\"payment_level\", payment_data[\"payment_level\"].cast(IntegerType()))\n",
    "\n",
    "    return payment_data"
   ]
  },
  {
   "cell_type": "code",
   "execution_count": 19,
   "metadata": {},
   "outputs": [],
   "source": [
    "def avg_songs(data):\n",
    "    \"\"\"\n",
    "    This function computes the average number of songs per user per session\n",
    "\n",
    "    Args:\n",
    "        - data (json): input data\n",
    "    Returns:\n",
    "        - data (json): input data with new column avg_songs_per_session\n",
    "    \"\"\"\n",
    "    #create new DataFrame with userId and count of Songs in a session\n",
    "    #create new DataFrame with userId and average number of songs\n",
    "    user_session_songs_data = data.where(data['page']=='NextSong').groupby('userId', 'sessionId').count()\\\n",
    "                            .groupby('userId').agg(avg('count').alias('avg_songs_per_session'))\n",
    "\n",
    "    #join with input data\n",
    "    avg_songs_data = data.join(user_session_songs_data, on='userId').dropDuplicates()\n",
    "\n",
    "    #cast as integer\n",
    "    avg_songs_data = avg_songs_data.withColumn(\"avg_songs_per_session\", avg_songs_data[\"avg_songs_per_session\"].cast(IntegerType()))\n",
    "\n",
    "    return avg_songs_data"
   ]
  },
  {
   "cell_type": "code",
   "execution_count": 20,
   "metadata": {},
   "outputs": [],
   "source": [
    "def avg_length(data):\n",
    "    \"\"\"\n",
    "    This function computes the average length for every user\n",
    "\n",
    "    Args:\n",
    "        - data (json): input data\n",
    "    Returns:\n",
    "        - data (json): input data with new column avg_length\n",
    "    \"\"\"\n",
    "    #calculate average length for each user\n",
    "    length_data = data.groupby('userId').agg(avg('length').alias('avg_length'))\n",
    "\n",
    "    #join with input data\n",
    "    avg_length_data = data.join(length_data, on='userId').dropDuplicates()\n",
    "\n",
    "    #cast as integer\n",
    "    avg_length_data = avg_length_data.withColumn(\"avg_length\", avg_length_data[\"avg_length\"].cast(IntegerType()))\n",
    "\n",
    "    return avg_length_data"
   ]
  },
  {
   "cell_type": "code",
   "execution_count": 21,
   "metadata": {},
   "outputs": [],
   "source": [
    "def num_sessions(data):\n",
    "    \"\"\"\n",
    "    This functions calculates the total number of sessions for each user\n",
    "\n",
    "    Args:\n",
    "        - data (json): input data\n",
    "    Returns:\n",
    "        - data (json): input data with new column num_sessions\n",
    "    \"\"\"\n",
    "    #calculate total number of sessions for each userId\n",
    "    session_data = data.select('userId', 'sessionId').dropDuplicates().groupby('userId').count().withColumnRenamed('count', 'num_sessions')\n",
    "\n",
    "    #join with input data\n",
    "    num_sessions_data = data.join(session_data, on='userId').dropDuplicates()\n",
    "\n",
    "    #cast as integer\n",
    "    num_sessions_data = num_sessions_data.withColumn(\"num_sessions\", num_sessions_data[\"num_sessions\"].cast(IntegerType()))\n",
    "\n",
    "    return num_sessions_data"
   ]
  },
  {
   "cell_type": "code",
   "execution_count": 22,
   "metadata": {},
   "outputs": [],
   "source": [
    "def gender(data):\n",
    "    \"\"\"\n",
    "    This functions marks the gender as either 0 or 1 and drops the original column gender\n",
    "\n",
    "    Args:\n",
    "        - data (json): input data\n",
    "    Returns:\n",
    "        - data (json): input data with new column type_gender\n",
    "    \"\"\"\n",
    "    #calculate the type of gender as either 0 (M) or 1 (F)\n",
    "    gender_data = data.select('userId', 'gender').dropDuplicates().replace(['M', 'F'], ['0', '1'], 'gender').withColumnRenamed('gender', 'type_gender')\n",
    "\n",
    "    #join with input data\n",
    "    type_gender_data = data.join(gender_data, on='userId').dropDuplicates()\n",
    "\n",
    "    #cast as integer\n",
    "    type_gender_data = type_gender_data.withColumn(\"type_gender\", type_gender_data[\"type_gender\"].cast(IntegerType()))\n",
    "\n",
    "    return type_gender_data"
   ]
  },
  {
   "cell_type": "code",
   "execution_count": 23,
   "metadata": {},
   "outputs": [],
   "source": [
    "def auth_status(data):\n",
    "    \"\"\"\n",
    "    This functions marks the auth_status as either 0 (logged out) or 1 (logged in)\n",
    "\n",
    "    Args:\n",
    "        - data (json): input data\n",
    "    Returns:\n",
    "        - data (json): input data with new column type_auth\n",
    "    \"\"\"\n",
    "    #calculate the type of auth as either 0 (logged out) or 1 (logged in)\n",
    "    auth_data = data.select('userId', 'auth').dropDuplicates().replace(['Logged Out', 'Logged In', 'Cancelled'], ['0', '1', '2'], 'auth').withColumnRenamed('auth', 'type_auth')\n",
    "\n",
    "    #join with input data\n",
    "    type_auth_data = data.join(auth_data, on='userId').dropDuplicates()\n",
    "\n",
    "    #cast as integer\n",
    "    type_auth_data = type_auth_data.withColumn(\"type_auth\", type_auth_data[\"type_auth\"].cast(IntegerType()))\n",
    "\n",
    "    return type_auth_data"
   ]
  },
  {
   "cell_type": "code",
   "execution_count": 24,
   "metadata": {},
   "outputs": [],
   "source": [
    "def num_artists(data):\n",
    "    \"\"\"\n",
    "    This function computes the total number of artists a user has heard\n",
    "\n",
    "    Args:\n",
    "        - data (json): input data\n",
    "    Returns:\n",
    "        - data (json): input data with new column num_artists\n",
    "    \"\"\"\n",
    "    #compute the number of artists heard by a user\n",
    "    artists_data = data.where(data['page'] == 'NextSong').select('userId', 'artist').dropDuplicates().groupby('userId').count().withColumnRenamed('count', 'num_artists')\n",
    "\n",
    "    #join with input data\n",
    "    num_artists_data = data.join(artists_data, on='userId').dropDuplicates()\n",
    "\n",
    "    #cast as integer\n",
    "    num_artists_data = num_artists_data.withColumn(\"num_artists\", num_artists_data[\"num_artists\"].cast(IntegerType()))\n",
    "\n",
    "    return num_artists_data"
   ]
  },
  {
   "source": [
    "def get_churn(data):\n",
    "    \"\"\"\n",
    "    This function extracts the userId and churn from churn_data\n",
    "\n",
    "    Args:\n",
    "        - data (json): input data\n",
    "    Returns:\n",
    "        - data (json): userId and churn\n",
    "    \"\"\"\n",
    "    churn_data = data.select('userId', 'churn')\n",
    "\n",
    "    #cast as integer\n",
    "    churn_data = churn_data.withColumn(\"churn\", churn_data[\"churn\"].cast(IntegerType()))\n",
    "\n",
    "    return churn_data"
   ],
   "cell_type": "code",
   "metadata": {},
   "execution_count": 25,
   "outputs": []
  },
  {
   "cell_type": "code",
   "execution_count": 26,
   "metadata": {},
   "outputs": [],
   "source": [
    "def create_features_data(data):\n",
    "    \"\"\"\n",
    "    This function joins together the features DataFrame\n",
    "\n",
    "    Args:\n",
    "        - data (json): input data\n",
    "    Returns:\n",
    "        - data (json): final DataFrame with all features\n",
    "    \"\"\" \n",
    "    #join all feature DataFrames together\n",
    "    features_data = num_registered_days(data)\n",
    "    features_data = avg_songs(features_data)\n",
    "    features_data = avg_length(features_data)\n",
    "    features_data = num_sessions(features_data)\n",
    "    features_data = gender(features_data)\n",
    "    features_data = auth_status(features_data)\n",
    "    features_data = num_artists(features_data)\n",
    "    features_data = num_thumbsup(features_data)\n",
    "    features_data = num_thumbsdown(features_data)\n",
    "    #features_data = num_add_friend(features_data)\n",
    "\n",
    "    #drop unnecessary columns\n",
    "    features_data = features_data.drop('auth', 'level','length','userAgent','month','date','interaction_time','registration', 'ts','song','page','sessionId','artist','firstName','lastName','method','status', 'gender', 'location', 'itemInSession')\n",
    "\n",
    "    #drop duplicates\n",
    "    features_data = features_data.dropDuplicates()\n",
    "\n",
    "    features_data = features_data.drop('userId')\n",
    "    \n",
    "    return features_data"
   ]
  },
  {
   "cell_type": "markdown",
   "metadata": {},
   "source": [
    "# Load and Clean Dataset\n",
    "In this workspace, the mini-dataset file is `mini_sparkify_event_data.json`. Load and clean the dataset, checking for invalid or missing data - for example, records without userids or sessionids. "
   ]
  },
  {
   "cell_type": "code",
   "execution_count": 27,
   "metadata": {},
   "outputs": [],
   "source": [
    "#load data\n",
    "data = load_data(path='mini_sparkify_event_data.json')"
   ]
  },
  {
   "cell_type": "code",
   "execution_count": 28,
   "metadata": {},
   "outputs": [],
   "source": [
    "#clean data\n",
    "cleaned_data = clean_data(data)"
   ]
  },
  {
   "source": [
    "#display first 5 rows of cleaned data as pandas df\n",
    "show_cleaned_data_df = show_data(cleaned_data, n_rows=5)\n",
    "show_cleaned_data_df"
   ],
   "cell_type": "code",
   "metadata": {},
   "execution_count": 29,
   "outputs": [
    {
     "output_type": "execute_result",
     "data": {
      "text/plain": [
       "             artist       auth firstName gender  itemInSession lastName  \\\n",
       "0    Martha Tilston  Logged In     Colin      M             50  Freeman   \n",
       "1  Five Iron Frenzy  Logged In     Micah      M             79     Long   \n",
       "2      Adam Lambert  Logged In     Colin      M             51  Freeman   \n",
       "3            Enigma  Logged In     Micah      M             80     Long   \n",
       "4         Daft Punk  Logged In     Colin      M             52  Freeman   \n",
       "\n",
       "      length level               location method  ...  \\\n",
       "0  277.89016  paid            Bakersfield    PUT  ...   \n",
       "1  236.09424  free  BostonCambridgeNewton    PUT  ...   \n",
       "2  282.82730  paid            Bakersfield    PUT  ...   \n",
       "3  262.71302  free  BostonCambridgeNewton    PUT  ...   \n",
       "4  223.60771  paid            Bakersfield    PUT  ...   \n",
       "\n",
       "                            song  status             ts  \\\n",
       "0                      Rockpools     200  1538352117000   \n",
       "1                         Canada     200  1538352180000   \n",
       "2              Time For Miracles     200  1538352394000   \n",
       "3    Knocking On Forbidden Doors     200  1538352416000   \n",
       "4  Harder Better Faster Stronger     200  1538352676000   \n",
       "\n",
       "                                           userAgent  userId  \\\n",
       "0  Mozilla5.0 Windows NT 6.1 WOW64 rv31.0 Gecko20...      30   \n",
       "1  Mozilla5.0 Windows NT 6.1 WOW64 AppleWebKit537...       9   \n",
       "2  Mozilla5.0 Windows NT 6.1 WOW64 rv31.0 Gecko20...      30   \n",
       "3  Mozilla5.0 Windows NT 6.1 WOW64 AppleWebKit537...       9   \n",
       "4  Mozilla5.0 Windows NT 6.1 WOW64 rv31.0 Gecko20...      30   \n",
       "\n",
       "     interaction_time month        date state  operating_system  \n",
       "0 2018-10-01 02:01:57    10  2018-10-01    CA           Windows  \n",
       "1 2018-10-01 02:03:00    10  2018-10-01  MANH           Windows  \n",
       "2 2018-10-01 02:06:34    10  2018-10-01    CA           Windows  \n",
       "3 2018-10-01 02:06:56    10  2018-10-01  MANH           Windows  \n",
       "4 2018-10-01 02:11:16    10  2018-10-01    CA           Windows  \n",
       "\n",
       "[5 rows x 23 columns]"
      ],
      "text/html": "<div>\n<style scoped>\n    .dataframe tbody tr th:only-of-type {\n        vertical-align: middle;\n    }\n\n    .dataframe tbody tr th {\n        vertical-align: top;\n    }\n\n    .dataframe thead th {\n        text-align: right;\n    }\n</style>\n<table border=\"1\" class=\"dataframe\">\n  <thead>\n    <tr style=\"text-align: right;\">\n      <th></th>\n      <th>artist</th>\n      <th>auth</th>\n      <th>firstName</th>\n      <th>gender</th>\n      <th>itemInSession</th>\n      <th>lastName</th>\n      <th>length</th>\n      <th>level</th>\n      <th>location</th>\n      <th>method</th>\n      <th>...</th>\n      <th>song</th>\n      <th>status</th>\n      <th>ts</th>\n      <th>userAgent</th>\n      <th>userId</th>\n      <th>interaction_time</th>\n      <th>month</th>\n      <th>date</th>\n      <th>state</th>\n      <th>operating_system</th>\n    </tr>\n  </thead>\n  <tbody>\n    <tr>\n      <th>0</th>\n      <td>Martha Tilston</td>\n      <td>Logged In</td>\n      <td>Colin</td>\n      <td>M</td>\n      <td>50</td>\n      <td>Freeman</td>\n      <td>277.89016</td>\n      <td>paid</td>\n      <td>Bakersfield</td>\n      <td>PUT</td>\n      <td>...</td>\n      <td>Rockpools</td>\n      <td>200</td>\n      <td>1538352117000</td>\n      <td>Mozilla5.0 Windows NT 6.1 WOW64 rv31.0 Gecko20...</td>\n      <td>30</td>\n      <td>2018-10-01 02:01:57</td>\n      <td>10</td>\n      <td>2018-10-01</td>\n      <td>CA</td>\n      <td>Windows</td>\n    </tr>\n    <tr>\n      <th>1</th>\n      <td>Five Iron Frenzy</td>\n      <td>Logged In</td>\n      <td>Micah</td>\n      <td>M</td>\n      <td>79</td>\n      <td>Long</td>\n      <td>236.09424</td>\n      <td>free</td>\n      <td>BostonCambridgeNewton</td>\n      <td>PUT</td>\n      <td>...</td>\n      <td>Canada</td>\n      <td>200</td>\n      <td>1538352180000</td>\n      <td>Mozilla5.0 Windows NT 6.1 WOW64 AppleWebKit537...</td>\n      <td>9</td>\n      <td>2018-10-01 02:03:00</td>\n      <td>10</td>\n      <td>2018-10-01</td>\n      <td>MANH</td>\n      <td>Windows</td>\n    </tr>\n    <tr>\n      <th>2</th>\n      <td>Adam Lambert</td>\n      <td>Logged In</td>\n      <td>Colin</td>\n      <td>M</td>\n      <td>51</td>\n      <td>Freeman</td>\n      <td>282.82730</td>\n      <td>paid</td>\n      <td>Bakersfield</td>\n      <td>PUT</td>\n      <td>...</td>\n      <td>Time For Miracles</td>\n      <td>200</td>\n      <td>1538352394000</td>\n      <td>Mozilla5.0 Windows NT 6.1 WOW64 rv31.0 Gecko20...</td>\n      <td>30</td>\n      <td>2018-10-01 02:06:34</td>\n      <td>10</td>\n      <td>2018-10-01</td>\n      <td>CA</td>\n      <td>Windows</td>\n    </tr>\n    <tr>\n      <th>3</th>\n      <td>Enigma</td>\n      <td>Logged In</td>\n      <td>Micah</td>\n      <td>M</td>\n      <td>80</td>\n      <td>Long</td>\n      <td>262.71302</td>\n      <td>free</td>\n      <td>BostonCambridgeNewton</td>\n      <td>PUT</td>\n      <td>...</td>\n      <td>Knocking On Forbidden Doors</td>\n      <td>200</td>\n      <td>1538352416000</td>\n      <td>Mozilla5.0 Windows NT 6.1 WOW64 AppleWebKit537...</td>\n      <td>9</td>\n      <td>2018-10-01 02:06:56</td>\n      <td>10</td>\n      <td>2018-10-01</td>\n      <td>MANH</td>\n      <td>Windows</td>\n    </tr>\n    <tr>\n      <th>4</th>\n      <td>Daft Punk</td>\n      <td>Logged In</td>\n      <td>Colin</td>\n      <td>M</td>\n      <td>52</td>\n      <td>Freeman</td>\n      <td>223.60771</td>\n      <td>paid</td>\n      <td>Bakersfield</td>\n      <td>PUT</td>\n      <td>...</td>\n      <td>Harder Better Faster Stronger</td>\n      <td>200</td>\n      <td>1538352676000</td>\n      <td>Mozilla5.0 Windows NT 6.1 WOW64 rv31.0 Gecko20...</td>\n      <td>30</td>\n      <td>2018-10-01 02:11:16</td>\n      <td>10</td>\n      <td>2018-10-01</td>\n      <td>CA</td>\n      <td>Windows</td>\n    </tr>\n  </tbody>\n</table>\n<p>5 rows × 23 columns</p>\n</div>"
     },
     "metadata": {},
     "execution_count": 29
    }
   ]
  },
  {
   "source": [
    "#check cleaned_data for nan values\n",
    "check_nan(cleaned_data)"
   ],
   "cell_type": "code",
   "metadata": {},
   "execution_count": 30,
   "outputs": [
    {
     "output_type": "stream",
     "name": "stdout",
     "text": [
      "+-------------+------+------------+---------+------+---+------+-----+\n|itemInSession|length|registration|sessionId|status| ts|userId|month|\n+-------------+------+------------+---------+------+---+------+-----+\n|            0|     0|           0|        0|     0|  0|     0|    0|\n+-------------+------+------------+---------+------+---+------+-----+\n\n"
     ]
    }
   ]
  },
  {
   "cell_type": "markdown",
   "metadata": {},
   "source": [
    "# Exploratory Data Analysis\n",
    "When you're working with the full dataset, perform EDA by loading a small subset of the data and doing basic manipulations within Spark. In this workspace, you are already provided a small subset of data you can explore.\n",
    "\n",
    "### Define Churn\n",
    "\n",
    "Once you've done some preliminary analysis, create a column `Churn` to use as the label for your model. I suggest using the `Cancellation Confirmation` events to define your churn, which happen for both paid and free users. As a bonus task, you can also look into the `Downgrade` events.\n",
    "\n",
    "### Explore Data\n",
    "Once you've defined churn, perform some exploratory data analysis to observe the behavior for users who stayed vs users who churned. You can start by exploring aggregates on these two groups of users, observing how much of a specific action they experienced per a certain time unit or number of songs played."
   ]
  },
  {
   "cell_type": "code",
   "execution_count": 31,
   "metadata": {},
   "outputs": [],
   "source": [
    "#add churn column\n",
    "churn_data = add_churn(cleaned_data)"
   ]
  },
  {
   "cell_type": "code",
   "execution_count": 32,
   "metadata": {},
   "outputs": [
    {
     "output_type": "stream",
     "name": "stdout",
     "text": [
      "(278154, 24)\n"
     ]
    }
   ],
   "source": [
    "#shape of churn_data dataframe\n",
    "dataframe_shape(churn_data)"
   ]
  },
  {
   "source": [
    "#show data\n",
    "show_churn_data_df = show_data(churn_data, n_rows=5)\n",
    "show_churn_data_df"
   ],
   "cell_type": "code",
   "metadata": {},
   "execution_count": 33,
   "outputs": [
    {
     "output_type": "execute_result",
     "data": {
      "text/plain": [
       "   userId            artist       auth firstName gender  itemInSession  \\\n",
       "0      30    Martha Tilston  Logged In     Colin      M             50   \n",
       "1       9  Five Iron Frenzy  Logged In     Micah      M             79   \n",
       "2      30      Adam Lambert  Logged In     Colin      M             51   \n",
       "3       9            Enigma  Logged In     Micah      M             80   \n",
       "4      30         Daft Punk  Logged In     Colin      M             52   \n",
       "\n",
       "  lastName     length level               location  ...  \\\n",
       "0  Freeman  277.89016  paid            Bakersfield  ...   \n",
       "1     Long  236.09424  free  BostonCambridgeNewton  ...   \n",
       "2  Freeman  282.82730  paid            Bakersfield  ...   \n",
       "3     Long  262.71302  free  BostonCambridgeNewton  ...   \n",
       "4  Freeman  223.60771  paid            Bakersfield  ...   \n",
       "\n",
       "                            song status             ts  \\\n",
       "0                      Rockpools    200  1538352117000   \n",
       "1                         Canada    200  1538352180000   \n",
       "2              Time For Miracles    200  1538352394000   \n",
       "3    Knocking On Forbidden Doors    200  1538352416000   \n",
       "4  Harder Better Faster Stronger    200  1538352676000   \n",
       "\n",
       "                                           userAgent    interaction_time  \\\n",
       "0  Mozilla5.0 Windows NT 6.1 WOW64 rv31.0 Gecko20... 2018-10-01 02:01:57   \n",
       "1  Mozilla5.0 Windows NT 6.1 WOW64 AppleWebKit537... 2018-10-01 02:03:00   \n",
       "2  Mozilla5.0 Windows NT 6.1 WOW64 rv31.0 Gecko20... 2018-10-01 02:06:34   \n",
       "3  Mozilla5.0 Windows NT 6.1 WOW64 AppleWebKit537... 2018-10-01 02:06:56   \n",
       "4  Mozilla5.0 Windows NT 6.1 WOW64 rv31.0 Gecko20... 2018-10-01 02:11:16   \n",
       "\n",
       "   month        date state operating_system  churn  \n",
       "0     10  2018-10-01    CA          Windows      0  \n",
       "1     10  2018-10-01  MANH          Windows      0  \n",
       "2     10  2018-10-01    CA          Windows      0  \n",
       "3     10  2018-10-01  MANH          Windows      0  \n",
       "4     10  2018-10-01    CA          Windows      0  \n",
       "\n",
       "[5 rows x 24 columns]"
      ],
      "text/html": "<div>\n<style scoped>\n    .dataframe tbody tr th:only-of-type {\n        vertical-align: middle;\n    }\n\n    .dataframe tbody tr th {\n        vertical-align: top;\n    }\n\n    .dataframe thead th {\n        text-align: right;\n    }\n</style>\n<table border=\"1\" class=\"dataframe\">\n  <thead>\n    <tr style=\"text-align: right;\">\n      <th></th>\n      <th>userId</th>\n      <th>artist</th>\n      <th>auth</th>\n      <th>firstName</th>\n      <th>gender</th>\n      <th>itemInSession</th>\n      <th>lastName</th>\n      <th>length</th>\n      <th>level</th>\n      <th>location</th>\n      <th>...</th>\n      <th>song</th>\n      <th>status</th>\n      <th>ts</th>\n      <th>userAgent</th>\n      <th>interaction_time</th>\n      <th>month</th>\n      <th>date</th>\n      <th>state</th>\n      <th>operating_system</th>\n      <th>churn</th>\n    </tr>\n  </thead>\n  <tbody>\n    <tr>\n      <th>0</th>\n      <td>30</td>\n      <td>Martha Tilston</td>\n      <td>Logged In</td>\n      <td>Colin</td>\n      <td>M</td>\n      <td>50</td>\n      <td>Freeman</td>\n      <td>277.89016</td>\n      <td>paid</td>\n      <td>Bakersfield</td>\n      <td>...</td>\n      <td>Rockpools</td>\n      <td>200</td>\n      <td>1538352117000</td>\n      <td>Mozilla5.0 Windows NT 6.1 WOW64 rv31.0 Gecko20...</td>\n      <td>2018-10-01 02:01:57</td>\n      <td>10</td>\n      <td>2018-10-01</td>\n      <td>CA</td>\n      <td>Windows</td>\n      <td>0</td>\n    </tr>\n    <tr>\n      <th>1</th>\n      <td>9</td>\n      <td>Five Iron Frenzy</td>\n      <td>Logged In</td>\n      <td>Micah</td>\n      <td>M</td>\n      <td>79</td>\n      <td>Long</td>\n      <td>236.09424</td>\n      <td>free</td>\n      <td>BostonCambridgeNewton</td>\n      <td>...</td>\n      <td>Canada</td>\n      <td>200</td>\n      <td>1538352180000</td>\n      <td>Mozilla5.0 Windows NT 6.1 WOW64 AppleWebKit537...</td>\n      <td>2018-10-01 02:03:00</td>\n      <td>10</td>\n      <td>2018-10-01</td>\n      <td>MANH</td>\n      <td>Windows</td>\n      <td>0</td>\n    </tr>\n    <tr>\n      <th>2</th>\n      <td>30</td>\n      <td>Adam Lambert</td>\n      <td>Logged In</td>\n      <td>Colin</td>\n      <td>M</td>\n      <td>51</td>\n      <td>Freeman</td>\n      <td>282.82730</td>\n      <td>paid</td>\n      <td>Bakersfield</td>\n      <td>...</td>\n      <td>Time For Miracles</td>\n      <td>200</td>\n      <td>1538352394000</td>\n      <td>Mozilla5.0 Windows NT 6.1 WOW64 rv31.0 Gecko20...</td>\n      <td>2018-10-01 02:06:34</td>\n      <td>10</td>\n      <td>2018-10-01</td>\n      <td>CA</td>\n      <td>Windows</td>\n      <td>0</td>\n    </tr>\n    <tr>\n      <th>3</th>\n      <td>9</td>\n      <td>Enigma</td>\n      <td>Logged In</td>\n      <td>Micah</td>\n      <td>M</td>\n      <td>80</td>\n      <td>Long</td>\n      <td>262.71302</td>\n      <td>free</td>\n      <td>BostonCambridgeNewton</td>\n      <td>...</td>\n      <td>Knocking On Forbidden Doors</td>\n      <td>200</td>\n      <td>1538352416000</td>\n      <td>Mozilla5.0 Windows NT 6.1 WOW64 AppleWebKit537...</td>\n      <td>2018-10-01 02:06:56</td>\n      <td>10</td>\n      <td>2018-10-01</td>\n      <td>MANH</td>\n      <td>Windows</td>\n      <td>0</td>\n    </tr>\n    <tr>\n      <th>4</th>\n      <td>30</td>\n      <td>Daft Punk</td>\n      <td>Logged In</td>\n      <td>Colin</td>\n      <td>M</td>\n      <td>52</td>\n      <td>Freeman</td>\n      <td>223.60771</td>\n      <td>paid</td>\n      <td>Bakersfield</td>\n      <td>...</td>\n      <td>Harder Better Faster Stronger</td>\n      <td>200</td>\n      <td>1538352676000</td>\n      <td>Mozilla5.0 Windows NT 6.1 WOW64 rv31.0 Gecko20...</td>\n      <td>2018-10-01 02:11:16</td>\n      <td>10</td>\n      <td>2018-10-01</td>\n      <td>CA</td>\n      <td>Windows</td>\n      <td>0</td>\n    </tr>\n  </tbody>\n</table>\n<p>5 rows × 24 columns</p>\n</div>"
     },
     "metadata": {},
     "execution_count": 33
    }
   ]
  },
  {
   "cell_type": "code",
   "execution_count": 34,
   "metadata": {},
   "outputs": [
    {
     "output_type": "display_data",
     "data": {
      "text/plain": "<Figure size 432x288 with 1 Axes>",
      "image/svg+xml": "<?xml version=\"1.0\" encoding=\"utf-8\" standalone=\"no\"?>\n<!DOCTYPE svg PUBLIC \"-//W3C//DTD SVG 1.1//EN\"\n  \"http://www.w3.org/Graphics/SVG/1.1/DTD/svg11.dtd\">\n<!-- Created with matplotlib (https://matplotlib.org/) -->\n<svg height=\"266.374219pt\" version=\"1.1\" viewBox=\"0 0 385.908437 266.374219\" width=\"385.908437pt\" xmlns=\"http://www.w3.org/2000/svg\" xmlns:xlink=\"http://www.w3.org/1999/xlink\">\n <metadata>\n  <rdf:RDF xmlns:cc=\"http://creativecommons.org/ns#\" xmlns:dc=\"http://purl.org/dc/elements/1.1/\" xmlns:rdf=\"http://www.w3.org/1999/02/22-rdf-syntax-ns#\">\n   <cc:Work>\n    <dc:type rdf:resource=\"http://purl.org/dc/dcmitype/StillImage\"/>\n    <dc:date>2021-04-24T15:09:53.195095</dc:date>\n    <dc:format>image/svg+xml</dc:format>\n    <dc:creator>\n     <cc:Agent>\n      <dc:title>Matplotlib v3.3.2, https://matplotlib.org/</dc:title>\n     </cc:Agent>\n    </dc:creator>\n   </cc:Work>\n  </rdf:RDF>\n </metadata>\n <defs>\n  <style type=\"text/css\">*{stroke-linecap:butt;stroke-linejoin:round;}</style>\n </defs>\n <g id=\"figure_1\">\n  <g id=\"patch_1\">\n   <path d=\"M 0 266.374219 \nL 385.908437 266.374219 \nL 385.908437 0 \nL 0 0 \nz\n\" style=\"fill:#ffffff;\"/>\n  </g>\n  <g id=\"axes_1\">\n   <g id=\"patch_2\">\n    <path d=\"M 43.908438 224.64 \nL 378.708438 224.64 \nL 378.708438 7.2 \nL 43.908438 7.2 \nz\n\" style=\"fill:#eaeaf2;\"/>\n   </g>\n   <g id=\"matplotlib.axis_1\">\n    <g id=\"xtick_1\">\n     <g id=\"text_1\">\n      <!-- 0 -->\n      <g style=\"fill:#262626;\" transform=\"translate(124.549922 242.013594)scale(0.11 -0.11)\">\n       <defs>\n        <path d=\"M 4.15625 35.296875 \nQ 4.15625 48 6.765625 55.734375 \nQ 9.375 63.484375 14.515625 67.671875 \nQ 19.671875 71.875 27.484375 71.875 \nQ 33.25 71.875 37.59375 69.546875 \nQ 41.9375 67.234375 44.765625 62.859375 \nQ 47.609375 58.5 49.21875 52.21875 \nQ 50.828125 45.953125 50.828125 35.296875 \nQ 50.828125 22.703125 48.234375 14.96875 \nQ 45.65625 7.234375 40.5 3 \nQ 35.359375 -1.21875 27.484375 -1.21875 \nQ 17.140625 -1.21875 11.234375 6.203125 \nQ 4.15625 15.140625 4.15625 35.296875 \nz\nM 13.1875 35.296875 \nQ 13.1875 17.671875 17.3125 11.828125 \nQ 21.4375 6 27.484375 6 \nQ 33.546875 6 37.671875 11.859375 \nQ 41.796875 17.71875 41.796875 35.296875 \nQ 41.796875 52.984375 37.671875 58.78125 \nQ 33.546875 64.59375 27.390625 64.59375 \nQ 21.34375 64.59375 17.71875 59.46875 \nQ 13.1875 52.9375 13.1875 35.296875 \nz\n\" id=\"ArialMT-48\"/>\n       </defs>\n       <use xlink:href=\"#ArialMT-48\"/>\n      </g>\n     </g>\n    </g>\n    <g id=\"xtick_2\">\n     <g id=\"text_2\">\n      <!-- 1 -->\n      <g style=\"fill:#262626;\" transform=\"translate(291.949922 242.013594)scale(0.11 -0.11)\">\n       <defs>\n        <path d=\"M 37.25 0 \nL 28.46875 0 \nL 28.46875 56 \nQ 25.296875 52.984375 20.140625 49.953125 \nQ 14.984375 46.921875 10.890625 45.40625 \nL 10.890625 53.90625 \nQ 18.265625 57.375 23.78125 62.296875 \nQ 29.296875 67.234375 31.59375 71.875 \nL 37.25 71.875 \nz\n\" id=\"ArialMT-49\"/>\n       </defs>\n       <use xlink:href=\"#ArialMT-49\"/>\n      </g>\n     </g>\n    </g>\n    <g id=\"text_3\">\n     <!-- churn -->\n     <g style=\"fill:#262626;\" transform=\"translate(196.300938 256.789219)scale(0.12 -0.12)\">\n      <defs>\n       <path d=\"M 40.4375 19 \nL 49.078125 17.875 \nQ 47.65625 8.9375 41.8125 3.875 \nQ 35.984375 -1.171875 27.484375 -1.171875 \nQ 16.84375 -1.171875 10.375 5.78125 \nQ 3.90625 12.75 3.90625 25.734375 \nQ 3.90625 34.125 6.6875 40.421875 \nQ 9.46875 46.734375 15.15625 49.875 \nQ 20.84375 53.03125 27.546875 53.03125 \nQ 35.984375 53.03125 41.359375 48.75 \nQ 46.734375 44.484375 48.25 36.625 \nL 39.703125 35.296875 \nQ 38.484375 40.53125 35.375 43.15625 \nQ 32.28125 45.796875 27.875 45.796875 \nQ 21.234375 45.796875 17.078125 41.03125 \nQ 12.9375 36.28125 12.9375 25.984375 \nQ 12.9375 15.53125 16.9375 10.796875 \nQ 20.953125 6.0625 27.390625 6.0625 \nQ 32.5625 6.0625 36.03125 9.234375 \nQ 39.5 12.40625 40.4375 19 \nz\n\" id=\"ArialMT-99\"/>\n       <path d=\"M 6.59375 0 \nL 6.59375 71.578125 \nL 15.375 71.578125 \nL 15.375 45.90625 \nQ 21.53125 53.03125 30.90625 53.03125 \nQ 36.671875 53.03125 40.921875 50.75 \nQ 45.171875 48.484375 47 44.484375 \nQ 48.828125 40.484375 48.828125 32.859375 \nL 48.828125 0 \nL 40.046875 0 \nL 40.046875 32.859375 \nQ 40.046875 39.453125 37.1875 42.453125 \nQ 34.328125 45.453125 29.109375 45.453125 \nQ 25.203125 45.453125 21.75 43.421875 \nQ 18.3125 41.40625 16.84375 37.9375 \nQ 15.375 34.46875 15.375 28.375 \nL 15.375 0 \nz\n\" id=\"ArialMT-104\"/>\n       <path d=\"M 40.578125 0 \nL 40.578125 7.625 \nQ 34.515625 -1.171875 24.125 -1.171875 \nQ 19.53125 -1.171875 15.546875 0.578125 \nQ 11.578125 2.34375 9.640625 5 \nQ 7.71875 7.671875 6.9375 11.53125 \nQ 6.390625 14.109375 6.390625 19.734375 \nL 6.390625 51.859375 \nL 15.1875 51.859375 \nL 15.1875 23.09375 \nQ 15.1875 16.21875 15.71875 13.8125 \nQ 16.546875 10.359375 19.234375 8.375 \nQ 21.921875 6.390625 25.875 6.390625 \nQ 29.828125 6.390625 33.296875 8.421875 \nQ 36.765625 10.453125 38.203125 13.9375 \nQ 39.65625 17.4375 39.65625 24.078125 \nL 39.65625 51.859375 \nL 48.4375 51.859375 \nL 48.4375 0 \nz\n\" id=\"ArialMT-117\"/>\n       <path d=\"M 6.5 0 \nL 6.5 51.859375 \nL 14.40625 51.859375 \nL 14.40625 44 \nQ 17.4375 49.515625 20 51.265625 \nQ 22.5625 53.03125 25.640625 53.03125 \nQ 30.078125 53.03125 34.671875 50.203125 \nL 31.640625 42.046875 \nQ 28.421875 43.953125 25.203125 43.953125 \nQ 22.3125 43.953125 20.015625 42.21875 \nQ 17.71875 40.484375 16.75 37.40625 \nQ 15.28125 32.71875 15.28125 27.15625 \nL 15.28125 0 \nz\n\" id=\"ArialMT-114\"/>\n       <path d=\"M 6.59375 0 \nL 6.59375 51.859375 \nL 14.5 51.859375 \nL 14.5 44.484375 \nQ 20.21875 53.03125 31 53.03125 \nQ 35.6875 53.03125 39.625 51.34375 \nQ 43.5625 49.65625 45.515625 46.921875 \nQ 47.46875 44.1875 48.25 40.4375 \nQ 48.734375 37.984375 48.734375 31.890625 \nL 48.734375 0 \nL 39.9375 0 \nL 39.9375 31.546875 \nQ 39.9375 36.921875 38.90625 39.578125 \nQ 37.890625 42.234375 35.28125 43.8125 \nQ 32.671875 45.40625 29.15625 45.40625 \nQ 23.53125 45.40625 19.453125 41.84375 \nQ 15.375 38.28125 15.375 28.328125 \nL 15.375 0 \nz\n\" id=\"ArialMT-110\"/>\n      </defs>\n      <use xlink:href=\"#ArialMT-99\"/>\n      <use x=\"50\" xlink:href=\"#ArialMT-104\"/>\n      <use x=\"105.615234\" xlink:href=\"#ArialMT-117\"/>\n      <use x=\"161.230469\" xlink:href=\"#ArialMT-114\"/>\n      <use x=\"194.53125\" xlink:href=\"#ArialMT-110\"/>\n     </g>\n    </g>\n   </g>\n   <g id=\"matplotlib.axis_2\">\n    <g id=\"ytick_1\">\n     <g id=\"line2d_1\">\n      <path clip-path=\"url(#p6432f88938)\" d=\"M 43.908438 224.64 \nL 378.708438 224.64 \n\" style=\"fill:none;stroke:#ffffff;stroke-linecap:round;\"/>\n     </g>\n     <g id=\"text_4\">\n      <!-- 0 -->\n      <g style=\"fill:#262626;\" transform=\"translate(28.291406 228.576797)scale(0.11 -0.11)\">\n       <use xlink:href=\"#ArialMT-48\"/>\n      </g>\n     </g>\n    </g>\n    <g id=\"ytick_2\">\n     <g id=\"line2d_2\">\n      <path clip-path=\"url(#p6432f88938)\" d=\"M 43.908438 178.103884 \nL 378.708438 178.103884 \n\" style=\"fill:none;stroke:#ffffff;stroke-linecap:round;\"/>\n     </g>\n     <g id=\"text_5\">\n      <!-- 20 -->\n      <g style=\"fill:#262626;\" transform=\"translate(22.174375 182.040681)scale(0.11 -0.11)\">\n       <defs>\n        <path d=\"M 50.34375 8.453125 \nL 50.34375 0 \nL 3.03125 0 \nQ 2.9375 3.171875 4.046875 6.109375 \nQ 5.859375 10.9375 9.828125 15.625 \nQ 13.8125 20.3125 21.34375 26.46875 \nQ 33.015625 36.03125 37.109375 41.625 \nQ 41.21875 47.21875 41.21875 52.203125 \nQ 41.21875 57.421875 37.46875 61 \nQ 33.734375 64.59375 27.734375 64.59375 \nQ 21.390625 64.59375 17.578125 60.78125 \nQ 13.765625 56.984375 13.71875 50.25 \nL 4.6875 51.171875 \nQ 5.609375 61.28125 11.65625 66.578125 \nQ 17.71875 71.875 27.9375 71.875 \nQ 38.234375 71.875 44.234375 66.15625 \nQ 50.25 60.453125 50.25 52 \nQ 50.25 47.703125 48.484375 43.546875 \nQ 46.734375 39.40625 42.65625 34.8125 \nQ 38.578125 30.21875 29.109375 22.21875 \nQ 21.1875 15.578125 18.9375 13.203125 \nQ 16.703125 10.84375 15.234375 8.453125 \nz\n\" id=\"ArialMT-50\"/>\n       </defs>\n       <use xlink:href=\"#ArialMT-50\"/>\n       <use x=\"55.615234\" xlink:href=\"#ArialMT-48\"/>\n      </g>\n     </g>\n    </g>\n    <g id=\"ytick_3\">\n     <g id=\"line2d_3\">\n      <path clip-path=\"url(#p6432f88938)\" d=\"M 43.908438 131.567769 \nL 378.708438 131.567769 \n\" style=\"fill:none;stroke:#ffffff;stroke-linecap:round;\"/>\n     </g>\n     <g id=\"text_6\">\n      <!-- 40 -->\n      <g style=\"fill:#262626;\" transform=\"translate(22.174375 135.504566)scale(0.11 -0.11)\">\n       <defs>\n        <path d=\"M 32.328125 0 \nL 32.328125 17.140625 \nL 1.265625 17.140625 \nL 1.265625 25.203125 \nL 33.9375 71.578125 \nL 41.109375 71.578125 \nL 41.109375 25.203125 \nL 50.78125 25.203125 \nL 50.78125 17.140625 \nL 41.109375 17.140625 \nL 41.109375 0 \nz\nM 32.328125 25.203125 \nL 32.328125 57.46875 \nL 9.90625 25.203125 \nz\n\" id=\"ArialMT-52\"/>\n       </defs>\n       <use xlink:href=\"#ArialMT-52\"/>\n       <use x=\"55.615234\" xlink:href=\"#ArialMT-48\"/>\n      </g>\n     </g>\n    </g>\n    <g id=\"ytick_4\">\n     <g id=\"line2d_4\">\n      <path clip-path=\"url(#p6432f88938)\" d=\"M 43.908438 85.031653 \nL 378.708438 85.031653 \n\" style=\"fill:none;stroke:#ffffff;stroke-linecap:round;\"/>\n     </g>\n     <g id=\"text_7\">\n      <!-- 60 -->\n      <g style=\"fill:#262626;\" transform=\"translate(22.174375 88.96845)scale(0.11 -0.11)\">\n       <defs>\n        <path d=\"M 49.75 54.046875 \nL 41.015625 53.375 \nQ 39.84375 58.546875 37.703125 60.890625 \nQ 34.125 64.65625 28.90625 64.65625 \nQ 24.703125 64.65625 21.53125 62.3125 \nQ 17.390625 59.28125 14.984375 53.46875 \nQ 12.59375 47.65625 12.5 36.921875 \nQ 15.671875 41.75 20.265625 44.09375 \nQ 24.859375 46.4375 29.890625 46.4375 \nQ 38.671875 46.4375 44.84375 39.96875 \nQ 51.03125 33.5 51.03125 23.25 \nQ 51.03125 16.5 48.125 10.71875 \nQ 45.21875 4.9375 40.140625 1.859375 \nQ 35.0625 -1.21875 28.609375 -1.21875 \nQ 17.625 -1.21875 10.6875 6.859375 \nQ 3.765625 14.9375 3.765625 33.5 \nQ 3.765625 54.25 11.421875 63.671875 \nQ 18.109375 71.875 29.4375 71.875 \nQ 37.890625 71.875 43.28125 67.140625 \nQ 48.6875 62.40625 49.75 54.046875 \nz\nM 13.875 23.1875 \nQ 13.875 18.65625 15.796875 14.5 \nQ 17.71875 10.359375 21.1875 8.171875 \nQ 24.65625 6 28.46875 6 \nQ 34.03125 6 38.03125 10.484375 \nQ 42.046875 14.984375 42.046875 22.703125 \nQ 42.046875 30.125 38.078125 34.390625 \nQ 34.125 38.671875 28.125 38.671875 \nQ 22.171875 38.671875 18.015625 34.390625 \nQ 13.875 30.125 13.875 23.1875 \nz\n\" id=\"ArialMT-54\"/>\n       </defs>\n       <use xlink:href=\"#ArialMT-54\"/>\n       <use x=\"55.615234\" xlink:href=\"#ArialMT-48\"/>\n      </g>\n     </g>\n    </g>\n    <g id=\"ytick_5\">\n     <g id=\"line2d_5\">\n      <path clip-path=\"url(#p6432f88938)\" d=\"M 43.908438 38.495538 \nL 378.708438 38.495538 \n\" style=\"fill:none;stroke:#ffffff;stroke-linecap:round;\"/>\n     </g>\n     <g id=\"text_8\">\n      <!-- 80 -->\n      <g style=\"fill:#262626;\" transform=\"translate(22.174375 42.432335)scale(0.11 -0.11)\">\n       <defs>\n        <path d=\"M 17.671875 38.8125 \nQ 12.203125 40.828125 9.5625 44.53125 \nQ 6.9375 48.25 6.9375 53.421875 \nQ 6.9375 61.234375 12.546875 66.546875 \nQ 18.171875 71.875 27.484375 71.875 \nQ 36.859375 71.875 42.578125 66.421875 \nQ 48.296875 60.984375 48.296875 53.171875 \nQ 48.296875 48.1875 45.671875 44.5 \nQ 43.0625 40.828125 37.75 38.8125 \nQ 44.34375 36.671875 47.78125 31.875 \nQ 51.21875 27.09375 51.21875 20.453125 \nQ 51.21875 11.28125 44.71875 5.03125 \nQ 38.234375 -1.21875 27.640625 -1.21875 \nQ 17.046875 -1.21875 10.546875 5.046875 \nQ 4.046875 11.328125 4.046875 20.703125 \nQ 4.046875 27.6875 7.59375 32.390625 \nQ 11.140625 37.109375 17.671875 38.8125 \nz\nM 15.921875 53.71875 \nQ 15.921875 48.640625 19.1875 45.40625 \nQ 22.46875 42.1875 27.6875 42.1875 \nQ 32.765625 42.1875 36.015625 45.375 \nQ 39.265625 48.578125 39.265625 53.21875 \nQ 39.265625 58.0625 35.90625 61.359375 \nQ 32.5625 64.65625 27.59375 64.65625 \nQ 22.5625 64.65625 19.234375 61.421875 \nQ 15.921875 58.203125 15.921875 53.71875 \nz\nM 13.09375 20.65625 \nQ 13.09375 16.890625 14.875 13.375 \nQ 16.65625 9.859375 20.171875 7.921875 \nQ 23.6875 6 27.734375 6 \nQ 34.03125 6 38.125 10.046875 \nQ 42.234375 14.109375 42.234375 20.359375 \nQ 42.234375 26.703125 38.015625 30.859375 \nQ 33.796875 35.015625 27.4375 35.015625 \nQ 21.234375 35.015625 17.15625 30.90625 \nQ 13.09375 26.8125 13.09375 20.65625 \nz\n\" id=\"ArialMT-56\"/>\n       </defs>\n       <use xlink:href=\"#ArialMT-56\"/>\n       <use x=\"55.615234\" xlink:href=\"#ArialMT-48\"/>\n      </g>\n     </g>\n    </g>\n    <g id=\"text_9\">\n     <!-- count -->\n     <g style=\"fill:#262626;\" transform=\"translate(15.789375 130.596562)rotate(-90)scale(0.12 -0.12)\">\n      <defs>\n       <path d=\"M 3.328125 25.921875 \nQ 3.328125 40.328125 11.328125 47.265625 \nQ 18.015625 53.03125 27.640625 53.03125 \nQ 38.328125 53.03125 45.109375 46.015625 \nQ 51.90625 39.015625 51.90625 26.65625 \nQ 51.90625 16.65625 48.90625 10.90625 \nQ 45.90625 5.171875 40.15625 2 \nQ 34.421875 -1.171875 27.640625 -1.171875 \nQ 16.75 -1.171875 10.03125 5.8125 \nQ 3.328125 12.796875 3.328125 25.921875 \nz\nM 12.359375 25.921875 \nQ 12.359375 15.96875 16.703125 11.015625 \nQ 21.046875 6.0625 27.640625 6.0625 \nQ 34.1875 6.0625 38.53125 11.03125 \nQ 42.875 16.015625 42.875 26.21875 \nQ 42.875 35.84375 38.5 40.796875 \nQ 34.125 45.75 27.640625 45.75 \nQ 21.046875 45.75 16.703125 40.8125 \nQ 12.359375 35.890625 12.359375 25.921875 \nz\n\" id=\"ArialMT-111\"/>\n       <path d=\"M 25.78125 7.859375 \nL 27.046875 0.09375 \nQ 23.34375 -0.6875 20.40625 -0.6875 \nQ 15.625 -0.6875 12.984375 0.828125 \nQ 10.359375 2.34375 9.28125 4.8125 \nQ 8.203125 7.28125 8.203125 15.1875 \nL 8.203125 45.015625 \nL 1.765625 45.015625 \nL 1.765625 51.859375 \nL 8.203125 51.859375 \nL 8.203125 64.703125 \nL 16.9375 69.96875 \nL 16.9375 51.859375 \nL 25.78125 51.859375 \nL 25.78125 45.015625 \nL 16.9375 45.015625 \nL 16.9375 14.703125 \nQ 16.9375 10.9375 17.40625 9.859375 \nQ 17.875 8.796875 18.921875 8.15625 \nQ 19.96875 7.515625 21.921875 7.515625 \nQ 23.390625 7.515625 25.78125 7.859375 \nz\n\" id=\"ArialMT-116\"/>\n      </defs>\n      <use xlink:href=\"#ArialMT-99\"/>\n      <use x=\"50\" xlink:href=\"#ArialMT-111\"/>\n      <use x=\"105.615234\" xlink:href=\"#ArialMT-117\"/>\n      <use x=\"161.230469\" xlink:href=\"#ArialMT-110\"/>\n      <use x=\"216.845703\" xlink:href=\"#ArialMT-116\"/>\n     </g>\n    </g>\n   </g>\n   <g id=\"patch_3\">\n    <path clip-path=\"url(#p6432f88938)\" d=\"M 60.648438 224.64 \nL 127.608438 224.64 \nL 127.608438 29.188315 \nL 60.648438 29.188315 \nz\n\" style=\"fill:#5875a4;stroke:#ffffff;stroke-linejoin:miter;\"/>\n   </g>\n   <g id=\"patch_4\">\n    <path clip-path=\"url(#p6432f88938)\" d=\"M 228.048438 224.64 \nL 295.008438 224.64 \nL 295.008438 178.103884 \nL 228.048438 178.103884 \nz\n\" style=\"fill:#5875a4;stroke:#ffffff;stroke-linejoin:miter;\"/>\n   </g>\n   <g id=\"patch_5\">\n    <path clip-path=\"url(#p6432f88938)\" d=\"M 127.608438 224.64 \nL 194.568438 224.64 \nL 194.568438 17.554286 \nL 127.608438 17.554286 \nz\n\" style=\"fill:#cc8963;stroke:#ffffff;stroke-linejoin:miter;\"/>\n   </g>\n   <g id=\"patch_6\">\n    <path clip-path=\"url(#p6432f88938)\" d=\"M 295.008438 224.64 \nL 361.968438 224.64 \nL 361.968438 150.182215 \nL 295.008438 150.182215 \nz\n\" style=\"fill:#cc8963;stroke:#ffffff;stroke-linejoin:miter;\"/>\n   </g>\n   <g id=\"line2d_6\">\n    <path clip-path=\"url(#p6432f88938)\" d=\"M 0 0 \n\" style=\"fill:none;stroke:#424242;stroke-linecap:round;stroke-width:2.7;\"/>\n   </g>\n   <g id=\"line2d_7\">\n    <path clip-path=\"url(#p6432f88938)\" d=\"M 0 0 \n\" style=\"fill:none;stroke:#424242;stroke-linecap:round;stroke-width:2.7;\"/>\n   </g>\n   <g id=\"line2d_8\">\n    <path clip-path=\"url(#p6432f88938)\" d=\"M 0 0 \n\" style=\"fill:none;stroke:#424242;stroke-linecap:round;stroke-width:2.7;\"/>\n   </g>\n   <g id=\"line2d_9\">\n    <path clip-path=\"url(#p6432f88938)\" d=\"M 0 0 \n\" style=\"fill:none;stroke:#424242;stroke-linecap:round;stroke-width:2.7;\"/>\n   </g>\n   <g id=\"patch_7\">\n    <path d=\"M 43.908438 224.64 \nL 43.908438 7.2 \n\" style=\"fill:none;stroke:#ffffff;stroke-linecap:square;stroke-linejoin:miter;stroke-width:1.25;\"/>\n   </g>\n   <g id=\"patch_8\">\n    <path d=\"M 378.708438 224.64 \nL 378.708438 7.2 \n\" style=\"fill:none;stroke:#ffffff;stroke-linecap:square;stroke-linejoin:miter;stroke-width:1.25;\"/>\n   </g>\n   <g id=\"patch_9\">\n    <path d=\"M 43.908438 224.64 \nL 378.708438 224.64 \n\" style=\"fill:none;stroke:#ffffff;stroke-linecap:square;stroke-linejoin:miter;stroke-width:1.25;\"/>\n   </g>\n   <g id=\"patch_10\">\n    <path d=\"M 43.908438 7.2 \nL 378.708438 7.2 \n\" style=\"fill:none;stroke:#ffffff;stroke-linecap:square;stroke-linejoin:miter;stroke-width:1.25;\"/>\n   </g>\n   <g id=\"legend_1\">\n    <g id=\"patch_11\">\n     <path d=\"M 326.645781 63.734687 \nL 371.008438 63.734687 \nQ 373.208438 63.734687 373.208438 61.534687 \nL 373.208438 14.9 \nQ 373.208438 12.7 371.008438 12.7 \nL 326.645781 12.7 \nQ 324.445781 12.7 324.445781 14.9 \nL 324.445781 61.534687 \nQ 324.445781 63.734687 326.645781 63.734687 \nz\n\" style=\"fill:#eaeaf2;opacity:0.8;stroke:#cccccc;stroke-linejoin:miter;\"/>\n    </g>\n    <g id=\"text_10\">\n     <!-- gender -->\n     <g style=\"fill:#262626;\" transform=\"translate(330.146484 25.689375)scale(0.12 -0.12)\">\n      <defs>\n       <path d=\"M 4.984375 -4.296875 \nL 13.53125 -5.5625 \nQ 14.0625 -9.515625 16.5 -11.328125 \nQ 19.78125 -13.765625 25.4375 -13.765625 \nQ 31.546875 -13.765625 34.859375 -11.328125 \nQ 38.1875 -8.890625 39.359375 -4.5 \nQ 40.046875 -1.8125 39.984375 6.78125 \nQ 34.234375 0 25.640625 0 \nQ 14.9375 0 9.078125 7.71875 \nQ 3.21875 15.4375 3.21875 26.21875 \nQ 3.21875 33.640625 5.90625 39.90625 \nQ 8.59375 46.1875 13.6875 49.609375 \nQ 18.796875 53.03125 25.6875 53.03125 \nQ 34.859375 53.03125 40.828125 45.609375 \nL 40.828125 51.859375 \nL 48.921875 51.859375 \nL 48.921875 7.03125 \nQ 48.921875 -5.078125 46.453125 -10.125 \nQ 44 -15.1875 38.640625 -18.109375 \nQ 33.296875 -21.046875 25.484375 -21.046875 \nQ 16.21875 -21.046875 10.5 -16.875 \nQ 4.78125 -12.703125 4.984375 -4.296875 \nz\nM 12.25 26.859375 \nQ 12.25 16.65625 16.296875 11.96875 \nQ 20.359375 7.28125 26.46875 7.28125 \nQ 32.515625 7.28125 36.609375 11.9375 \nQ 40.71875 16.609375 40.71875 26.5625 \nQ 40.71875 36.078125 36.5 40.90625 \nQ 32.28125 45.75 26.3125 45.75 \nQ 20.453125 45.75 16.34375 40.984375 \nQ 12.25 36.234375 12.25 26.859375 \nz\n\" id=\"ArialMT-103\"/>\n       <path d=\"M 42.09375 16.703125 \nL 51.171875 15.578125 \nQ 49.03125 7.625 43.21875 3.21875 \nQ 37.40625 -1.171875 28.375 -1.171875 \nQ 17 -1.171875 10.328125 5.828125 \nQ 3.65625 12.84375 3.65625 25.484375 \nQ 3.65625 38.578125 10.390625 45.796875 \nQ 17.140625 53.03125 27.875 53.03125 \nQ 38.28125 53.03125 44.875 45.953125 \nQ 51.46875 38.875 51.46875 26.03125 \nQ 51.46875 25.25 51.421875 23.6875 \nL 12.75 23.6875 \nQ 13.234375 15.140625 17.578125 10.59375 \nQ 21.921875 6.0625 28.421875 6.0625 \nQ 33.25 6.0625 36.671875 8.59375 \nQ 40.09375 11.140625 42.09375 16.703125 \nz\nM 13.234375 30.90625 \nL 42.1875 30.90625 \nQ 41.609375 37.453125 38.875 40.71875 \nQ 34.671875 45.796875 27.984375 45.796875 \nQ 21.921875 45.796875 17.796875 41.75 \nQ 13.671875 37.703125 13.234375 30.90625 \nz\n\" id=\"ArialMT-101\"/>\n       <path d=\"M 40.234375 0 \nL 40.234375 6.546875 \nQ 35.296875 -1.171875 25.734375 -1.171875 \nQ 19.53125 -1.171875 14.328125 2.25 \nQ 9.125 5.671875 6.265625 11.796875 \nQ 3.421875 17.921875 3.421875 25.875 \nQ 3.421875 33.640625 6 39.96875 \nQ 8.59375 46.296875 13.765625 49.65625 \nQ 18.953125 53.03125 25.34375 53.03125 \nQ 30.03125 53.03125 33.6875 51.046875 \nQ 37.359375 49.078125 39.65625 45.90625 \nL 39.65625 71.578125 \nL 48.390625 71.578125 \nL 48.390625 0 \nz\nM 12.453125 25.875 \nQ 12.453125 15.921875 16.640625 10.984375 \nQ 20.84375 6.0625 26.5625 6.0625 \nQ 32.328125 6.0625 36.34375 10.765625 \nQ 40.375 15.484375 40.375 25.140625 \nQ 40.375 35.796875 36.265625 40.765625 \nQ 32.171875 45.75 26.171875 45.75 \nQ 20.3125 45.75 16.375 40.96875 \nQ 12.453125 36.1875 12.453125 25.875 \nz\n\" id=\"ArialMT-100\"/>\n      </defs>\n      <use xlink:href=\"#ArialMT-103\"/>\n      <use x=\"55.615234\" xlink:href=\"#ArialMT-101\"/>\n      <use x=\"111.230469\" xlink:href=\"#ArialMT-110\"/>\n      <use x=\"166.845703\" xlink:href=\"#ArialMT-100\"/>\n      <use x=\"222.460938\" xlink:href=\"#ArialMT-101\"/>\n      <use x=\"278.076172\" xlink:href=\"#ArialMT-114\"/>\n     </g>\n    </g>\n    <g id=\"patch_12\">\n     <path d=\"M 328.845781 41.588594 \nL 350.845781 41.588594 \nL 350.845781 33.888594 \nL 328.845781 33.888594 \nz\n\" style=\"fill:#5875a4;stroke:#ffffff;stroke-linejoin:miter;\"/>\n    </g>\n    <g id=\"text_11\">\n     <!-- F -->\n     <g style=\"fill:#262626;\" transform=\"translate(359.645781 41.588594)scale(0.11 -0.11)\">\n      <defs>\n       <path d=\"M 8.203125 0 \nL 8.203125 71.578125 \nL 56.5 71.578125 \nL 56.5 63.140625 \nL 17.671875 63.140625 \nL 17.671875 40.96875 \nL 51.265625 40.96875 \nL 51.265625 32.515625 \nL 17.671875 32.515625 \nL 17.671875 0 \nz\n\" id=\"ArialMT-70\"/>\n      </defs>\n      <use xlink:href=\"#ArialMT-70\"/>\n     </g>\n    </g>\n    <g id=\"patch_13\">\n     <path d=\"M 328.845781 57.148437 \nL 350.845781 57.148437 \nL 350.845781 49.448437 \nL 328.845781 49.448437 \nz\n\" style=\"fill:#cc8963;stroke:#ffffff;stroke-linejoin:miter;\"/>\n    </g>\n    <g id=\"text_12\">\n     <!-- M -->\n     <g style=\"fill:#262626;\" transform=\"translate(359.645781 57.148437)scale(0.11 -0.11)\">\n      <defs>\n       <path d=\"M 7.421875 0 \nL 7.421875 71.578125 \nL 21.6875 71.578125 \nL 38.625 20.90625 \nQ 40.96875 13.8125 42.046875 10.296875 \nQ 43.265625 14.203125 45.84375 21.78125 \nL 62.984375 71.578125 \nL 75.734375 71.578125 \nL 75.734375 0 \nL 66.609375 0 \nL 66.609375 59.90625 \nL 45.796875 0 \nL 37.25 0 \nL 16.546875 60.9375 \nL 16.546875 0 \nz\n\" id=\"ArialMT-77\"/>\n      </defs>\n      <use xlink:href=\"#ArialMT-77\"/>\n     </g>\n    </g>\n   </g>\n  </g>\n </g>\n <defs>\n  <clipPath id=\"p6432f88938\">\n   <rect height=\"217.44\" width=\"334.8\" x=\"43.908438\" y=\"7.2\"/>\n  </clipPath>\n </defs>\n</svg>\n",
      "image/png": "[encoded data removed]"
     },
     "metadata": {}
    }
   ],
   "source": [
    "#distribution of churn users and normal users, deduplicated\n",
    "gender_churn_df = show_gender_churn_dist()"
   ]
  },
  {
   "cell_type": "code",
   "execution_count": 35,
   "metadata": {},
   "outputs": [
    {
     "output_type": "display_data",
     "data": {
      "text/plain": "<Figure size 720x360 with 1 Axes>",
      "image/svg+xml": "<?xml version=\"1.0\" encoding=\"utf-8\" standalone=\"no\"?>\n<!DOCTYPE svg PUBLIC \"-//W3C//DTD SVG 1.1//EN\"\n  \"http://www.w3.org/Graphics/SVG/1.1/DTD/svg11.dtd\">\n<!-- Created with matplotlib (https://matplotlib.org/) -->\n<svg height=\"436.619219pt\" version=\"1.1\" viewBox=\"0 0 588.017031 436.619219\" width=\"588.017031pt\" xmlns=\"http://www.w3.org/2000/svg\" xmlns:xlink=\"http://www.w3.org/1999/xlink\">\n <metadata>\n  <rdf:RDF xmlns:cc=\"http://creativecommons.org/ns#\" xmlns:dc=\"http://purl.org/dc/elements/1.1/\" xmlns:rdf=\"http://www.w3.org/1999/02/22-rdf-syntax-ns#\">\n   <cc:Work>\n    <dc:type rdf:resource=\"http://purl.org/dc/dcmitype/StillImage\"/>\n    <dc:date>2021-04-24T15:10:09.246598</dc:date>\n    <dc:format>image/svg+xml</dc:format>\n    <dc:creator>\n     <cc:Agent>\n      <dc:title>Matplotlib v3.3.2, https://matplotlib.org/</dc:title>\n     </cc:Agent>\n    </dc:creator>\n   </cc:Work>\n  </rdf:RDF>\n </metadata>\n <defs>\n  <style type=\"text/css\">*{stroke-linecap:butt;stroke-linejoin:round;}</style>\n </defs>\n <g id=\"figure_1\">\n  <g id=\"patch_1\">\n   <path d=\"M 0 436.619219 \nL 588.017031 436.619219 \nL 588.017031 0 \nL 0 0 \nz\n\" style=\"fill:#ffffff;\"/>\n  </g>\n  <g id=\"axes_1\">\n   <g id=\"patch_2\">\n    <path d=\"M 22.817031 279 \nL 580.817031 279 \nL 580.817031 7.2 \nL 22.817031 7.2 \nz\n\" style=\"fill:#eaeaf2;\"/>\n   </g>\n   <g id=\"matplotlib.axis_1\">\n    <g id=\"xtick_1\">\n     <g id=\"line2d_1\">\n      <path clip-path=\"url(#pfb4ed7c3f3)\" d=\"M 38.317031 279 \nL 38.317031 7.2 \n\" style=\"fill:none;stroke:#ffffff;stroke-linecap:round;\"/>\n     </g>\n     <g id=\"text_1\">\n      <!-- About -->\n      <g style=\"fill:#262626;\" transform=\"translate(41.160703 317.244375)rotate(-90)scale(0.11 -0.11)\">\n       <defs>\n        <path d=\"M -0.140625 0 \nL 27.34375 71.578125 \nL 37.546875 71.578125 \nL 66.84375 0 \nL 56.0625 0 \nL 47.703125 21.6875 \nL 17.78125 21.6875 \nL 9.90625 0 \nz\nM 20.515625 29.390625 \nL 44.78125 29.390625 \nL 37.3125 49.21875 \nQ 33.890625 58.25 32.234375 64.0625 \nQ 30.859375 57.171875 28.375 50.390625 \nz\n\" id=\"ArialMT-65\"/>\n        <path d=\"M 14.703125 0 \nL 6.546875 0 \nL 6.546875 71.578125 \nL 15.328125 71.578125 \nL 15.328125 46.046875 \nQ 20.90625 53.03125 29.546875 53.03125 \nQ 34.328125 53.03125 38.59375 51.09375 \nQ 42.875 49.171875 45.625 45.671875 \nQ 48.390625 42.1875 49.953125 37.25 \nQ 51.515625 32.328125 51.515625 26.703125 \nQ 51.515625 13.375 44.921875 6.09375 \nQ 38.328125 -1.171875 29.109375 -1.171875 \nQ 19.921875 -1.171875 14.703125 6.5 \nz\nM 14.59375 26.3125 \nQ 14.59375 17 17.140625 12.84375 \nQ 21.296875 6.0625 28.375 6.0625 \nQ 34.125 6.0625 38.328125 11.0625 \nQ 42.53125 16.0625 42.53125 25.984375 \nQ 42.53125 36.140625 38.5 40.96875 \nQ 34.46875 45.796875 28.765625 45.796875 \nQ 23 45.796875 18.796875 40.796875 \nQ 14.59375 35.796875 14.59375 26.3125 \nz\n\" id=\"ArialMT-98\"/>\n        <path d=\"M 3.328125 25.921875 \nQ 3.328125 40.328125 11.328125 47.265625 \nQ 18.015625 53.03125 27.640625 53.03125 \nQ 38.328125 53.03125 45.109375 46.015625 \nQ 51.90625 39.015625 51.90625 26.65625 \nQ 51.90625 16.65625 48.90625 10.90625 \nQ 45.90625 5.171875 40.15625 2 \nQ 34.421875 -1.171875 27.640625 -1.171875 \nQ 16.75 -1.171875 10.03125 5.8125 \nQ 3.328125 12.796875 3.328125 25.921875 \nz\nM 12.359375 25.921875 \nQ 12.359375 15.96875 16.703125 11.015625 \nQ 21.046875 6.0625 27.640625 6.0625 \nQ 34.1875 6.0625 38.53125 11.03125 \nQ 42.875 16.015625 42.875 26.21875 \nQ 42.875 35.84375 38.5 40.796875 \nQ 34.125 45.75 27.640625 45.75 \nQ 21.046875 45.75 16.703125 40.8125 \nQ 12.359375 35.890625 12.359375 25.921875 \nz\n\" id=\"ArialMT-111\"/>\n        <path d=\"M 40.578125 0 \nL 40.578125 7.625 \nQ 34.515625 -1.171875 24.125 -1.171875 \nQ 19.53125 -1.171875 15.546875 0.578125 \nQ 11.578125 2.34375 9.640625 5 \nQ 7.71875 7.671875 6.9375 11.53125 \nQ 6.390625 14.109375 6.390625 19.734375 \nL 6.390625 51.859375 \nL 15.1875 51.859375 \nL 15.1875 23.09375 \nQ 15.1875 16.21875 15.71875 13.8125 \nQ 16.546875 10.359375 19.234375 8.375 \nQ 21.921875 6.390625 25.875 6.390625 \nQ 29.828125 6.390625 33.296875 8.421875 \nQ 36.765625 10.453125 38.203125 13.9375 \nQ 39.65625 17.4375 39.65625 24.078125 \nL 39.65625 51.859375 \nL 48.4375 51.859375 \nL 48.4375 0 \nz\n\" id=\"ArialMT-117\"/>\n        <path d=\"M 25.78125 7.859375 \nL 27.046875 0.09375 \nQ 23.34375 -0.6875 20.40625 -0.6875 \nQ 15.625 -0.6875 12.984375 0.828125 \nQ 10.359375 2.34375 9.28125 4.8125 \nQ 8.203125 7.28125 8.203125 15.1875 \nL 8.203125 45.015625 \nL 1.765625 45.015625 \nL 1.765625 51.859375 \nL 8.203125 51.859375 \nL 8.203125 64.703125 \nL 16.9375 69.96875 \nL 16.9375 51.859375 \nL 25.78125 51.859375 \nL 25.78125 45.015625 \nL 16.9375 45.015625 \nL 16.9375 14.703125 \nQ 16.9375 10.9375 17.40625 9.859375 \nQ 17.875 8.796875 18.921875 8.15625 \nQ 19.96875 7.515625 21.921875 7.515625 \nQ 23.390625 7.515625 25.78125 7.859375 \nz\n\" id=\"ArialMT-116\"/>\n       </defs>\n       <use xlink:href=\"#ArialMT-65\"/>\n       <use x=\"66.699219\" xlink:href=\"#ArialMT-98\"/>\n       <use x=\"122.314453\" xlink:href=\"#ArialMT-111\"/>\n       <use x=\"177.929688\" xlink:href=\"#ArialMT-117\"/>\n       <use x=\"233.544922\" xlink:href=\"#ArialMT-116\"/>\n      </g>\n     </g>\n    </g>\n    <g id=\"xtick_2\">\n     <g id=\"line2d_2\">\n      <path clip-path=\"url(#pfb4ed7c3f3)\" d=\"M 69.317031 279 \nL 69.317031 7.2 \n\" style=\"fill:none;stroke:#ffffff;stroke-linecap:round;\"/>\n     </g>\n     <g id=\"text_2\">\n      <!-- Add Friend -->\n      <g style=\"fill:#262626;\" transform=\"translate(72.160703 342.30375)rotate(-90)scale(0.11 -0.11)\">\n       <defs>\n        <path d=\"M 40.234375 0 \nL 40.234375 6.546875 \nQ 35.296875 -1.171875 25.734375 -1.171875 \nQ 19.53125 -1.171875 14.328125 2.25 \nQ 9.125 5.671875 6.265625 11.796875 \nQ 3.421875 17.921875 3.421875 25.875 \nQ 3.421875 33.640625 6 39.96875 \nQ 8.59375 46.296875 13.765625 49.65625 \nQ 18.953125 53.03125 25.34375 53.03125 \nQ 30.03125 53.03125 33.6875 51.046875 \nQ 37.359375 49.078125 39.65625 45.90625 \nL 39.65625 71.578125 \nL 48.390625 71.578125 \nL 48.390625 0 \nz\nM 12.453125 25.875 \nQ 12.453125 15.921875 16.640625 10.984375 \nQ 20.84375 6.0625 26.5625 6.0625 \nQ 32.328125 6.0625 36.34375 10.765625 \nQ 40.375 15.484375 40.375 25.140625 \nQ 40.375 35.796875 36.265625 40.765625 \nQ 32.171875 45.75 26.171875 45.75 \nQ 20.3125 45.75 16.375 40.96875 \nQ 12.453125 36.1875 12.453125 25.875 \nz\n\" id=\"ArialMT-100\"/>\n        <path id=\"ArialMT-32\"/>\n        <path d=\"M 8.203125 0 \nL 8.203125 71.578125 \nL 56.5 71.578125 \nL 56.5 63.140625 \nL 17.671875 63.140625 \nL 17.671875 40.96875 \nL 51.265625 40.96875 \nL 51.265625 32.515625 \nL 17.671875 32.515625 \nL 17.671875 0 \nz\n\" id=\"ArialMT-70\"/>\n        <path d=\"M 6.5 0 \nL 6.5 51.859375 \nL 14.40625 51.859375 \nL 14.40625 44 \nQ 17.4375 49.515625 20 51.265625 \nQ 22.5625 53.03125 25.640625 53.03125 \nQ 30.078125 53.03125 34.671875 50.203125 \nL 31.640625 42.046875 \nQ 28.421875 43.953125 25.203125 43.953125 \nQ 22.3125 43.953125 20.015625 42.21875 \nQ 17.71875 40.484375 16.75 37.40625 \nQ 15.28125 32.71875 15.28125 27.15625 \nL 15.28125 0 \nz\n\" id=\"ArialMT-114\"/>\n        <path d=\"M 6.640625 61.46875 \nL 6.640625 71.578125 \nL 15.4375 71.578125 \nL 15.4375 61.46875 \nz\nM 6.640625 0 \nL 6.640625 51.859375 \nL 15.4375 51.859375 \nL 15.4375 0 \nz\n\" id=\"ArialMT-105\"/>\n        <path d=\"M 42.09375 16.703125 \nL 51.171875 15.578125 \nQ 49.03125 7.625 43.21875 3.21875 \nQ 37.40625 -1.171875 28.375 -1.171875 \nQ 17 -1.171875 10.328125 5.828125 \nQ 3.65625 12.84375 3.65625 25.484375 \nQ 3.65625 38.578125 10.390625 45.796875 \nQ 17.140625 53.03125 27.875 53.03125 \nQ 38.28125 53.03125 44.875 45.953125 \nQ 51.46875 38.875 51.46875 26.03125 \nQ 51.46875 25.25 51.421875 23.6875 \nL 12.75 23.6875 \nQ 13.234375 15.140625 17.578125 10.59375 \nQ 21.921875 6.0625 28.421875 6.0625 \nQ 33.25 6.0625 36.671875 8.59375 \nQ 40.09375 11.140625 42.09375 16.703125 \nz\nM 13.234375 30.90625 \nL 42.1875 30.90625 \nQ 41.609375 37.453125 38.875 40.71875 \nQ 34.671875 45.796875 27.984375 45.796875 \nQ 21.921875 45.796875 17.796875 41.75 \nQ 13.671875 37.703125 13.234375 30.90625 \nz\n\" id=\"ArialMT-101\"/>\n        <path d=\"M 6.59375 0 \nL 6.59375 51.859375 \nL 14.5 51.859375 \nL 14.5 44.484375 \nQ 20.21875 53.03125 31 53.03125 \nQ 35.6875 53.03125 39.625 51.34375 \nQ 43.5625 49.65625 45.515625 46.921875 \nQ 47.46875 44.1875 48.25 40.4375 \nQ 48.734375 37.984375 48.734375 31.890625 \nL 48.734375 0 \nL 39.9375 0 \nL 39.9375 31.546875 \nQ 39.9375 36.921875 38.90625 39.578125 \nQ 37.890625 42.234375 35.28125 43.8125 \nQ 32.671875 45.40625 29.15625 45.40625 \nQ 23.53125 45.40625 19.453125 41.84375 \nQ 15.375 38.28125 15.375 28.328125 \nL 15.375 0 \nz\n\" id=\"ArialMT-110\"/>\n       </defs>\n       <use xlink:href=\"#ArialMT-65\"/>\n       <use x=\"66.699219\" xlink:href=\"#ArialMT-100\"/>\n       <use x=\"122.314453\" xlink:href=\"#ArialMT-100\"/>\n       <use x=\"177.929688\" xlink:href=\"#ArialMT-32\"/>\n       <use x=\"205.712891\" xlink:href=\"#ArialMT-70\"/>\n       <use x=\"266.796875\" xlink:href=\"#ArialMT-114\"/>\n       <use x=\"300.097656\" xlink:href=\"#ArialMT-105\"/>\n       <use x=\"322.314453\" xlink:href=\"#ArialMT-101\"/>\n       <use x=\"377.929688\" xlink:href=\"#ArialMT-110\"/>\n       <use x=\"433.544922\" xlink:href=\"#ArialMT-100\"/>\n      </g>\n     </g>\n    </g>\n    <g id=\"xtick_3\">\n     <g id=\"line2d_3\">\n      <path clip-path=\"url(#pfb4ed7c3f3)\" d=\"M 100.317031 279 \nL 100.317031 7.2 \n\" style=\"fill:none;stroke:#ffffff;stroke-linecap:round;\"/>\n     </g>\n     <g id=\"text_3\">\n      <!-- Add to Playlist -->\n      <g style=\"fill:#262626;\" transform=\"translate(103.09625 358.19875)rotate(-90)scale(0.11 -0.11)\">\n       <defs>\n        <path d=\"M 7.71875 0 \nL 7.71875 71.578125 \nL 34.71875 71.578125 \nQ 41.84375 71.578125 45.609375 70.90625 \nQ 50.875 70.015625 54.4375 67.546875 \nQ 58.015625 65.09375 60.1875 60.640625 \nQ 62.359375 56.203125 62.359375 50.875 \nQ 62.359375 41.75 56.546875 35.421875 \nQ 50.734375 29.109375 35.546875 29.109375 \nL 17.1875 29.109375 \nL 17.1875 0 \nz\nM 17.1875 37.546875 \nL 35.6875 37.546875 \nQ 44.875 37.546875 48.734375 40.96875 \nQ 52.59375 44.390625 52.59375 50.59375 \nQ 52.59375 55.078125 50.3125 58.265625 \nQ 48.046875 61.46875 44.34375 62.5 \nQ 41.9375 63.140625 35.5 63.140625 \nL 17.1875 63.140625 \nz\n\" id=\"ArialMT-80\"/>\n        <path d=\"M 6.390625 0 \nL 6.390625 71.578125 \nL 15.1875 71.578125 \nL 15.1875 0 \nz\n\" id=\"ArialMT-108\"/>\n        <path d=\"M 40.4375 6.390625 \nQ 35.546875 2.25 31.03125 0.53125 \nQ 26.515625 -1.171875 21.34375 -1.171875 \nQ 12.796875 -1.171875 8.203125 3 \nQ 3.609375 7.171875 3.609375 13.671875 \nQ 3.609375 17.484375 5.34375 20.625 \nQ 7.078125 23.78125 9.890625 25.6875 \nQ 12.703125 27.59375 16.21875 28.5625 \nQ 18.796875 29.25 24.03125 29.890625 \nQ 34.671875 31.15625 39.703125 32.90625 \nQ 39.75 34.71875 39.75 35.203125 \nQ 39.75 40.578125 37.25 42.78125 \nQ 33.890625 45.75 27.25 45.75 \nQ 21.046875 45.75 18.09375 43.578125 \nQ 15.140625 41.40625 13.71875 35.890625 \nL 5.125 37.0625 \nQ 6.296875 42.578125 8.984375 45.96875 \nQ 11.671875 49.359375 16.75 51.1875 \nQ 21.828125 53.03125 28.515625 53.03125 \nQ 35.15625 53.03125 39.296875 51.46875 \nQ 43.453125 49.90625 45.40625 47.53125 \nQ 47.359375 45.171875 48.140625 41.546875 \nQ 48.578125 39.3125 48.578125 33.453125 \nL 48.578125 21.734375 \nQ 48.578125 9.46875 49.140625 6.21875 \nQ 49.703125 2.984375 51.375 0 \nL 42.1875 0 \nQ 40.828125 2.734375 40.4375 6.390625 \nz\nM 39.703125 26.03125 \nQ 34.90625 24.078125 25.34375 22.703125 \nQ 19.921875 21.921875 17.671875 20.9375 \nQ 15.4375 19.96875 14.203125 18.09375 \nQ 12.984375 16.21875 12.984375 13.921875 \nQ 12.984375 10.40625 15.640625 8.0625 \nQ 18.3125 5.71875 23.4375 5.71875 \nQ 28.515625 5.71875 32.46875 7.9375 \nQ 36.421875 10.15625 38.28125 14.015625 \nQ 39.703125 17 39.703125 22.796875 \nz\n\" id=\"ArialMT-97\"/>\n        <path d=\"M 6.203125 -19.96875 \nL 5.21875 -11.71875 \nQ 8.109375 -12.5 10.25 -12.5 \nQ 13.1875 -12.5 14.9375 -11.515625 \nQ 16.703125 -10.546875 17.828125 -8.796875 \nQ 18.65625 -7.46875 20.515625 -2.25 \nQ 20.75 -1.515625 21.296875 -0.09375 \nL 1.609375 51.859375 \nL 11.078125 51.859375 \nL 21.875 21.828125 \nQ 23.96875 16.109375 25.640625 9.8125 \nQ 27.15625 15.875 29.25 21.625 \nL 40.328125 51.859375 \nL 49.125 51.859375 \nL 29.390625 -0.875 \nQ 26.21875 -9.421875 24.46875 -12.640625 \nQ 22.125 -17 19.09375 -19.015625 \nQ 16.0625 -21.046875 11.859375 -21.046875 \nQ 9.328125 -21.046875 6.203125 -19.96875 \nz\n\" id=\"ArialMT-121\"/>\n        <path d=\"M 3.078125 15.484375 \nL 11.765625 16.84375 \nQ 12.5 11.625 15.84375 8.84375 \nQ 19.1875 6.0625 25.203125 6.0625 \nQ 31.25 6.0625 34.171875 8.515625 \nQ 37.109375 10.984375 37.109375 14.3125 \nQ 37.109375 17.28125 34.515625 19 \nQ 32.71875 20.171875 25.53125 21.96875 \nQ 15.875 24.421875 12.140625 26.203125 \nQ 8.40625 27.984375 6.46875 31.125 \nQ 4.546875 34.28125 4.546875 38.09375 \nQ 4.546875 41.546875 6.125 44.5 \nQ 7.71875 47.46875 10.453125 49.421875 \nQ 12.5 50.921875 16.03125 51.96875 \nQ 19.578125 53.03125 23.640625 53.03125 \nQ 29.734375 53.03125 34.34375 51.265625 \nQ 38.96875 49.515625 41.15625 46.5 \nQ 43.359375 43.5 44.1875 38.484375 \nL 35.59375 37.3125 \nQ 35.015625 41.3125 32.203125 43.546875 \nQ 29.390625 45.796875 24.265625 45.796875 \nQ 18.21875 45.796875 15.625 43.796875 \nQ 13.03125 41.796875 13.03125 39.109375 \nQ 13.03125 37.40625 14.109375 36.03125 \nQ 15.1875 34.625 17.484375 33.6875 \nQ 18.796875 33.203125 25.25 31.453125 \nQ 34.578125 28.953125 38.25 27.359375 \nQ 41.9375 25.78125 44.03125 22.75 \nQ 46.140625 19.734375 46.140625 15.234375 \nQ 46.140625 10.84375 43.578125 6.953125 \nQ 41.015625 3.078125 36.171875 0.953125 \nQ 31.34375 -1.171875 25.25 -1.171875 \nQ 15.140625 -1.171875 9.84375 3.03125 \nQ 4.546875 7.234375 3.078125 15.484375 \nz\n\" id=\"ArialMT-115\"/>\n       </defs>\n       <use xlink:href=\"#ArialMT-65\"/>\n       <use x=\"66.699219\" xlink:href=\"#ArialMT-100\"/>\n       <use x=\"122.314453\" xlink:href=\"#ArialMT-100\"/>\n       <use x=\"177.929688\" xlink:href=\"#ArialMT-32\"/>\n       <use x=\"205.712891\" xlink:href=\"#ArialMT-116\"/>\n       <use x=\"233.496094\" xlink:href=\"#ArialMT-111\"/>\n       <use x=\"289.111328\" xlink:href=\"#ArialMT-32\"/>\n       <use x=\"316.894531\" xlink:href=\"#ArialMT-80\"/>\n       <use x=\"383.59375\" xlink:href=\"#ArialMT-108\"/>\n       <use x=\"405.810547\" xlink:href=\"#ArialMT-97\"/>\n       <use x=\"461.425781\" xlink:href=\"#ArialMT-121\"/>\n       <use x=\"511.425781\" xlink:href=\"#ArialMT-108\"/>\n       <use x=\"533.642578\" xlink:href=\"#ArialMT-105\"/>\n       <use x=\"555.859375\" xlink:href=\"#ArialMT-115\"/>\n       <use x=\"605.859375\" xlink:href=\"#ArialMT-116\"/>\n      </g>\n     </g>\n    </g>\n    <g id=\"xtick_4\">\n     <g id=\"line2d_4\">\n      <path clip-path=\"url(#pfb4ed7c3f3)\" d=\"M 131.317031 279 \nL 131.317031 7.2 \n\" style=\"fill:none;stroke:#ffffff;stroke-linecap:round;\"/>\n     </g>\n     <g id=\"text_4\">\n      <!-- Cancel -->\n      <g style=\"fill:#262626;\" transform=\"translate(134.160703 322.739219)rotate(-90)scale(0.11 -0.11)\">\n       <defs>\n        <path d=\"M 58.796875 25.09375 \nL 68.265625 22.703125 \nQ 65.28125 11.03125 57.546875 4.90625 \nQ 49.8125 -1.21875 38.625 -1.21875 \nQ 27.046875 -1.21875 19.796875 3.484375 \nQ 12.546875 8.203125 8.765625 17.140625 \nQ 4.984375 26.078125 4.984375 36.328125 \nQ 4.984375 47.515625 9.25 55.828125 \nQ 13.53125 64.15625 21.40625 68.46875 \nQ 29.296875 72.796875 38.765625 72.796875 \nQ 49.515625 72.796875 56.828125 67.328125 \nQ 64.15625 61.859375 67.046875 51.953125 \nL 57.71875 49.75 \nQ 55.21875 57.5625 50.484375 61.125 \nQ 45.75 64.703125 38.578125 64.703125 \nQ 30.328125 64.703125 24.78125 60.734375 \nQ 19.234375 56.78125 16.984375 50.109375 \nQ 14.75 43.453125 14.75 36.375 \nQ 14.75 27.25 17.40625 20.4375 \nQ 20.0625 13.625 25.671875 10.25 \nQ 31.296875 6.890625 37.84375 6.890625 \nQ 45.796875 6.890625 51.3125 11.46875 \nQ 56.84375 16.0625 58.796875 25.09375 \nz\n\" id=\"ArialMT-67\"/>\n        <path d=\"M 40.4375 19 \nL 49.078125 17.875 \nQ 47.65625 8.9375 41.8125 3.875 \nQ 35.984375 -1.171875 27.484375 -1.171875 \nQ 16.84375 -1.171875 10.375 5.78125 \nQ 3.90625 12.75 3.90625 25.734375 \nQ 3.90625 34.125 6.6875 40.421875 \nQ 9.46875 46.734375 15.15625 49.875 \nQ 20.84375 53.03125 27.546875 53.03125 \nQ 35.984375 53.03125 41.359375 48.75 \nQ 46.734375 44.484375 48.25 36.625 \nL 39.703125 35.296875 \nQ 38.484375 40.53125 35.375 43.15625 \nQ 32.28125 45.796875 27.875 45.796875 \nQ 21.234375 45.796875 17.078125 41.03125 \nQ 12.9375 36.28125 12.9375 25.984375 \nQ 12.9375 15.53125 16.9375 10.796875 \nQ 20.953125 6.0625 27.390625 6.0625 \nQ 32.5625 6.0625 36.03125 9.234375 \nQ 39.5 12.40625 40.4375 19 \nz\n\" id=\"ArialMT-99\"/>\n       </defs>\n       <use xlink:href=\"#ArialMT-67\"/>\n       <use x=\"72.216797\" xlink:href=\"#ArialMT-97\"/>\n       <use x=\"127.832031\" xlink:href=\"#ArialMT-110\"/>\n       <use x=\"183.447266\" xlink:href=\"#ArialMT-99\"/>\n       <use x=\"233.447266\" xlink:href=\"#ArialMT-101\"/>\n       <use x=\"289.0625\" xlink:href=\"#ArialMT-108\"/>\n      </g>\n     </g>\n    </g>\n    <g id=\"xtick_5\">\n     <g id=\"line2d_5\">\n      <path clip-path=\"url(#pfb4ed7c3f3)\" d=\"M 162.317031 279 \nL 162.317031 7.2 \n\" style=\"fill:none;stroke:#ffffff;stroke-linecap:round;\"/>\n     </g>\n     <g id=\"text_5\">\n      <!-- Cancellation Confirmation -->\n      <g style=\"fill:#262626;\" transform=\"translate(165.160703 414.444844)rotate(-90)scale(0.11 -0.11)\">\n       <defs>\n        <path d=\"M 8.6875 0 \nL 8.6875 45.015625 \nL 0.921875 45.015625 \nL 0.921875 51.859375 \nL 8.6875 51.859375 \nL 8.6875 57.375 \nQ 8.6875 62.59375 9.625 65.140625 \nQ 10.890625 68.5625 14.078125 70.671875 \nQ 17.28125 72.796875 23.046875 72.796875 \nQ 26.765625 72.796875 31.25 71.921875 \nL 29.9375 64.265625 \nQ 27.203125 64.75 24.75 64.75 \nQ 20.75 64.75 19.09375 63.03125 \nQ 17.4375 61.328125 17.4375 56.640625 \nL 17.4375 51.859375 \nL 27.546875 51.859375 \nL 27.546875 45.015625 \nL 17.4375 45.015625 \nL 17.4375 0 \nz\n\" id=\"ArialMT-102\"/>\n        <path d=\"M 6.59375 0 \nL 6.59375 51.859375 \nL 14.453125 51.859375 \nL 14.453125 44.578125 \nQ 16.890625 48.390625 20.9375 50.703125 \nQ 25 53.03125 30.171875 53.03125 \nQ 35.9375 53.03125 39.625 50.640625 \nQ 43.3125 48.25 44.828125 43.953125 \nQ 50.984375 53.03125 60.84375 53.03125 \nQ 68.5625 53.03125 72.703125 48.75 \nQ 76.859375 44.484375 76.859375 35.59375 \nL 76.859375 0 \nL 68.109375 0 \nL 68.109375 32.671875 \nQ 68.109375 37.9375 67.25 40.25 \nQ 66.40625 42.578125 64.15625 43.984375 \nQ 61.921875 45.40625 58.890625 45.40625 \nQ 53.421875 45.40625 49.796875 41.765625 \nQ 46.1875 38.140625 46.1875 30.125 \nL 46.1875 0 \nL 37.40625 0 \nL 37.40625 33.6875 \nQ 37.40625 39.546875 35.25 42.46875 \nQ 33.109375 45.40625 28.21875 45.40625 \nQ 24.515625 45.40625 21.359375 43.453125 \nQ 18.21875 41.5 16.796875 37.734375 \nQ 15.375 33.984375 15.375 26.90625 \nL 15.375 0 \nz\n\" id=\"ArialMT-109\"/>\n       </defs>\n       <use xlink:href=\"#ArialMT-67\"/>\n       <use x=\"72.216797\" xlink:href=\"#ArialMT-97\"/>\n       <use x=\"127.832031\" xlink:href=\"#ArialMT-110\"/>\n       <use x=\"183.447266\" xlink:href=\"#ArialMT-99\"/>\n       <use x=\"233.447266\" xlink:href=\"#ArialMT-101\"/>\n       <use x=\"289.0625\" xlink:href=\"#ArialMT-108\"/>\n       <use x=\"311.279297\" xlink:href=\"#ArialMT-108\"/>\n       <use x=\"333.496094\" xlink:href=\"#ArialMT-97\"/>\n       <use x=\"389.111328\" xlink:href=\"#ArialMT-116\"/>\n       <use x=\"416.894531\" xlink:href=\"#ArialMT-105\"/>\n       <use x=\"439.111328\" xlink:href=\"#ArialMT-111\"/>\n       <use x=\"494.726562\" xlink:href=\"#ArialMT-110\"/>\n       <use x=\"550.341797\" xlink:href=\"#ArialMT-32\"/>\n       <use x=\"578.125\" xlink:href=\"#ArialMT-67\"/>\n       <use x=\"650.341797\" xlink:href=\"#ArialMT-111\"/>\n       <use x=\"705.957031\" xlink:href=\"#ArialMT-110\"/>\n       <use x=\"761.572266\" xlink:href=\"#ArialMT-102\"/>\n       <use x=\"789.355469\" xlink:href=\"#ArialMT-105\"/>\n       <use x=\"811.572266\" xlink:href=\"#ArialMT-114\"/>\n       <use x=\"844.873047\" xlink:href=\"#ArialMT-109\"/>\n       <use x=\"928.173828\" xlink:href=\"#ArialMT-97\"/>\n       <use x=\"983.789062\" xlink:href=\"#ArialMT-116\"/>\n       <use x=\"1011.572266\" xlink:href=\"#ArialMT-105\"/>\n       <use x=\"1033.789062\" xlink:href=\"#ArialMT-111\"/>\n       <use x=\"1089.404297\" xlink:href=\"#ArialMT-110\"/>\n      </g>\n     </g>\n    </g>\n    <g id=\"xtick_6\">\n     <g id=\"line2d_6\">\n      <path clip-path=\"url(#pfb4ed7c3f3)\" d=\"M 193.317031 279 \nL 193.317031 7.2 \n\" style=\"fill:none;stroke:#ffffff;stroke-linecap:round;\"/>\n     </g>\n     <g id=\"text_6\">\n      <!-- Downgrade -->\n      <g style=\"fill:#262626;\" transform=\"translate(196.09625 344.752969)rotate(-90)scale(0.11 -0.11)\">\n       <defs>\n        <path d=\"M 7.71875 0 \nL 7.71875 71.578125 \nL 32.375 71.578125 \nQ 40.71875 71.578125 45.125 70.5625 \nQ 51.265625 69.140625 55.609375 65.4375 \nQ 61.28125 60.640625 64.078125 53.1875 \nQ 66.890625 45.75 66.890625 36.1875 \nQ 66.890625 28.03125 64.984375 21.734375 \nQ 63.09375 15.4375 60.109375 11.296875 \nQ 57.125 7.171875 53.578125 4.796875 \nQ 50.046875 2.4375 45.046875 1.21875 \nQ 40.046875 0 33.546875 0 \nz\nM 17.1875 8.453125 \nL 32.46875 8.453125 \nQ 39.546875 8.453125 43.578125 9.765625 \nQ 47.609375 11.078125 50 13.484375 \nQ 53.375 16.84375 55.25 22.53125 \nQ 57.125 28.21875 57.125 36.328125 \nQ 57.125 47.5625 53.4375 53.59375 \nQ 49.75 59.625 44.484375 61.671875 \nQ 40.671875 63.140625 32.234375 63.140625 \nL 17.1875 63.140625 \nz\n\" id=\"ArialMT-68\"/>\n        <path d=\"M 16.15625 0 \nL 0.296875 51.859375 \nL 9.375 51.859375 \nL 17.625 21.921875 \nL 20.703125 10.796875 \nQ 20.90625 11.625 23.390625 21.484375 \nL 31.640625 51.859375 \nL 40.671875 51.859375 \nL 48.4375 21.78125 \nL 51.03125 11.859375 \nL 54 21.875 \nL 62.890625 51.859375 \nL 71.4375 51.859375 \nL 55.21875 0 \nL 46.09375 0 \nL 37.84375 31.0625 \nL 35.84375 39.890625 \nL 25.34375 0 \nz\n\" id=\"ArialMT-119\"/>\n        <path d=\"M 4.984375 -4.296875 \nL 13.53125 -5.5625 \nQ 14.0625 -9.515625 16.5 -11.328125 \nQ 19.78125 -13.765625 25.4375 -13.765625 \nQ 31.546875 -13.765625 34.859375 -11.328125 \nQ 38.1875 -8.890625 39.359375 -4.5 \nQ 40.046875 -1.8125 39.984375 6.78125 \nQ 34.234375 0 25.640625 0 \nQ 14.9375 0 9.078125 7.71875 \nQ 3.21875 15.4375 3.21875 26.21875 \nQ 3.21875 33.640625 5.90625 39.90625 \nQ 8.59375 46.1875 13.6875 49.609375 \nQ 18.796875 53.03125 25.6875 53.03125 \nQ 34.859375 53.03125 40.828125 45.609375 \nL 40.828125 51.859375 \nL 48.921875 51.859375 \nL 48.921875 7.03125 \nQ 48.921875 -5.078125 46.453125 -10.125 \nQ 44 -15.1875 38.640625 -18.109375 \nQ 33.296875 -21.046875 25.484375 -21.046875 \nQ 16.21875 -21.046875 10.5 -16.875 \nQ 4.78125 -12.703125 4.984375 -4.296875 \nz\nM 12.25 26.859375 \nQ 12.25 16.65625 16.296875 11.96875 \nQ 20.359375 7.28125 26.46875 7.28125 \nQ 32.515625 7.28125 36.609375 11.9375 \nQ 40.71875 16.609375 40.71875 26.5625 \nQ 40.71875 36.078125 36.5 40.90625 \nQ 32.28125 45.75 26.3125 45.75 \nQ 20.453125 45.75 16.34375 40.984375 \nQ 12.25 36.234375 12.25 26.859375 \nz\n\" id=\"ArialMT-103\"/>\n       </defs>\n       <use xlink:href=\"#ArialMT-68\"/>\n       <use x=\"72.216797\" xlink:href=\"#ArialMT-111\"/>\n       <use x=\"127.832031\" xlink:href=\"#ArialMT-119\"/>\n       <use x=\"200.048828\" xlink:href=\"#ArialMT-110\"/>\n       <use x=\"255.664062\" xlink:href=\"#ArialMT-103\"/>\n       <use x=\"311.279297\" xlink:href=\"#ArialMT-114\"/>\n       <use x=\"344.580078\" xlink:href=\"#ArialMT-97\"/>\n       <use x=\"400.195312\" xlink:href=\"#ArialMT-100\"/>\n       <use x=\"455.810547\" xlink:href=\"#ArialMT-101\"/>\n      </g>\n     </g>\n    </g>\n    <g id=\"xtick_7\">\n     <g id=\"line2d_7\">\n      <path clip-path=\"url(#pfb4ed7c3f3)\" d=\"M 224.317031 279 \nL 224.317031 7.2 \n\" style=\"fill:none;stroke:#ffffff;stroke-linecap:round;\"/>\n     </g>\n     <g id=\"text_7\">\n      <!-- Error -->\n      <g style=\"fill:#262626;\" transform=\"translate(227.160703 312.942344)rotate(-90)scale(0.11 -0.11)\">\n       <defs>\n        <path d=\"M 7.90625 0 \nL 7.90625 71.578125 \nL 59.671875 71.578125 \nL 59.671875 63.140625 \nL 17.390625 63.140625 \nL 17.390625 41.21875 \nL 56.984375 41.21875 \nL 56.984375 32.8125 \nL 17.390625 32.8125 \nL 17.390625 8.453125 \nL 61.328125 8.453125 \nL 61.328125 0 \nz\n\" id=\"ArialMT-69\"/>\n       </defs>\n       <use xlink:href=\"#ArialMT-69\"/>\n       <use x=\"66.699219\" xlink:href=\"#ArialMT-114\"/>\n       <use x=\"100\" xlink:href=\"#ArialMT-114\"/>\n       <use x=\"133.300781\" xlink:href=\"#ArialMT-111\"/>\n       <use x=\"188.916016\" xlink:href=\"#ArialMT-114\"/>\n      </g>\n     </g>\n    </g>\n    <g id=\"xtick_8\">\n     <g id=\"line2d_8\">\n      <path clip-path=\"url(#pfb4ed7c3f3)\" d=\"M 255.317031 279 \nL 255.317031 7.2 \n\" style=\"fill:none;stroke:#ffffff;stroke-linecap:round;\"/>\n     </g>\n     <g id=\"text_8\">\n      <!-- Help -->\n      <g style=\"fill:#262626;\" transform=\"translate(258.160703 311.122187)rotate(-90)scale(0.11 -0.11)\">\n       <defs>\n        <path d=\"M 8.015625 0 \nL 8.015625 71.578125 \nL 17.484375 71.578125 \nL 17.484375 42.1875 \nL 54.6875 42.1875 \nL 54.6875 71.578125 \nL 64.15625 71.578125 \nL 64.15625 0 \nL 54.6875 0 \nL 54.6875 33.734375 \nL 17.484375 33.734375 \nL 17.484375 0 \nz\n\" id=\"ArialMT-72\"/>\n        <path d=\"M 6.59375 -19.875 \nL 6.59375 51.859375 \nL 14.59375 51.859375 \nL 14.59375 45.125 \nQ 17.4375 49.078125 21 51.046875 \nQ 24.5625 53.03125 29.640625 53.03125 \nQ 36.28125 53.03125 41.359375 49.609375 \nQ 46.4375 46.1875 49.015625 39.953125 \nQ 51.609375 33.734375 51.609375 26.3125 \nQ 51.609375 18.359375 48.75 11.984375 \nQ 45.90625 5.609375 40.453125 2.21875 \nQ 35.015625 -1.171875 29 -1.171875 \nQ 24.609375 -1.171875 21.109375 0.6875 \nQ 17.625 2.546875 15.375 5.375 \nL 15.375 -19.875 \nz\nM 14.546875 25.640625 \nQ 14.546875 15.625 18.59375 10.84375 \nQ 22.65625 6.0625 28.421875 6.0625 \nQ 34.28125 6.0625 38.453125 11.015625 \nQ 42.625 15.96875 42.625 26.375 \nQ 42.625 36.28125 38.546875 41.203125 \nQ 34.46875 46.140625 28.8125 46.140625 \nQ 23.1875 46.140625 18.859375 40.890625 \nQ 14.546875 35.640625 14.546875 25.640625 \nz\n\" id=\"ArialMT-112\"/>\n       </defs>\n       <use xlink:href=\"#ArialMT-72\"/>\n       <use x=\"72.216797\" xlink:href=\"#ArialMT-101\"/>\n       <use x=\"127.832031\" xlink:href=\"#ArialMT-108\"/>\n       <use x=\"150.048828\" xlink:href=\"#ArialMT-112\"/>\n      </g>\n     </g>\n    </g>\n    <g id=\"xtick_9\">\n     <g id=\"line2d_9\">\n      <path clip-path=\"url(#pfb4ed7c3f3)\" d=\"M 286.317031 279 \nL 286.317031 7.2 \n\" style=\"fill:none;stroke:#ffffff;stroke-linecap:round;\"/>\n     </g>\n     <g id=\"text_9\">\n      <!-- Home -->\n      <g style=\"fill:#262626;\" transform=\"translate(289.160703 317.840781)rotate(-90)scale(0.11 -0.11)\">\n       <use xlink:href=\"#ArialMT-72\"/>\n       <use x=\"72.216797\" xlink:href=\"#ArialMT-111\"/>\n       <use x=\"127.832031\" xlink:href=\"#ArialMT-109\"/>\n       <use x=\"211.132812\" xlink:href=\"#ArialMT-101\"/>\n      </g>\n     </g>\n    </g>\n    <g id=\"xtick_10\">\n     <g id=\"line2d_10\">\n      <path clip-path=\"url(#pfb4ed7c3f3)\" d=\"M 317.317031 279 \nL 317.317031 7.2 \n\" style=\"fill:none;stroke:#ffffff;stroke-linecap:round;\"/>\n     </g>\n     <g id=\"text_10\">\n      <!-- Logout -->\n      <g style=\"fill:#262626;\" transform=\"translate(320.09625 322.141094)rotate(-90)scale(0.11 -0.11)\">\n       <defs>\n        <path d=\"M 7.328125 0 \nL 7.328125 71.578125 \nL 16.796875 71.578125 \nL 16.796875 8.453125 \nL 52.046875 8.453125 \nL 52.046875 0 \nz\n\" id=\"ArialMT-76\"/>\n       </defs>\n       <use xlink:href=\"#ArialMT-76\"/>\n       <use x=\"55.615234\" xlink:href=\"#ArialMT-111\"/>\n       <use x=\"111.230469\" xlink:href=\"#ArialMT-103\"/>\n       <use x=\"166.845703\" xlink:href=\"#ArialMT-111\"/>\n       <use x=\"222.460938\" xlink:href=\"#ArialMT-117\"/>\n       <use x=\"278.076172\" xlink:href=\"#ArialMT-116\"/>\n      </g>\n     </g>\n    </g>\n    <g id=\"xtick_11\">\n     <g id=\"line2d_11\">\n      <path clip-path=\"url(#pfb4ed7c3f3)\" d=\"M 348.317031 279 \nL 348.317031 7.2 \n\" style=\"fill:none;stroke:#ffffff;stroke-linecap:round;\"/>\n     </g>\n     <g id=\"text_11\">\n      <!-- Roll Advert -->\n      <g style=\"fill:#262626;\" transform=\"translate(351.160703 341.690156)rotate(-90)scale(0.11 -0.11)\">\n       <defs>\n        <path d=\"M 7.859375 0 \nL 7.859375 71.578125 \nL 39.59375 71.578125 \nQ 49.171875 71.578125 54.140625 69.640625 \nQ 59.125 67.71875 62.109375 62.828125 \nQ 65.09375 57.953125 65.09375 52.046875 \nQ 65.09375 44.4375 60.15625 39.203125 \nQ 55.21875 33.984375 44.921875 32.5625 \nQ 48.6875 30.765625 50.640625 29 \nQ 54.78125 25.203125 58.5 19.484375 \nL 70.953125 0 \nL 59.03125 0 \nL 49.5625 14.890625 \nQ 45.40625 21.34375 42.71875 24.75 \nQ 40.046875 28.171875 37.921875 29.53125 \nQ 35.796875 30.90625 33.59375 31.453125 \nQ 31.984375 31.78125 28.328125 31.78125 \nL 17.328125 31.78125 \nL 17.328125 0 \nz\nM 17.328125 39.984375 \nL 37.703125 39.984375 \nQ 44.1875 39.984375 47.84375 41.328125 \nQ 51.515625 42.671875 53.421875 45.625 \nQ 55.328125 48.578125 55.328125 52.046875 \nQ 55.328125 57.125 51.640625 60.390625 \nQ 47.953125 63.671875 39.984375 63.671875 \nL 17.328125 63.671875 \nz\n\" id=\"ArialMT-82\"/>\n        <path d=\"M 21 0 \nL 1.265625 51.859375 \nL 10.546875 51.859375 \nL 21.6875 20.796875 \nQ 23.484375 15.765625 25 10.359375 \nQ 26.171875 14.453125 28.265625 20.21875 \nL 39.796875 51.859375 \nL 48.828125 51.859375 \nL 29.203125 0 \nz\n\" id=\"ArialMT-118\"/>\n       </defs>\n       <use xlink:href=\"#ArialMT-82\"/>\n       <use x=\"72.216797\" xlink:href=\"#ArialMT-111\"/>\n       <use x=\"127.832031\" xlink:href=\"#ArialMT-108\"/>\n       <use x=\"150.048828\" xlink:href=\"#ArialMT-108\"/>\n       <use x=\"172.265625\" xlink:href=\"#ArialMT-32\"/>\n       <use x=\"194.548828\" xlink:href=\"#ArialMT-65\"/>\n       <use x=\"261.248047\" xlink:href=\"#ArialMT-100\"/>\n       <use x=\"316.863281\" xlink:href=\"#ArialMT-118\"/>\n       <use x=\"366.863281\" xlink:href=\"#ArialMT-101\"/>\n       <use x=\"422.478516\" xlink:href=\"#ArialMT-114\"/>\n       <use x=\"455.779297\" xlink:href=\"#ArialMT-116\"/>\n      </g>\n     </g>\n    </g>\n    <g id=\"xtick_12\">\n     <g id=\"line2d_12\">\n      <path clip-path=\"url(#pfb4ed7c3f3)\" d=\"M 379.317031 279 \nL 379.317031 7.2 \n\" style=\"fill:none;stroke:#ffffff;stroke-linecap:round;\"/>\n     </g>\n     <g id=\"text_12\">\n      <!-- Save Settings -->\n      <g style=\"fill:#262626;\" transform=\"translate(382.163281 356.371719)rotate(-90)scale(0.11 -0.11)\">\n       <defs>\n        <path d=\"M 4.5 23 \nL 13.421875 23.78125 \nQ 14.0625 18.40625 16.375 14.96875 \nQ 18.703125 11.53125 23.578125 9.40625 \nQ 28.46875 7.28125 34.578125 7.28125 \nQ 39.984375 7.28125 44.140625 8.890625 \nQ 48.296875 10.5 50.3125 13.296875 \nQ 52.34375 16.109375 52.34375 19.4375 \nQ 52.34375 22.796875 50.390625 25.3125 \nQ 48.4375 27.828125 43.953125 29.546875 \nQ 41.0625 30.671875 31.203125 33.03125 \nQ 21.34375 35.40625 17.390625 37.5 \nQ 12.25 40.1875 9.734375 44.15625 \nQ 7.234375 48.140625 7.234375 53.078125 \nQ 7.234375 58.5 10.296875 63.203125 \nQ 13.375 67.921875 19.28125 70.359375 \nQ 25.203125 72.796875 32.421875 72.796875 \nQ 40.375 72.796875 46.453125 70.234375 \nQ 52.546875 67.671875 55.8125 62.6875 \nQ 59.078125 57.71875 59.328125 51.421875 \nL 50.25 50.734375 \nQ 49.515625 57.515625 45.28125 60.984375 \nQ 41.0625 64.453125 32.8125 64.453125 \nQ 24.21875 64.453125 20.28125 61.296875 \nQ 16.359375 58.15625 16.359375 53.71875 \nQ 16.359375 49.859375 19.140625 47.359375 \nQ 21.875 44.875 33.421875 42.265625 \nQ 44.96875 39.65625 49.265625 37.703125 \nQ 55.515625 34.8125 58.484375 30.390625 \nQ 61.46875 25.984375 61.46875 20.21875 \nQ 61.46875 14.5 58.203125 9.4375 \nQ 54.9375 4.390625 48.796875 1.578125 \nQ 42.671875 -1.21875 35.015625 -1.21875 \nQ 25.296875 -1.21875 18.71875 1.609375 \nQ 12.15625 4.4375 8.421875 10.125 \nQ 4.6875 15.828125 4.5 23 \nz\n\" id=\"ArialMT-83\"/>\n       </defs>\n       <use xlink:href=\"#ArialMT-83\"/>\n       <use x=\"66.699219\" xlink:href=\"#ArialMT-97\"/>\n       <use x=\"122.314453\" xlink:href=\"#ArialMT-118\"/>\n       <use x=\"172.314453\" xlink:href=\"#ArialMT-101\"/>\n       <use x=\"227.929688\" xlink:href=\"#ArialMT-32\"/>\n       <use x=\"255.712891\" xlink:href=\"#ArialMT-83\"/>\n       <use x=\"322.412109\" xlink:href=\"#ArialMT-101\"/>\n       <use x=\"378.027344\" xlink:href=\"#ArialMT-116\"/>\n       <use x=\"405.810547\" xlink:href=\"#ArialMT-116\"/>\n       <use x=\"433.59375\" xlink:href=\"#ArialMT-105\"/>\n       <use x=\"455.810547\" xlink:href=\"#ArialMT-110\"/>\n       <use x=\"511.425781\" xlink:href=\"#ArialMT-103\"/>\n       <use x=\"567.041016\" xlink:href=\"#ArialMT-115\"/>\n      </g>\n     </g>\n    </g>\n    <g id=\"xtick_13\">\n     <g id=\"line2d_13\">\n      <path clip-path=\"url(#pfb4ed7c3f3)\" d=\"M 410.317031 279 \nL 410.317031 7.2 \n\" style=\"fill:none;stroke:#ffffff;stroke-linecap:round;\"/>\n     </g>\n     <g id=\"text_13\">\n      <!-- Settings -->\n      <g style=\"fill:#262626;\" transform=\"translate(413.163281 328.244375)rotate(-90)scale(0.11 -0.11)\">\n       <use xlink:href=\"#ArialMT-83\"/>\n       <use x=\"66.699219\" xlink:href=\"#ArialMT-101\"/>\n       <use x=\"122.314453\" xlink:href=\"#ArialMT-116\"/>\n       <use x=\"150.097656\" xlink:href=\"#ArialMT-116\"/>\n       <use x=\"177.880859\" xlink:href=\"#ArialMT-105\"/>\n       <use x=\"200.097656\" xlink:href=\"#ArialMT-110\"/>\n       <use x=\"255.712891\" xlink:href=\"#ArialMT-103\"/>\n       <use x=\"311.328125\" xlink:href=\"#ArialMT-115\"/>\n      </g>\n     </g>\n    </g>\n    <g id=\"xtick_14\">\n     <g id=\"line2d_14\">\n      <path clip-path=\"url(#pfb4ed7c3f3)\" d=\"M 441.317031 279 \nL 441.317031 7.2 \n\" style=\"fill:none;stroke:#ffffff;stroke-linecap:round;\"/>\n     </g>\n     <g id=\"text_14\">\n      <!-- Submit Downgrade -->\n      <g style=\"fill:#262626;\" transform=\"translate(444.163281 382.042969)rotate(-90)scale(0.11 -0.11)\">\n       <use xlink:href=\"#ArialMT-83\"/>\n       <use x=\"66.699219\" xlink:href=\"#ArialMT-117\"/>\n       <use x=\"122.314453\" xlink:href=\"#ArialMT-98\"/>\n       <use x=\"177.929688\" xlink:href=\"#ArialMT-109\"/>\n       <use x=\"261.230469\" xlink:href=\"#ArialMT-105\"/>\n       <use x=\"283.447266\" xlink:href=\"#ArialMT-116\"/>\n       <use x=\"311.230469\" xlink:href=\"#ArialMT-32\"/>\n       <use x=\"339.013672\" xlink:href=\"#ArialMT-68\"/>\n       <use x=\"411.230469\" xlink:href=\"#ArialMT-111\"/>\n       <use x=\"466.845703\" xlink:href=\"#ArialMT-119\"/>\n       <use x=\"539.0625\" xlink:href=\"#ArialMT-110\"/>\n       <use x=\"594.677734\" xlink:href=\"#ArialMT-103\"/>\n       <use x=\"650.292969\" xlink:href=\"#ArialMT-114\"/>\n       <use x=\"683.59375\" xlink:href=\"#ArialMT-97\"/>\n       <use x=\"739.208984\" xlink:href=\"#ArialMT-100\"/>\n       <use x=\"794.824219\" xlink:href=\"#ArialMT-101\"/>\n      </g>\n     </g>\n    </g>\n    <g id=\"xtick_15\">\n     <g id=\"line2d_15\">\n      <path clip-path=\"url(#pfb4ed7c3f3)\" d=\"M 472.317031 279 \nL 472.317031 7.2 \n\" style=\"fill:none;stroke:#ffffff;stroke-linecap:round;\"/>\n     </g>\n     <g id=\"text_15\">\n      <!-- Submit Upgrade -->\n      <g style=\"fill:#262626;\" transform=\"translate(475.163281 367.981875)rotate(-90)scale(0.11 -0.11)\">\n       <defs>\n        <path d=\"M 54.6875 71.578125 \nL 64.15625 71.578125 \nL 64.15625 30.21875 \nQ 64.15625 19.4375 61.71875 13.078125 \nQ 59.28125 6.734375 52.90625 2.75 \nQ 46.53125 -1.21875 36.1875 -1.21875 \nQ 26.125 -1.21875 19.71875 2.25 \nQ 13.328125 5.71875 10.59375 12.28125 \nQ 7.859375 18.84375 7.859375 30.21875 \nL 7.859375 71.578125 \nL 17.328125 71.578125 \nL 17.328125 30.28125 \nQ 17.328125 20.953125 19.0625 16.53125 \nQ 20.796875 12.109375 25.015625 9.71875 \nQ 29.25 7.328125 35.359375 7.328125 \nQ 45.796875 7.328125 50.234375 12.0625 \nQ 54.6875 16.796875 54.6875 30.28125 \nz\n\" id=\"ArialMT-85\"/>\n       </defs>\n       <use xlink:href=\"#ArialMT-83\"/>\n       <use x=\"66.699219\" xlink:href=\"#ArialMT-117\"/>\n       <use x=\"122.314453\" xlink:href=\"#ArialMT-98\"/>\n       <use x=\"177.929688\" xlink:href=\"#ArialMT-109\"/>\n       <use x=\"261.230469\" xlink:href=\"#ArialMT-105\"/>\n       <use x=\"283.447266\" xlink:href=\"#ArialMT-116\"/>\n       <use x=\"311.230469\" xlink:href=\"#ArialMT-32\"/>\n       <use x=\"339.013672\" xlink:href=\"#ArialMT-85\"/>\n       <use x=\"411.230469\" xlink:href=\"#ArialMT-112\"/>\n       <use x=\"466.845703\" xlink:href=\"#ArialMT-103\"/>\n       <use x=\"522.460938\" xlink:href=\"#ArialMT-114\"/>\n       <use x=\"555.761719\" xlink:href=\"#ArialMT-97\"/>\n       <use x=\"611.376953\" xlink:href=\"#ArialMT-100\"/>\n       <use x=\"666.992188\" xlink:href=\"#ArialMT-101\"/>\n      </g>\n     </g>\n    </g>\n    <g id=\"xtick_16\">\n     <g id=\"line2d_16\">\n      <path clip-path=\"url(#pfb4ed7c3f3)\" d=\"M 503.317031 279 \nL 503.317031 7.2 \n\" style=\"fill:none;stroke:#ffffff;stroke-linecap:round;\"/>\n     </g>\n     <g id=\"text_16\">\n      <!-- Thumbs Down -->\n      <g style=\"fill:#262626;\" transform=\"translate(506.160703 359.410469)rotate(-90)scale(0.11 -0.11)\">\n       <defs>\n        <path d=\"M 25.921875 0 \nL 25.921875 63.140625 \nL 2.34375 63.140625 \nL 2.34375 71.578125 \nL 59.078125 71.578125 \nL 59.078125 63.140625 \nL 35.40625 63.140625 \nL 35.40625 0 \nz\n\" id=\"ArialMT-84\"/>\n        <path d=\"M 6.59375 0 \nL 6.59375 71.578125 \nL 15.375 71.578125 \nL 15.375 45.90625 \nQ 21.53125 53.03125 30.90625 53.03125 \nQ 36.671875 53.03125 40.921875 50.75 \nQ 45.171875 48.484375 47 44.484375 \nQ 48.828125 40.484375 48.828125 32.859375 \nL 48.828125 0 \nL 40.046875 0 \nL 40.046875 32.859375 \nQ 40.046875 39.453125 37.1875 42.453125 \nQ 34.328125 45.453125 29.109375 45.453125 \nQ 25.203125 45.453125 21.75 43.421875 \nQ 18.3125 41.40625 16.84375 37.9375 \nQ 15.375 34.46875 15.375 28.375 \nL 15.375 0 \nz\n\" id=\"ArialMT-104\"/>\n       </defs>\n       <use xlink:href=\"#ArialMT-84\"/>\n       <use x=\"61.083984\" xlink:href=\"#ArialMT-104\"/>\n       <use x=\"116.699219\" xlink:href=\"#ArialMT-117\"/>\n       <use x=\"172.314453\" xlink:href=\"#ArialMT-109\"/>\n       <use x=\"255.615234\" xlink:href=\"#ArialMT-98\"/>\n       <use x=\"311.230469\" xlink:href=\"#ArialMT-115\"/>\n       <use x=\"361.230469\" xlink:href=\"#ArialMT-32\"/>\n       <use x=\"389.013672\" xlink:href=\"#ArialMT-68\"/>\n       <use x=\"461.230469\" xlink:href=\"#ArialMT-111\"/>\n       <use x=\"516.845703\" xlink:href=\"#ArialMT-119\"/>\n       <use x=\"589.0625\" xlink:href=\"#ArialMT-110\"/>\n      </g>\n     </g>\n    </g>\n    <g id=\"xtick_17\">\n     <g id=\"line2d_17\">\n      <path clip-path=\"url(#pfb4ed7c3f3)\" d=\"M 534.317031 279 \nL 534.317031 7.2 \n\" style=\"fill:none;stroke:#ffffff;stroke-linecap:round;\"/>\n     </g>\n     <g id=\"text_17\">\n      <!-- Thumbs Up -->\n      <g style=\"fill:#262626;\" transform=\"translate(537.160703 345.349375)rotate(-90)scale(0.11 -0.11)\">\n       <use xlink:href=\"#ArialMT-84\"/>\n       <use x=\"61.083984\" xlink:href=\"#ArialMT-104\"/>\n       <use x=\"116.699219\" xlink:href=\"#ArialMT-117\"/>\n       <use x=\"172.314453\" xlink:href=\"#ArialMT-109\"/>\n       <use x=\"255.615234\" xlink:href=\"#ArialMT-98\"/>\n       <use x=\"311.230469\" xlink:href=\"#ArialMT-115\"/>\n       <use x=\"361.230469\" xlink:href=\"#ArialMT-32\"/>\n       <use x=\"389.013672\" xlink:href=\"#ArialMT-85\"/>\n       <use x=\"461.230469\" xlink:href=\"#ArialMT-112\"/>\n      </g>\n     </g>\n    </g>\n    <g id=\"xtick_18\">\n     <g id=\"line2d_18\">\n      <path clip-path=\"url(#pfb4ed7c3f3)\" d=\"M 565.317031 279 \nL 565.317031 7.2 \n\" style=\"fill:none;stroke:#ffffff;stroke-linecap:round;\"/>\n     </g>\n     <g id=\"text_18\">\n      <!-- Upgrade -->\n      <g style=\"fill:#262626;\" transform=\"translate(568.09625 330.691875)rotate(-90)scale(0.11 -0.11)\">\n       <use xlink:href=\"#ArialMT-85\"/>\n       <use x=\"72.216797\" xlink:href=\"#ArialMT-112\"/>\n       <use x=\"127.832031\" xlink:href=\"#ArialMT-103\"/>\n       <use x=\"183.447266\" xlink:href=\"#ArialMT-114\"/>\n       <use x=\"216.748047\" xlink:href=\"#ArialMT-97\"/>\n       <use x=\"272.363281\" xlink:href=\"#ArialMT-100\"/>\n       <use x=\"327.978516\" xlink:href=\"#ArialMT-101\"/>\n      </g>\n     </g>\n    </g>\n    <g id=\"text_19\">\n     <!-- page -->\n     <g style=\"fill:#262626;\" transform=\"translate(288.470781 426.893594)scale(0.12 -0.12)\">\n      <use xlink:href=\"#ArialMT-112\"/>\n      <use x=\"55.615234\" xlink:href=\"#ArialMT-97\"/>\n      <use x=\"111.230469\" xlink:href=\"#ArialMT-103\"/>\n      <use x=\"166.845703\" xlink:href=\"#ArialMT-101\"/>\n     </g>\n    </g>\n   </g>\n   <g id=\"matplotlib.axis_2\">\n    <g id=\"ytick_1\">\n     <g id=\"line2d_19\">\n      <path clip-path=\"url(#pfb4ed7c3f3)\" d=\"M 22.817031 279 \nL 580.817031 279 \n\" style=\"fill:none;stroke:#ffffff;stroke-linecap:round;\"/>\n     </g>\n     <g id=\"text_20\">\n      <!-- 0 -->\n      <g style=\"fill:#262626;\" transform=\"translate(7.2 282.936797)scale(0.11 -0.11)\">\n       <defs>\n        <path d=\"M 4.15625 35.296875 \nQ 4.15625 48 6.765625 55.734375 \nQ 9.375 63.484375 14.515625 67.671875 \nQ 19.671875 71.875 27.484375 71.875 \nQ 33.25 71.875 37.59375 69.546875 \nQ 41.9375 67.234375 44.765625 62.859375 \nQ 47.609375 58.5 49.21875 52.21875 \nQ 50.828125 45.953125 50.828125 35.296875 \nQ 50.828125 22.703125 48.234375 14.96875 \nQ 45.65625 7.234375 40.5 3 \nQ 35.359375 -1.21875 27.484375 -1.21875 \nQ 17.140625 -1.21875 11.234375 6.203125 \nQ 4.15625 15.140625 4.15625 35.296875 \nz\nM 13.1875 35.296875 \nQ 13.1875 17.671875 17.3125 11.828125 \nQ 21.4375 6 27.484375 6 \nQ 33.546875 6 37.671875 11.859375 \nQ 41.796875 17.71875 41.796875 35.296875 \nQ 41.796875 52.984375 37.671875 58.78125 \nQ 33.546875 64.59375 27.390625 64.59375 \nQ 21.34375 64.59375 17.71875 59.46875 \nQ 13.1875 52.9375 13.1875 35.296875 \nz\n\" id=\"ArialMT-48\"/>\n       </defs>\n       <use xlink:href=\"#ArialMT-48\"/>\n      </g>\n     </g>\n    </g>\n    <g id=\"ytick_2\">\n     <g id=\"line2d_20\">\n      <path clip-path=\"url(#pfb4ed7c3f3)\" d=\"M 22.817031 222.519657 \nL 580.817031 222.519657 \n\" style=\"fill:none;stroke:#ffffff;stroke-linecap:round;\"/>\n     </g>\n     <g id=\"text_21\">\n      <!-- 1 -->\n      <g style=\"fill:#262626;\" transform=\"translate(7.2 226.456454)scale(0.11 -0.11)\">\n       <defs>\n        <path d=\"M 37.25 0 \nL 28.46875 0 \nL 28.46875 56 \nQ 25.296875 52.984375 20.140625 49.953125 \nQ 14.984375 46.921875 10.890625 45.40625 \nL 10.890625 53.90625 \nQ 18.265625 57.375 23.78125 62.296875 \nQ 29.296875 67.234375 31.59375 71.875 \nL 37.25 71.875 \nz\n\" id=\"ArialMT-49\"/>\n       </defs>\n       <use xlink:href=\"#ArialMT-49\"/>\n      </g>\n     </g>\n    </g>\n    <g id=\"ytick_3\">\n     <g id=\"line2d_21\">\n      <path clip-path=\"url(#pfb4ed7c3f3)\" d=\"M 22.817031 166.039314 \nL 580.817031 166.039314 \n\" style=\"fill:none;stroke:#ffffff;stroke-linecap:round;\"/>\n     </g>\n     <g id=\"text_22\">\n      <!-- 2 -->\n      <g style=\"fill:#262626;\" transform=\"translate(7.2 169.976111)scale(0.11 -0.11)\">\n       <defs>\n        <path d=\"M 50.34375 8.453125 \nL 50.34375 0 \nL 3.03125 0 \nQ 2.9375 3.171875 4.046875 6.109375 \nQ 5.859375 10.9375 9.828125 15.625 \nQ 13.8125 20.3125 21.34375 26.46875 \nQ 33.015625 36.03125 37.109375 41.625 \nQ 41.21875 47.21875 41.21875 52.203125 \nQ 41.21875 57.421875 37.46875 61 \nQ 33.734375 64.59375 27.734375 64.59375 \nQ 21.390625 64.59375 17.578125 60.78125 \nQ 13.765625 56.984375 13.71875 50.25 \nL 4.6875 51.171875 \nQ 5.609375 61.28125 11.65625 66.578125 \nQ 17.71875 71.875 27.9375 71.875 \nQ 38.234375 71.875 44.234375 66.15625 \nQ 50.25 60.453125 50.25 52 \nQ 50.25 47.703125 48.484375 43.546875 \nQ 46.734375 39.40625 42.65625 34.8125 \nQ 38.578125 30.21875 29.109375 22.21875 \nQ 21.1875 15.578125 18.9375 13.203125 \nQ 16.703125 10.84375 15.234375 8.453125 \nz\n\" id=\"ArialMT-50\"/>\n       </defs>\n       <use xlink:href=\"#ArialMT-50\"/>\n      </g>\n     </g>\n    </g>\n    <g id=\"ytick_4\">\n     <g id=\"line2d_22\">\n      <path clip-path=\"url(#pfb4ed7c3f3)\" d=\"M 22.817031 109.558971 \nL 580.817031 109.558971 \n\" style=\"fill:none;stroke:#ffffff;stroke-linecap:round;\"/>\n     </g>\n     <g id=\"text_23\">\n      <!-- 3 -->\n      <g style=\"fill:#262626;\" transform=\"translate(7.2 113.495768)scale(0.11 -0.11)\">\n       <defs>\n        <path d=\"M 4.203125 18.890625 \nL 12.984375 20.0625 \nQ 14.5 12.59375 18.140625 9.296875 \nQ 21.78125 6 27 6 \nQ 33.203125 6 37.46875 10.296875 \nQ 41.75 14.59375 41.75 20.953125 \nQ 41.75 27 37.796875 30.921875 \nQ 33.84375 34.859375 27.734375 34.859375 \nQ 25.25 34.859375 21.53125 33.890625 \nL 22.515625 41.609375 \nQ 23.390625 41.5 23.921875 41.5 \nQ 29.546875 41.5 34.03125 44.421875 \nQ 38.53125 47.359375 38.53125 53.46875 \nQ 38.53125 58.296875 35.25 61.46875 \nQ 31.984375 64.65625 26.8125 64.65625 \nQ 21.6875 64.65625 18.265625 61.421875 \nQ 14.84375 58.203125 13.875 51.765625 \nL 5.078125 53.328125 \nQ 6.6875 62.15625 12.390625 67.015625 \nQ 18.109375 71.875 26.609375 71.875 \nQ 32.46875 71.875 37.390625 69.359375 \nQ 42.328125 66.84375 44.9375 62.5 \nQ 47.5625 58.15625 47.5625 53.265625 \nQ 47.5625 48.640625 45.0625 44.828125 \nQ 42.578125 41.015625 37.703125 38.765625 \nQ 44.046875 37.3125 47.5625 32.6875 \nQ 51.078125 28.078125 51.078125 21.140625 \nQ 51.078125 11.765625 44.234375 5.25 \nQ 37.40625 -1.265625 26.953125 -1.265625 \nQ 17.53125 -1.265625 11.296875 4.34375 \nQ 5.078125 9.96875 4.203125 18.890625 \nz\n\" id=\"ArialMT-51\"/>\n       </defs>\n       <use xlink:href=\"#ArialMT-51\"/>\n      </g>\n     </g>\n    </g>\n    <g id=\"ytick_5\">\n     <g id=\"line2d_23\">\n      <path clip-path=\"url(#pfb4ed7c3f3)\" d=\"M 22.817031 53.078628 \nL 580.817031 53.078628 \n\" style=\"fill:none;stroke:#ffffff;stroke-linecap:round;\"/>\n     </g>\n     <g id=\"text_24\">\n      <!-- 4 -->\n      <g style=\"fill:#262626;\" transform=\"translate(7.2 57.015424)scale(0.11 -0.11)\">\n       <defs>\n        <path d=\"M 32.328125 0 \nL 32.328125 17.140625 \nL 1.265625 17.140625 \nL 1.265625 25.203125 \nL 33.9375 71.578125 \nL 41.109375 71.578125 \nL 41.109375 25.203125 \nL 50.78125 25.203125 \nL 50.78125 17.140625 \nL 41.109375 17.140625 \nL 41.109375 0 \nz\nM 32.328125 25.203125 \nL 32.328125 57.46875 \nL 9.90625 25.203125 \nz\n\" id=\"ArialMT-52\"/>\n       </defs>\n       <use xlink:href=\"#ArialMT-52\"/>\n      </g>\n     </g>\n    </g>\n   </g>\n   <g id=\"patch_3\">\n    <path clip-path=\"url(#pfb4ed7c3f3)\" d=\"M 30.567031 279 \nL 38.317031 279 \nL 38.317031 271.950028 \nL 30.567031 271.950028 \nz\n\" style=\"fill:#4c72b0;stroke:#ffffff;stroke-linejoin:miter;\"/>\n   </g>\n   <g id=\"patch_4\">\n    <path clip-path=\"url(#pfb4ed7c3f3)\" d=\"M 61.567031 279 \nL 69.317031 279 \nL 69.317031 198.932467 \nL 61.567031 198.932467 \nz\n\" style=\"fill:#4c72b0;stroke:#ffffff;stroke-linejoin:miter;\"/>\n   </g>\n   <g id=\"patch_5\">\n    <path clip-path=\"url(#pfb4ed7c3f3)\" d=\"M 92.567031 279 \nL 100.317031 279 \nL 100.317031 148.323743 \nL 92.567031 148.323743 \nz\n\" style=\"fill:#4c72b0;stroke:#ffffff;stroke-linejoin:miter;\"/>\n   </g>\n   <g id=\"patch_6\">\n    <path clip-path=\"url(#pfb4ed7c3f3)\" d=\"M 123.567031 279 \nL 131.317031 279 \nL 131.317031 272.453598 \nL 123.567031 272.453598 \nz\n\" style=\"fill:#4c72b0;stroke:#ffffff;stroke-linejoin:miter;\"/>\n   </g>\n   <g id=\"patch_7\">\n    <path clip-path=\"url(#pfb4ed7c3f3)\" d=\"M 154.567031 279 \nL 162.317031 279 \nL 162.317031 272.453598 \nL 154.567031 272.453598 \nz\n\" style=\"fill:#4c72b0;stroke:#ffffff;stroke-linejoin:miter;\"/>\n   </g>\n   <g id=\"patch_8\">\n    <path clip-path=\"url(#pfb4ed7c3f3)\" d=\"M 185.567031 279 \nL 193.317031 279 \nL 193.317031 236.574279 \nL 185.567031 236.574279 \nz\n\" style=\"fill:#4c72b0;stroke:#ffffff;stroke-linejoin:miter;\"/>\n   </g>\n   <g id=\"patch_9\">\n    <path clip-path=\"url(#pfb4ed7c3f3)\" d=\"M 216.567031 279 \nL 224.317031 279 \nL 224.317031 274.971445 \nL 216.567031 274.971445 \nz\n\" style=\"fill:#4c72b0;stroke:#ffffff;stroke-linejoin:miter;\"/>\n   </g>\n   <g id=\"patch_10\">\n    <path clip-path=\"url(#pfb4ed7c3f3)\" d=\"M 247.567031 279 \nL 255.317031 279 \nL 255.317031 248.911729 \nL 247.567031 248.911729 \nz\n\" style=\"fill:#4c72b0;stroke:#ffffff;stroke-linejoin:miter;\"/>\n   </g>\n   <g id=\"patch_11\">\n    <path clip-path=\"url(#pfb4ed7c3f3)\" d=\"M 278.567031 279 \nL 286.317031 279 \nL 286.317031 68.507994 \nL 278.567031 68.507994 \nz\n\" style=\"fill:#4c72b0;stroke:#ffffff;stroke-linejoin:miter;\"/>\n   </g>\n   <g id=\"patch_12\">\n    <path clip-path=\"url(#pfb4ed7c3f3)\" d=\"M 309.567031 279 \nL 317.317031 279 \nL 317.317031 209.381531 \nL 309.567031 209.381531 \nz\n\" style=\"fill:#4c72b0;stroke:#ffffff;stroke-linejoin:miter;\"/>\n   </g>\n   <g id=\"patch_13\">\n    <path clip-path=\"url(#pfb4ed7c3f3)\" d=\"M 340.567031 279 \nL 348.317031 279 \nL 348.317031 157.262099 \nL 340.567031 157.262099 \nz\n\" style=\"fill:#4c72b0;stroke:#ffffff;stroke-linejoin:miter;\"/>\n   </g>\n   <g id=\"patch_14\">\n    <path clip-path=\"url(#pfb4ed7c3f3)\" d=\"M 371.567031 279 \nL 379.317031 279 \nL 379.317031 271.698244 \nL 371.567031 271.698244 \nz\n\" style=\"fill:#4c72b0;stroke:#ffffff;stroke-linejoin:miter;\"/>\n   </g>\n   <g id=\"patch_15\">\n    <path clip-path=\"url(#pfb4ed7c3f3)\" d=\"M 402.567031 279 \nL 410.317031 279 \nL 410.317031 245.009066 \nL 402.567031 245.009066 \nz\n\" style=\"fill:#4c72b0;stroke:#ffffff;stroke-linejoin:miter;\"/>\n   </g>\n   <g id=\"patch_16\">\n    <path clip-path=\"url(#pfb4ed7c3f3)\" d=\"M 433.567031 279 \nL 441.317031 279 \nL 441.317031 277.866969 \nL 433.567031 277.866969 \nz\n\" style=\"fill:#4c72b0;stroke:#ffffff;stroke-linejoin:miter;\"/>\n   </g>\n   <g id=\"patch_17\">\n    <path clip-path=\"url(#pfb4ed7c3f3)\" d=\"M 464.567031 279 \nL 472.317031 279 \nL 472.317031 274.971445 \nL 464.567031 274.971445 \nz\n\" style=\"fill:#4c72b0;stroke:#ffffff;stroke-linejoin:miter;\"/>\n   </g>\n   <g id=\"patch_18\">\n    <path clip-path=\"url(#pfb4ed7c3f3)\" d=\"M 495.567031 279 \nL 503.317031 279 \nL 503.317031 216.557395 \nL 495.567031 216.557395 \nz\n\" style=\"fill:#4c72b0;stroke:#ffffff;stroke-linejoin:miter;\"/>\n   </g>\n   <g id=\"patch_19\">\n    <path clip-path=\"url(#pfb4ed7c3f3)\" d=\"M 526.567031 279 \nL 534.317031 279 \nL 534.317031 44.966125 \nL 526.567031 44.966125 \nz\n\" style=\"fill:#4c72b0;stroke:#ffffff;stroke-linejoin:miter;\"/>\n   </g>\n   <g id=\"patch_20\">\n    <path clip-path=\"url(#pfb4ed7c3f3)\" d=\"M 557.567031 279 \nL 565.317031 279 \nL 565.317031 264.900057 \nL 557.567031 264.900057 \nz\n\" style=\"fill:#4c72b0;stroke:#ffffff;stroke-linejoin:miter;\"/>\n   </g>\n   <g id=\"patch_21\">\n    <path clip-path=\"url(#pfb4ed7c3f3)\" d=\"M 38.317031 279 \nL 46.067031 279 \nL 46.067031 268.371653 \nL 38.317031 268.371653 \nz\n\" style=\"fill:#dd8452;stroke:#ffffff;stroke-linejoin:miter;\"/>\n   </g>\n   <g id=\"patch_22\">\n    <path clip-path=\"url(#pfb4ed7c3f3)\" d=\"M 69.317031 279 \nL 77.067031 279 \nL 77.067031 190.850088 \nL 69.317031 190.850088 \nz\n\" style=\"fill:#dd8452;stroke:#ffffff;stroke-linejoin:miter;\"/>\n   </g>\n   <g id=\"patch_23\">\n    <path clip-path=\"url(#pfb4ed7c3f3)\" d=\"M 100.317031 279 \nL 108.067031 279 \nL 108.067031 146.133558 \nL 100.317031 146.133558 \nz\n\" style=\"fill:#dd8452;stroke:#ffffff;stroke-linejoin:miter;\"/>\n   </g>\n   <g id=\"patch_24\">\n    <path clip-path=\"url(#pfb4ed7c3f3)\" d=\"M 131.317031 279 \nL 139.067031 279 \nL 139.067031 237.406606 \nL 131.317031 237.406606 \nz\n\" style=\"fill:#dd8452;stroke:#ffffff;stroke-linejoin:miter;\"/>\n   </g>\n   <g id=\"patch_25\">\n    <path clip-path=\"url(#pfb4ed7c3f3)\" d=\"M 162.317031 279 \nL 170.067031 279 \nL 170.067031 273.673721 \nL 162.317031 273.673721 \nz\n\" style=\"fill:#dd8452;stroke:#ffffff;stroke-linejoin:miter;\"/>\n   </g>\n   <g id=\"patch_26\">\n    <path clip-path=\"url(#pfb4ed7c3f3)\" d=\"M 193.317031 279 \nL 201.067031 279 \nL 201.067031 249.584416 \nL 193.317031 249.584416 \nz\n\" style=\"fill:#dd8452;stroke:#ffffff;stroke-linejoin:miter;\"/>\n   </g>\n   <g id=\"patch_27\">\n    <path clip-path=\"url(#pfb4ed7c3f3)\" d=\"M 224.317031 279 \nL 232.067031 279 \nL 232.067031 75.390893 \nL 224.317031 75.390893 \nz\n\" style=\"fill:#dd8452;stroke:#ffffff;stroke-linejoin:miter;\"/>\n   </g>\n   <g id=\"patch_28\">\n    <path clip-path=\"url(#pfb4ed7c3f3)\" d=\"M 255.317031 279 \nL 263.067031 279 \nL 263.067031 214.285714 \nL 255.317031 214.285714 \nz\n\" style=\"fill:#dd8452;stroke:#ffffff;stroke-linejoin:miter;\"/>\n   </g>\n   <g id=\"patch_29\">\n    <path clip-path=\"url(#pfb4ed7c3f3)\" d=\"M 286.317031 279 \nL 294.067031 279 \nL 294.067031 207.19208 \nL 286.317031 207.19208 \nz\n\" style=\"fill:#dd8452;stroke:#ffffff;stroke-linejoin:miter;\"/>\n   </g>\n   <g id=\"patch_30\">\n    <path clip-path=\"url(#pfb4ed7c3f3)\" d=\"M 317.317031 279 \nL 325.067031 279 \nL 325.067031 272.89899 \nL 317.317031 272.89899 \nz\n\" style=\"fill:#dd8452;stroke:#ffffff;stroke-linejoin:miter;\"/>\n   </g>\n   <g id=\"patch_31\">\n    <path clip-path=\"url(#pfb4ed7c3f3)\" d=\"M 348.317031 279 \nL 356.067031 279 \nL 356.067031 248.882315 \nL 348.317031 248.882315 \nz\n\" style=\"fill:#dd8452;stroke:#ffffff;stroke-linejoin:miter;\"/>\n   </g>\n   <g id=\"patch_32\">\n    <path clip-path=\"url(#pfb4ed7c3f3)\" d=\"M 379.317031 279 \nL 387.067031 279 \nL 387.067031 277.692641 \nL 379.317031 277.692641 \nz\n\" style=\"fill:#dd8452;stroke:#ffffff;stroke-linejoin:miter;\"/>\n   </g>\n   <g id=\"patch_33\">\n    <path clip-path=\"url(#pfb4ed7c3f3)\" d=\"M 410.317031 279 \nL 418.067031 279 \nL 418.067031 275.925285 \nL 410.317031 275.925285 \nz\n\" style=\"fill:#dd8452;stroke:#ffffff;stroke-linejoin:miter;\"/>\n   </g>\n   <g id=\"patch_34\">\n    <path clip-path=\"url(#pfb4ed7c3f3)\" d=\"M 441.317031 279 \nL 449.067031 279 \nL 449.067031 229.368767 \nL 441.317031 229.368767 \nz\n\" style=\"fill:#dd8452;stroke:#ffffff;stroke-linejoin:miter;\"/>\n   </g>\n   <g id=\"patch_35\">\n    <path clip-path=\"url(#pfb4ed7c3f3)\" d=\"M 472.317031 279 \nL 480.067031 279 \nL 480.067031 20.142857 \nL 472.317031 20.142857 \nz\n\" style=\"fill:#dd8452;stroke:#ffffff;stroke-linejoin:miter;\"/>\n   </g>\n   <g id=\"patch_36\">\n    <path clip-path=\"url(#pfb4ed7c3f3)\" d=\"M 503.317031 279 \nL 511.067031 279 \nL 511.067031 269.630592 \nL 503.317031 269.630592 \nz\n\" style=\"fill:#dd8452;stroke:#ffffff;stroke-linejoin:miter;\"/>\n   </g>\n   <g id=\"patch_37\">\n    <path clip-path=\"url(#pfb4ed7c3f3)\" d=\"M 534.317031 279 \nL 542.067031 279 \nL 542.067031 279 \nL 534.317031 279 \nz\n\" style=\"fill:#dd8452;stroke:#ffffff;stroke-linejoin:miter;\"/>\n   </g>\n   <g id=\"patch_38\">\n    <path clip-path=\"url(#pfb4ed7c3f3)\" d=\"M 565.317031 279 \nL 573.067031 279 \nL 573.067031 279 \nL 565.317031 279 \nz\n\" style=\"fill:#dd8452;stroke:#ffffff;stroke-linejoin:miter;\"/>\n   </g>\n   <g id=\"patch_39\">\n    <path d=\"M 22.817031 279 \nL 22.817031 7.2 \n\" style=\"fill:none;stroke:#ffffff;stroke-linecap:square;stroke-linejoin:miter;stroke-width:1.25;\"/>\n   </g>\n   <g id=\"patch_40\">\n    <path d=\"M 580.817031 279 \nL 580.817031 7.2 \n\" style=\"fill:none;stroke:#ffffff;stroke-linecap:square;stroke-linejoin:miter;stroke-width:1.25;\"/>\n   </g>\n   <g id=\"patch_41\">\n    <path d=\"M 22.817031 279 \nL 580.817031 279 \n\" style=\"fill:none;stroke:#ffffff;stroke-linecap:square;stroke-linejoin:miter;stroke-width:1.25;\"/>\n   </g>\n   <g id=\"patch_42\">\n    <path d=\"M 22.817031 7.2 \nL 580.817031 7.2 \n\" style=\"fill:none;stroke:#ffffff;stroke-linecap:square;stroke-linejoin:miter;stroke-width:1.25;\"/>\n   </g>\n   <g id=\"legend_1\">\n    <g id=\"patch_43\">\n     <path d=\"M 30.517031 47.645625 \nL 172.119687 47.645625 \nQ 174.319687 47.645625 174.319687 45.445625 \nL 174.319687 14.9 \nQ 174.319687 12.7 172.119687 12.7 \nL 30.517031 12.7 \nQ 28.317031 12.7 28.317031 14.9 \nL 28.317031 45.445625 \nQ 28.317031 47.645625 30.517031 47.645625 \nz\n\" style=\"fill:#eaeaf2;opacity:0.8;stroke:#cccccc;stroke-linejoin:miter;\"/>\n    </g>\n    <g id=\"patch_44\">\n     <path d=\"M 32.717031 25.107656 \nL 54.717031 25.107656 \nL 54.717031 17.407656 \nL 32.717031 17.407656 \nz\n\" style=\"fill:#4c72b0;stroke:#ffffff;stroke-linejoin:miter;\"/>\n    </g>\n    <g id=\"text_25\">\n     <!-- churn_frequency -->\n     <g style=\"fill:#262626;\" transform=\"translate(63.517031 25.107656)scale(0.11 -0.11)\">\n      <defs>\n       <path d=\"M -1.515625 -19.875 \nL -1.515625 -13.53125 \nL 56.734375 -13.53125 \nL 56.734375 -19.875 \nz\n\" id=\"ArialMT-95\"/>\n       <path d=\"M 39.65625 -19.875 \nL 39.65625 5.515625 \nQ 37.59375 2.640625 33.90625 0.734375 \nQ 30.21875 -1.171875 26.078125 -1.171875 \nQ 16.84375 -1.171875 10.171875 6.203125 \nQ 3.515625 13.578125 3.515625 26.421875 \nQ 3.515625 34.234375 6.21875 40.421875 \nQ 8.9375 46.625 14.078125 49.828125 \nQ 19.234375 53.03125 25.390625 53.03125 \nQ 35.015625 53.03125 40.53125 44.921875 \nL 40.53125 51.859375 \nL 48.4375 51.859375 \nL 48.4375 -19.875 \nz\nM 12.546875 26.078125 \nQ 12.546875 16.0625 16.75 11.0625 \nQ 20.953125 6.0625 26.8125 6.0625 \nQ 32.421875 6.0625 36.46875 10.8125 \nQ 40.53125 15.578125 40.53125 25.296875 \nQ 40.53125 35.640625 36.25 40.859375 \nQ 31.984375 46.09375 26.21875 46.09375 \nQ 20.515625 46.09375 16.53125 41.234375 \nQ 12.546875 36.375 12.546875 26.078125 \nz\n\" id=\"ArialMT-113\"/>\n      </defs>\n      <use xlink:href=\"#ArialMT-99\"/>\n      <use x=\"50\" xlink:href=\"#ArialMT-104\"/>\n      <use x=\"105.615234\" xlink:href=\"#ArialMT-117\"/>\n      <use x=\"161.230469\" xlink:href=\"#ArialMT-114\"/>\n      <use x=\"194.53125\" xlink:href=\"#ArialMT-110\"/>\n      <use x=\"250.146484\" xlink:href=\"#ArialMT-95\"/>\n      <use x=\"305.761719\" xlink:href=\"#ArialMT-102\"/>\n      <use x=\"333.544922\" xlink:href=\"#ArialMT-114\"/>\n      <use x=\"366.845703\" xlink:href=\"#ArialMT-101\"/>\n      <use x=\"422.460938\" xlink:href=\"#ArialMT-113\"/>\n      <use x=\"478.076172\" xlink:href=\"#ArialMT-117\"/>\n      <use x=\"533.691406\" xlink:href=\"#ArialMT-101\"/>\n      <use x=\"589.306641\" xlink:href=\"#ArialMT-110\"/>\n      <use x=\"644.921875\" xlink:href=\"#ArialMT-99\"/>\n      <use x=\"694.921875\" xlink:href=\"#ArialMT-121\"/>\n     </g>\n    </g>\n    <g id=\"patch_45\">\n     <path d=\"M 32.717031 40.930469 \nL 54.717031 40.930469 \nL 54.717031 33.230469 \nL 32.717031 33.230469 \nz\n\" style=\"fill:#dd8452;stroke:#ffffff;stroke-linejoin:miter;\"/>\n    </g>\n    <g id=\"text_26\">\n     <!-- non_churn_frequency -->\n     <g style=\"fill:#262626;\" transform=\"translate(63.517031 40.930469)scale(0.11 -0.11)\">\n      <use xlink:href=\"#ArialMT-110\"/>\n      <use x=\"55.615234\" xlink:href=\"#ArialMT-111\"/>\n      <use x=\"111.230469\" xlink:href=\"#ArialMT-110\"/>\n      <use x=\"166.845703\" xlink:href=\"#ArialMT-95\"/>\n      <use x=\"222.460938\" xlink:href=\"#ArialMT-99\"/>\n      <use x=\"272.460938\" xlink:href=\"#ArialMT-104\"/>\n      <use x=\"328.076172\" xlink:href=\"#ArialMT-117\"/>\n      <use x=\"383.691406\" xlink:href=\"#ArialMT-114\"/>\n      <use x=\"416.992188\" xlink:href=\"#ArialMT-110\"/>\n      <use x=\"472.607422\" xlink:href=\"#ArialMT-95\"/>\n      <use x=\"528.222656\" xlink:href=\"#ArialMT-102\"/>\n      <use x=\"556.005859\" xlink:href=\"#ArialMT-114\"/>\n      <use x=\"589.306641\" xlink:href=\"#ArialMT-101\"/>\n      <use x=\"644.921875\" xlink:href=\"#ArialMT-113\"/>\n      <use x=\"700.537109\" xlink:href=\"#ArialMT-117\"/>\n      <use x=\"756.152344\" xlink:href=\"#ArialMT-101\"/>\n      <use x=\"811.767578\" xlink:href=\"#ArialMT-110\"/>\n      <use x=\"867.382812\" xlink:href=\"#ArialMT-99\"/>\n      <use x=\"917.382812\" xlink:href=\"#ArialMT-121\"/>\n     </g>\n    </g>\n   </g>\n  </g>\n </g>\n <defs>\n  <clipPath id=\"pfb4ed7c3f3\">\n   <rect height=\"271.8\" width=\"558\" x=\"22.817031\" y=\"7.2\"/>\n  </clipPath>\n </defs>\n</svg>\n",
      "image/png": "[encoded data removed]"
     },
     "metadata": {}
    }
   ],
   "source": [
    "#distribution of page use for churn users and normal users\n",
    "churn_page_df, non_churn_page_df = page_use_distribution()"
   ]
  },
  {
   "cell_type": "code",
   "execution_count": 36,
   "metadata": {},
   "outputs": [
    {
     "output_type": "display_data",
     "data": {
      "text/plain": "<Figure size 432x288 with 1 Axes>",
      "image/svg+xml": "<?xml version=\"1.0\" encoding=\"utf-8\" standalone=\"no\"?>\n<!DOCTYPE svg PUBLIC \"-//W3C//DTD SVG 1.1//EN\"\n  \"http://www.w3.org/Graphics/SVG/1.1/DTD/svg11.dtd\">\n<!-- Created with matplotlib (https://matplotlib.org/) -->\n<svg height=\"266.374219pt\" version=\"1.1\" viewBox=\"0 0 385.908437 266.374219\" width=\"385.908437pt\" xmlns=\"http://www.w3.org/2000/svg\" xmlns:xlink=\"http://www.w3.org/1999/xlink\">\n <metadata>\n  <rdf:RDF xmlns:cc=\"http://creativecommons.org/ns#\" xmlns:dc=\"http://purl.org/dc/elements/1.1/\" xmlns:rdf=\"http://www.w3.org/1999/02/22-rdf-syntax-ns#\">\n   <cc:Work>\n    <dc:type rdf:resource=\"http://purl.org/dc/dcmitype/StillImage\"/>\n    <dc:date>2021-04-24T15:10:12.730529</dc:date>\n    <dc:format>image/svg+xml</dc:format>\n    <dc:creator>\n     <cc:Agent>\n      <dc:title>Matplotlib v3.3.2, https://matplotlib.org/</dc:title>\n     </cc:Agent>\n    </dc:creator>\n   </cc:Work>\n  </rdf:RDF>\n </metadata>\n <defs>\n  <style type=\"text/css\">*{stroke-linecap:butt;stroke-linejoin:round;}</style>\n </defs>\n <g id=\"figure_1\">\n  <g id=\"patch_1\">\n   <path d=\"M 0 266.374219 \nL 385.908437 266.374219 \nL 385.908437 0 \nL 0 0 \nz\n\" style=\"fill:#ffffff;\"/>\n  </g>\n  <g id=\"axes_1\">\n   <g id=\"patch_2\">\n    <path d=\"M 43.908438 224.64 \nL 378.708438 224.64 \nL 378.708438 7.2 \nL 43.908438 7.2 \nz\n\" style=\"fill:#eaeaf2;\"/>\n   </g>\n   <g id=\"matplotlib.axis_1\">\n    <g id=\"xtick_1\">\n     <g id=\"text_1\">\n      <!-- free -->\n      <g style=\"fill:#262626;\" transform=\"translate(118.132109 242.013594)scale(0.11 -0.11)\">\n       <defs>\n        <path d=\"M 8.6875 0 \nL 8.6875 45.015625 \nL 0.921875 45.015625 \nL 0.921875 51.859375 \nL 8.6875 51.859375 \nL 8.6875 57.375 \nQ 8.6875 62.59375 9.625 65.140625 \nQ 10.890625 68.5625 14.078125 70.671875 \nQ 17.28125 72.796875 23.046875 72.796875 \nQ 26.765625 72.796875 31.25 71.921875 \nL 29.9375 64.265625 \nQ 27.203125 64.75 24.75 64.75 \nQ 20.75 64.75 19.09375 63.03125 \nQ 17.4375 61.328125 17.4375 56.640625 \nL 17.4375 51.859375 \nL 27.546875 51.859375 \nL 27.546875 45.015625 \nL 17.4375 45.015625 \nL 17.4375 0 \nz\n\" id=\"ArialMT-102\"/>\n        <path d=\"M 6.5 0 \nL 6.5 51.859375 \nL 14.40625 51.859375 \nL 14.40625 44 \nQ 17.4375 49.515625 20 51.265625 \nQ 22.5625 53.03125 25.640625 53.03125 \nQ 30.078125 53.03125 34.671875 50.203125 \nL 31.640625 42.046875 \nQ 28.421875 43.953125 25.203125 43.953125 \nQ 22.3125 43.953125 20.015625 42.21875 \nQ 17.71875 40.484375 16.75 37.40625 \nQ 15.28125 32.71875 15.28125 27.15625 \nL 15.28125 0 \nz\n\" id=\"ArialMT-114\"/>\n        <path d=\"M 42.09375 16.703125 \nL 51.171875 15.578125 \nQ 49.03125 7.625 43.21875 3.21875 \nQ 37.40625 -1.171875 28.375 -1.171875 \nQ 17 -1.171875 10.328125 5.828125 \nQ 3.65625 12.84375 3.65625 25.484375 \nQ 3.65625 38.578125 10.390625 45.796875 \nQ 17.140625 53.03125 27.875 53.03125 \nQ 38.28125 53.03125 44.875 45.953125 \nQ 51.46875 38.875 51.46875 26.03125 \nQ 51.46875 25.25 51.421875 23.6875 \nL 12.75 23.6875 \nQ 13.234375 15.140625 17.578125 10.59375 \nQ 21.921875 6.0625 28.421875 6.0625 \nQ 33.25 6.0625 36.671875 8.59375 \nQ 40.09375 11.140625 42.09375 16.703125 \nz\nM 13.234375 30.90625 \nL 42.1875 30.90625 \nQ 41.609375 37.453125 38.875 40.71875 \nQ 34.671875 45.796875 27.984375 45.796875 \nQ 21.921875 45.796875 17.796875 41.75 \nQ 13.671875 37.703125 13.234375 30.90625 \nz\n\" id=\"ArialMT-101\"/>\n       </defs>\n       <use xlink:href=\"#ArialMT-102\"/>\n       <use x=\"27.783203\" xlink:href=\"#ArialMT-114\"/>\n       <use x=\"61.083984\" xlink:href=\"#ArialMT-101\"/>\n       <use x=\"116.699219\" xlink:href=\"#ArialMT-101\"/>\n      </g>\n     </g>\n    </g>\n    <g id=\"xtick_2\">\n     <g id=\"text_2\">\n      <!-- paid -->\n      <g style=\"fill:#262626;\" transform=\"translate(284.610859 242.013594)scale(0.11 -0.11)\">\n       <defs>\n        <path d=\"M 6.59375 -19.875 \nL 6.59375 51.859375 \nL 14.59375 51.859375 \nL 14.59375 45.125 \nQ 17.4375 49.078125 21 51.046875 \nQ 24.5625 53.03125 29.640625 53.03125 \nQ 36.28125 53.03125 41.359375 49.609375 \nQ 46.4375 46.1875 49.015625 39.953125 \nQ 51.609375 33.734375 51.609375 26.3125 \nQ 51.609375 18.359375 48.75 11.984375 \nQ 45.90625 5.609375 40.453125 2.21875 \nQ 35.015625 -1.171875 29 -1.171875 \nQ 24.609375 -1.171875 21.109375 0.6875 \nQ 17.625 2.546875 15.375 5.375 \nL 15.375 -19.875 \nz\nM 14.546875 25.640625 \nQ 14.546875 15.625 18.59375 10.84375 \nQ 22.65625 6.0625 28.421875 6.0625 \nQ 34.28125 6.0625 38.453125 11.015625 \nQ 42.625 15.96875 42.625 26.375 \nQ 42.625 36.28125 38.546875 41.203125 \nQ 34.46875 46.140625 28.8125 46.140625 \nQ 23.1875 46.140625 18.859375 40.890625 \nQ 14.546875 35.640625 14.546875 25.640625 \nz\n\" id=\"ArialMT-112\"/>\n        <path d=\"M 40.4375 6.390625 \nQ 35.546875 2.25 31.03125 0.53125 \nQ 26.515625 -1.171875 21.34375 -1.171875 \nQ 12.796875 -1.171875 8.203125 3 \nQ 3.609375 7.171875 3.609375 13.671875 \nQ 3.609375 17.484375 5.34375 20.625 \nQ 7.078125 23.78125 9.890625 25.6875 \nQ 12.703125 27.59375 16.21875 28.5625 \nQ 18.796875 29.25 24.03125 29.890625 \nQ 34.671875 31.15625 39.703125 32.90625 \nQ 39.75 34.71875 39.75 35.203125 \nQ 39.75 40.578125 37.25 42.78125 \nQ 33.890625 45.75 27.25 45.75 \nQ 21.046875 45.75 18.09375 43.578125 \nQ 15.140625 41.40625 13.71875 35.890625 \nL 5.125 37.0625 \nQ 6.296875 42.578125 8.984375 45.96875 \nQ 11.671875 49.359375 16.75 51.1875 \nQ 21.828125 53.03125 28.515625 53.03125 \nQ 35.15625 53.03125 39.296875 51.46875 \nQ 43.453125 49.90625 45.40625 47.53125 \nQ 47.359375 45.171875 48.140625 41.546875 \nQ 48.578125 39.3125 48.578125 33.453125 \nL 48.578125 21.734375 \nQ 48.578125 9.46875 49.140625 6.21875 \nQ 49.703125 2.984375 51.375 0 \nL 42.1875 0 \nQ 40.828125 2.734375 40.4375 6.390625 \nz\nM 39.703125 26.03125 \nQ 34.90625 24.078125 25.34375 22.703125 \nQ 19.921875 21.921875 17.671875 20.9375 \nQ 15.4375 19.96875 14.203125 18.09375 \nQ 12.984375 16.21875 12.984375 13.921875 \nQ 12.984375 10.40625 15.640625 8.0625 \nQ 18.3125 5.71875 23.4375 5.71875 \nQ 28.515625 5.71875 32.46875 7.9375 \nQ 36.421875 10.15625 38.28125 14.015625 \nQ 39.703125 17 39.703125 22.796875 \nz\n\" id=\"ArialMT-97\"/>\n        <path d=\"M 6.640625 61.46875 \nL 6.640625 71.578125 \nL 15.4375 71.578125 \nL 15.4375 61.46875 \nz\nM 6.640625 0 \nL 6.640625 51.859375 \nL 15.4375 51.859375 \nL 15.4375 0 \nz\n\" id=\"ArialMT-105\"/>\n        <path d=\"M 40.234375 0 \nL 40.234375 6.546875 \nQ 35.296875 -1.171875 25.734375 -1.171875 \nQ 19.53125 -1.171875 14.328125 2.25 \nQ 9.125 5.671875 6.265625 11.796875 \nQ 3.421875 17.921875 3.421875 25.875 \nQ 3.421875 33.640625 6 39.96875 \nQ 8.59375 46.296875 13.765625 49.65625 \nQ 18.953125 53.03125 25.34375 53.03125 \nQ 30.03125 53.03125 33.6875 51.046875 \nQ 37.359375 49.078125 39.65625 45.90625 \nL 39.65625 71.578125 \nL 48.390625 71.578125 \nL 48.390625 0 \nz\nM 12.453125 25.875 \nQ 12.453125 15.921875 16.640625 10.984375 \nQ 20.84375 6.0625 26.5625 6.0625 \nQ 32.328125 6.0625 36.34375 10.765625 \nQ 40.375 15.484375 40.375 25.140625 \nQ 40.375 35.796875 36.265625 40.765625 \nQ 32.171875 45.75 26.171875 45.75 \nQ 20.3125 45.75 16.375 40.96875 \nQ 12.453125 36.1875 12.453125 25.875 \nz\n\" id=\"ArialMT-100\"/>\n       </defs>\n       <use xlink:href=\"#ArialMT-112\"/>\n       <use x=\"55.615234\" xlink:href=\"#ArialMT-97\"/>\n       <use x=\"111.230469\" xlink:href=\"#ArialMT-105\"/>\n       <use x=\"133.447266\" xlink:href=\"#ArialMT-100\"/>\n      </g>\n     </g>\n    </g>\n    <g id=\"text_3\">\n     <!-- level -->\n     <g style=\"fill:#262626;\" transform=\"translate(198.969063 256.789219)scale(0.12 -0.12)\">\n      <defs>\n       <path d=\"M 6.390625 0 \nL 6.390625 71.578125 \nL 15.1875 71.578125 \nL 15.1875 0 \nz\n\" id=\"ArialMT-108\"/>\n       <path d=\"M 21 0 \nL 1.265625 51.859375 \nL 10.546875 51.859375 \nL 21.6875 20.796875 \nQ 23.484375 15.765625 25 10.359375 \nQ 26.171875 14.453125 28.265625 20.21875 \nL 39.796875 51.859375 \nL 48.828125 51.859375 \nL 29.203125 0 \nz\n\" id=\"ArialMT-118\"/>\n      </defs>\n      <use xlink:href=\"#ArialMT-108\"/>\n      <use x=\"22.216797\" xlink:href=\"#ArialMT-101\"/>\n      <use x=\"77.832031\" xlink:href=\"#ArialMT-118\"/>\n      <use x=\"127.832031\" xlink:href=\"#ArialMT-101\"/>\n      <use x=\"183.447266\" xlink:href=\"#ArialMT-108\"/>\n     </g>\n    </g>\n   </g>\n   <g id=\"matplotlib.axis_2\">\n    <g id=\"ytick_1\">\n     <g id=\"line2d_1\">\n      <path clip-path=\"url(#p3c1b9dda20)\" d=\"M 43.908438 224.64 \nL 378.708438 224.64 \n\" style=\"fill:none;stroke:#ffffff;stroke-linecap:round;\"/>\n     </g>\n     <g id=\"text_4\">\n      <!-- 0 -->\n      <g style=\"fill:#262626;\" transform=\"translate(28.291406 228.576797)scale(0.11 -0.11)\">\n       <defs>\n        <path d=\"M 4.15625 35.296875 \nQ 4.15625 48 6.765625 55.734375 \nQ 9.375 63.484375 14.515625 67.671875 \nQ 19.671875 71.875 27.484375 71.875 \nQ 33.25 71.875 37.59375 69.546875 \nQ 41.9375 67.234375 44.765625 62.859375 \nQ 47.609375 58.5 49.21875 52.21875 \nQ 50.828125 45.953125 50.828125 35.296875 \nQ 50.828125 22.703125 48.234375 14.96875 \nQ 45.65625 7.234375 40.5 3 \nQ 35.359375 -1.21875 27.484375 -1.21875 \nQ 17.140625 -1.21875 11.234375 6.203125 \nQ 4.15625 15.140625 4.15625 35.296875 \nz\nM 13.1875 35.296875 \nQ 13.1875 17.671875 17.3125 11.828125 \nQ 21.4375 6 27.484375 6 \nQ 33.546875 6 37.671875 11.859375 \nQ 41.796875 17.71875 41.796875 35.296875 \nQ 41.796875 52.984375 37.671875 58.78125 \nQ 33.546875 64.59375 27.390625 64.59375 \nQ 21.34375 64.59375 17.71875 59.46875 \nQ 13.1875 52.9375 13.1875 35.296875 \nz\n\" id=\"ArialMT-48\"/>\n       </defs>\n       <use xlink:href=\"#ArialMT-48\"/>\n      </g>\n     </g>\n    </g>\n    <g id=\"ytick_2\">\n     <g id=\"line2d_2\">\n      <path clip-path=\"url(#p3c1b9dda20)\" d=\"M 43.908438 191.239078 \nL 378.708438 191.239078 \n\" style=\"fill:none;stroke:#ffffff;stroke-linecap:round;\"/>\n     </g>\n     <g id=\"text_5\">\n      <!-- 5 -->\n      <g style=\"fill:#262626;\" transform=\"translate(28.291406 195.175875)scale(0.11 -0.11)\">\n       <defs>\n        <path d=\"M 4.15625 18.75 \nL 13.375 19.53125 \nQ 14.40625 12.796875 18.140625 9.390625 \nQ 21.875 6 27.15625 6 \nQ 33.5 6 37.890625 10.78125 \nQ 42.28125 15.578125 42.28125 23.484375 \nQ 42.28125 31 38.0625 35.34375 \nQ 33.84375 39.703125 27 39.703125 \nQ 22.75 39.703125 19.328125 37.765625 \nQ 15.921875 35.84375 13.96875 32.765625 \nL 5.71875 33.84375 \nL 12.640625 70.609375 \nL 48.25 70.609375 \nL 48.25 62.203125 \nL 19.671875 62.203125 \nL 15.828125 42.96875 \nQ 22.265625 47.46875 29.34375 47.46875 \nQ 38.71875 47.46875 45.15625 40.96875 \nQ 51.609375 34.46875 51.609375 24.265625 \nQ 51.609375 14.546875 45.953125 7.46875 \nQ 39.0625 -1.21875 27.15625 -1.21875 \nQ 17.390625 -1.21875 11.203125 4.25 \nQ 5.03125 9.71875 4.15625 18.75 \nz\n\" id=\"ArialMT-53\"/>\n       </defs>\n       <use xlink:href=\"#ArialMT-53\"/>\n      </g>\n     </g>\n    </g>\n    <g id=\"ytick_3\">\n     <g id=\"line2d_3\">\n      <path clip-path=\"url(#p3c1b9dda20)\" d=\"M 43.908438 157.838157 \nL 378.708438 157.838157 \n\" style=\"fill:none;stroke:#ffffff;stroke-linecap:round;\"/>\n     </g>\n     <g id=\"text_6\">\n      <!-- 10 -->\n      <g style=\"fill:#262626;\" transform=\"translate(22.174375 161.774954)scale(0.11 -0.11)\">\n       <defs>\n        <path d=\"M 37.25 0 \nL 28.46875 0 \nL 28.46875 56 \nQ 25.296875 52.984375 20.140625 49.953125 \nQ 14.984375 46.921875 10.890625 45.40625 \nL 10.890625 53.90625 \nQ 18.265625 57.375 23.78125 62.296875 \nQ 29.296875 67.234375 31.59375 71.875 \nL 37.25 71.875 \nz\n\" id=\"ArialMT-49\"/>\n       </defs>\n       <use xlink:href=\"#ArialMT-49\"/>\n       <use x=\"55.615234\" xlink:href=\"#ArialMT-48\"/>\n      </g>\n     </g>\n    </g>\n    <g id=\"ytick_4\">\n     <g id=\"line2d_4\">\n      <path clip-path=\"url(#p3c1b9dda20)\" d=\"M 43.908438 124.437235 \nL 378.708438 124.437235 \n\" style=\"fill:none;stroke:#ffffff;stroke-linecap:round;\"/>\n     </g>\n     <g id=\"text_7\">\n      <!-- 15 -->\n      <g style=\"fill:#262626;\" transform=\"translate(22.174375 128.374032)scale(0.11 -0.11)\">\n       <use xlink:href=\"#ArialMT-49\"/>\n       <use x=\"55.615234\" xlink:href=\"#ArialMT-53\"/>\n      </g>\n     </g>\n    </g>\n    <g id=\"ytick_5\">\n     <g id=\"line2d_5\">\n      <path clip-path=\"url(#p3c1b9dda20)\" d=\"M 43.908438 91.036313 \nL 378.708438 91.036313 \n\" style=\"fill:none;stroke:#ffffff;stroke-linecap:round;\"/>\n     </g>\n     <g id=\"text_8\">\n      <!-- 20 -->\n      <g style=\"fill:#262626;\" transform=\"translate(22.174375 94.97311)scale(0.11 -0.11)\">\n       <defs>\n        <path d=\"M 50.34375 8.453125 \nL 50.34375 0 \nL 3.03125 0 \nQ 2.9375 3.171875 4.046875 6.109375 \nQ 5.859375 10.9375 9.828125 15.625 \nQ 13.8125 20.3125 21.34375 26.46875 \nQ 33.015625 36.03125 37.109375 41.625 \nQ 41.21875 47.21875 41.21875 52.203125 \nQ 41.21875 57.421875 37.46875 61 \nQ 33.734375 64.59375 27.734375 64.59375 \nQ 21.390625 64.59375 17.578125 60.78125 \nQ 13.765625 56.984375 13.71875 50.25 \nL 4.6875 51.171875 \nQ 5.609375 61.28125 11.65625 66.578125 \nQ 17.71875 71.875 27.9375 71.875 \nQ 38.234375 71.875 44.234375 66.15625 \nQ 50.25 60.453125 50.25 52 \nQ 50.25 47.703125 48.484375 43.546875 \nQ 46.734375 39.40625 42.65625 34.8125 \nQ 38.578125 30.21875 29.109375 22.21875 \nQ 21.1875 15.578125 18.9375 13.203125 \nQ 16.703125 10.84375 15.234375 8.453125 \nz\n\" id=\"ArialMT-50\"/>\n       </defs>\n       <use xlink:href=\"#ArialMT-50\"/>\n       <use x=\"55.615234\" xlink:href=\"#ArialMT-48\"/>\n      </g>\n     </g>\n    </g>\n    <g id=\"ytick_6\">\n     <g id=\"line2d_6\">\n      <path clip-path=\"url(#p3c1b9dda20)\" d=\"M 43.908438 57.635392 \nL 378.708438 57.635392 \n\" style=\"fill:none;stroke:#ffffff;stroke-linecap:round;\"/>\n     </g>\n     <g id=\"text_9\">\n      <!-- 25 -->\n      <g style=\"fill:#262626;\" transform=\"translate(22.174375 61.572189)scale(0.11 -0.11)\">\n       <use xlink:href=\"#ArialMT-50\"/>\n       <use x=\"55.615234\" xlink:href=\"#ArialMT-53\"/>\n      </g>\n     </g>\n    </g>\n    <g id=\"ytick_7\">\n     <g id=\"line2d_7\">\n      <path clip-path=\"url(#p3c1b9dda20)\" d=\"M 43.908438 24.23447 \nL 378.708438 24.23447 \n\" style=\"fill:none;stroke:#ffffff;stroke-linecap:round;\"/>\n     </g>\n     <g id=\"text_10\">\n      <!-- 30 -->\n      <g style=\"fill:#262626;\" transform=\"translate(22.174375 28.171267)scale(0.11 -0.11)\">\n       <defs>\n        <path d=\"M 4.203125 18.890625 \nL 12.984375 20.0625 \nQ 14.5 12.59375 18.140625 9.296875 \nQ 21.78125 6 27 6 \nQ 33.203125 6 37.46875 10.296875 \nQ 41.75 14.59375 41.75 20.953125 \nQ 41.75 27 37.796875 30.921875 \nQ 33.84375 34.859375 27.734375 34.859375 \nQ 25.25 34.859375 21.53125 33.890625 \nL 22.515625 41.609375 \nQ 23.390625 41.5 23.921875 41.5 \nQ 29.546875 41.5 34.03125 44.421875 \nQ 38.53125 47.359375 38.53125 53.46875 \nQ 38.53125 58.296875 35.25 61.46875 \nQ 31.984375 64.65625 26.8125 64.65625 \nQ 21.6875 64.65625 18.265625 61.421875 \nQ 14.84375 58.203125 13.875 51.765625 \nL 5.078125 53.328125 \nQ 6.6875 62.15625 12.390625 67.015625 \nQ 18.109375 71.875 26.609375 71.875 \nQ 32.46875 71.875 37.390625 69.359375 \nQ 42.328125 66.84375 44.9375 62.5 \nQ 47.5625 58.15625 47.5625 53.265625 \nQ 47.5625 48.640625 45.0625 44.828125 \nQ 42.578125 41.015625 37.703125 38.765625 \nQ 44.046875 37.3125 47.5625 32.6875 \nQ 51.078125 28.078125 51.078125 21.140625 \nQ 51.078125 11.765625 44.234375 5.25 \nQ 37.40625 -1.265625 26.953125 -1.265625 \nQ 17.53125 -1.265625 11.296875 4.34375 \nQ 5.078125 9.96875 4.203125 18.890625 \nz\n\" id=\"ArialMT-51\"/>\n       </defs>\n       <use xlink:href=\"#ArialMT-51\"/>\n       <use x=\"55.615234\" xlink:href=\"#ArialMT-48\"/>\n      </g>\n     </g>\n    </g>\n    <g id=\"text_11\">\n     <!-- count -->\n     <g style=\"fill:#262626;\" transform=\"translate(15.789375 130.596562)rotate(-90)scale(0.12 -0.12)\">\n      <defs>\n       <path d=\"M 40.4375 19 \nL 49.078125 17.875 \nQ 47.65625 8.9375 41.8125 3.875 \nQ 35.984375 -1.171875 27.484375 -1.171875 \nQ 16.84375 -1.171875 10.375 5.78125 \nQ 3.90625 12.75 3.90625 25.734375 \nQ 3.90625 34.125 6.6875 40.421875 \nQ 9.46875 46.734375 15.15625 49.875 \nQ 20.84375 53.03125 27.546875 53.03125 \nQ 35.984375 53.03125 41.359375 48.75 \nQ 46.734375 44.484375 48.25 36.625 \nL 39.703125 35.296875 \nQ 38.484375 40.53125 35.375 43.15625 \nQ 32.28125 45.796875 27.875 45.796875 \nQ 21.234375 45.796875 17.078125 41.03125 \nQ 12.9375 36.28125 12.9375 25.984375 \nQ 12.9375 15.53125 16.9375 10.796875 \nQ 20.953125 6.0625 27.390625 6.0625 \nQ 32.5625 6.0625 36.03125 9.234375 \nQ 39.5 12.40625 40.4375 19 \nz\n\" id=\"ArialMT-99\"/>\n       <path d=\"M 3.328125 25.921875 \nQ 3.328125 40.328125 11.328125 47.265625 \nQ 18.015625 53.03125 27.640625 53.03125 \nQ 38.328125 53.03125 45.109375 46.015625 \nQ 51.90625 39.015625 51.90625 26.65625 \nQ 51.90625 16.65625 48.90625 10.90625 \nQ 45.90625 5.171875 40.15625 2 \nQ 34.421875 -1.171875 27.640625 -1.171875 \nQ 16.75 -1.171875 10.03125 5.8125 \nQ 3.328125 12.796875 3.328125 25.921875 \nz\nM 12.359375 25.921875 \nQ 12.359375 15.96875 16.703125 11.015625 \nQ 21.046875 6.0625 27.640625 6.0625 \nQ 34.1875 6.0625 38.53125 11.03125 \nQ 42.875 16.015625 42.875 26.21875 \nQ 42.875 35.84375 38.5 40.796875 \nQ 34.125 45.75 27.640625 45.75 \nQ 21.046875 45.75 16.703125 40.8125 \nQ 12.359375 35.890625 12.359375 25.921875 \nz\n\" id=\"ArialMT-111\"/>\n       <path d=\"M 40.578125 0 \nL 40.578125 7.625 \nQ 34.515625 -1.171875 24.125 -1.171875 \nQ 19.53125 -1.171875 15.546875 0.578125 \nQ 11.578125 2.34375 9.640625 5 \nQ 7.71875 7.671875 6.9375 11.53125 \nQ 6.390625 14.109375 6.390625 19.734375 \nL 6.390625 51.859375 \nL 15.1875 51.859375 \nL 15.1875 23.09375 \nQ 15.1875 16.21875 15.71875 13.8125 \nQ 16.546875 10.359375 19.234375 8.375 \nQ 21.921875 6.390625 25.875 6.390625 \nQ 29.828125 6.390625 33.296875 8.421875 \nQ 36.765625 10.453125 38.203125 13.9375 \nQ 39.65625 17.4375 39.65625 24.078125 \nL 39.65625 51.859375 \nL 48.4375 51.859375 \nL 48.4375 0 \nz\n\" id=\"ArialMT-117\"/>\n       <path d=\"M 6.59375 0 \nL 6.59375 51.859375 \nL 14.5 51.859375 \nL 14.5 44.484375 \nQ 20.21875 53.03125 31 53.03125 \nQ 35.6875 53.03125 39.625 51.34375 \nQ 43.5625 49.65625 45.515625 46.921875 \nQ 47.46875 44.1875 48.25 40.4375 \nQ 48.734375 37.984375 48.734375 31.890625 \nL 48.734375 0 \nL 39.9375 0 \nL 39.9375 31.546875 \nQ 39.9375 36.921875 38.90625 39.578125 \nQ 37.890625 42.234375 35.28125 43.8125 \nQ 32.671875 45.40625 29.15625 45.40625 \nQ 23.53125 45.40625 19.453125 41.84375 \nQ 15.375 38.28125 15.375 28.328125 \nL 15.375 0 \nz\n\" id=\"ArialMT-110\"/>\n       <path d=\"M 25.78125 7.859375 \nL 27.046875 0.09375 \nQ 23.34375 -0.6875 20.40625 -0.6875 \nQ 15.625 -0.6875 12.984375 0.828125 \nQ 10.359375 2.34375 9.28125 4.8125 \nQ 8.203125 7.28125 8.203125 15.1875 \nL 8.203125 45.015625 \nL 1.765625 45.015625 \nL 1.765625 51.859375 \nL 8.203125 51.859375 \nL 8.203125 64.703125 \nL 16.9375 69.96875 \nL 16.9375 51.859375 \nL 25.78125 51.859375 \nL 25.78125 45.015625 \nL 16.9375 45.015625 \nL 16.9375 14.703125 \nQ 16.9375 10.9375 17.40625 9.859375 \nQ 17.875 8.796875 18.921875 8.15625 \nQ 19.96875 7.515625 21.921875 7.515625 \nQ 23.390625 7.515625 25.78125 7.859375 \nz\n\" id=\"ArialMT-116\"/>\n      </defs>\n      <use xlink:href=\"#ArialMT-99\"/>\n      <use x=\"50\" xlink:href=\"#ArialMT-111\"/>\n      <use x=\"105.615234\" xlink:href=\"#ArialMT-117\"/>\n      <use x=\"161.230469\" xlink:href=\"#ArialMT-110\"/>\n      <use x=\"216.845703\" xlink:href=\"#ArialMT-116\"/>\n     </g>\n    </g>\n   </g>\n   <g id=\"patch_3\">\n    <path clip-path=\"url(#p3c1b9dda20)\" d=\"M 60.648438 224.64 \nL 127.608438 224.64 \nL 127.608438 84.356129 \nL 60.648438 84.356129 \nz\n\" style=\"fill:#5875a4;stroke:#ffffff;stroke-linejoin:miter;\"/>\n   </g>\n   <g id=\"patch_4\">\n    <path clip-path=\"url(#p3c1b9dda20)\" d=\"M 0 0 \nz\n\" style=\"fill:#5875a4;stroke:#ffffff;stroke-linejoin:miter;\"/>\n   </g>\n   <g id=\"patch_5\">\n    <path clip-path=\"url(#p3c1b9dda20)\" d=\"M 0 0 \nz\n\" style=\"fill:#cc8963;stroke:#ffffff;stroke-linejoin:miter;\"/>\n   </g>\n   <g id=\"patch_6\">\n    <path clip-path=\"url(#p3c1b9dda20)\" d=\"M 295.008438 224.64 \nL 361.968438 224.64 \nL 361.968438 17.554286 \nL 295.008438 17.554286 \nz\n\" style=\"fill:#cc8963;stroke:#ffffff;stroke-linejoin:miter;\"/>\n   </g>\n   <g id=\"line2d_8\">\n    <path clip-path=\"url(#p3c1b9dda20)\" d=\"M 0 0 \n\" style=\"fill:none;stroke:#424242;stroke-linecap:round;stroke-width:2.7;\"/>\n   </g>\n   <g id=\"line2d_9\">\n    <path clip-path=\"url(#p3c1b9dda20)\" d=\"M 0 0 \n\" style=\"fill:none;stroke:#424242;stroke-linecap:round;stroke-width:2.7;\"/>\n   </g>\n   <g id=\"line2d_10\">\n    <path clip-path=\"url(#p3c1b9dda20)\" d=\"M 0 0 \n\" style=\"fill:none;stroke:#424242;stroke-linecap:round;stroke-width:2.7;\"/>\n   </g>\n   <g id=\"line2d_11\">\n    <path clip-path=\"url(#p3c1b9dda20)\" d=\"M 0 0 \n\" style=\"fill:none;stroke:#424242;stroke-linecap:round;stroke-width:2.7;\"/>\n   </g>\n   <g id=\"patch_7\">\n    <path d=\"M 43.908438 224.64 \nL 43.908438 7.2 \n\" style=\"fill:none;stroke:#ffffff;stroke-linecap:square;stroke-linejoin:miter;stroke-width:1.25;\"/>\n   </g>\n   <g id=\"patch_8\">\n    <path d=\"M 378.708438 224.64 \nL 378.708438 7.2 \n\" style=\"fill:none;stroke:#ffffff;stroke-linecap:square;stroke-linejoin:miter;stroke-width:1.25;\"/>\n   </g>\n   <g id=\"patch_9\">\n    <path d=\"M 43.908438 224.64 \nL 378.708438 224.64 \n\" style=\"fill:none;stroke:#ffffff;stroke-linecap:square;stroke-linejoin:miter;stroke-width:1.25;\"/>\n   </g>\n   <g id=\"patch_10\">\n    <path d=\"M 43.908438 7.2 \nL 378.708438 7.2 \n\" style=\"fill:none;stroke:#ffffff;stroke-linecap:square;stroke-linejoin:miter;stroke-width:1.25;\"/>\n   </g>\n   <g id=\"legend_1\">\n    <g id=\"patch_11\">\n     <path d=\"M 51.608438 63.594062 \nL 107.603594 63.594062 \nQ 109.803594 63.594062 109.803594 61.394062 \nL 109.803594 14.9 \nQ 109.803594 12.7 107.603594 12.7 \nL 51.608438 12.7 \nQ 49.408438 12.7 49.408438 14.9 \nL 49.408438 61.394062 \nQ 49.408438 63.594062 51.608438 63.594062 \nz\n\" style=\"fill:#eaeaf2;opacity:0.8;stroke:#cccccc;stroke-linejoin:miter;\"/>\n    </g>\n    <g id=\"text_12\">\n     <!-- level -->\n     <g style=\"fill:#262626;\" transform=\"translate(67.266641 25.689375)scale(0.12 -0.12)\">\n      <use xlink:href=\"#ArialMT-108\"/>\n      <use x=\"22.216797\" xlink:href=\"#ArialMT-101\"/>\n      <use x=\"77.832031\" xlink:href=\"#ArialMT-118\"/>\n      <use x=\"127.832031\" xlink:href=\"#ArialMT-101\"/>\n      <use x=\"183.447266\" xlink:href=\"#ArialMT-108\"/>\n     </g>\n    </g>\n    <g id=\"patch_12\">\n     <path d=\"M 53.808438 41.447969 \nL 75.808437 41.447969 \nL 75.808437 33.747969 \nL 53.808438 33.747969 \nz\n\" style=\"fill:#5875a4;stroke:#ffffff;stroke-linejoin:miter;\"/>\n    </g>\n    <g id=\"text_13\">\n     <!-- free -->\n     <g style=\"fill:#262626;\" transform=\"translate(84.608438 41.447969)scale(0.11 -0.11)\">\n      <use xlink:href=\"#ArialMT-102\"/>\n      <use x=\"27.783203\" xlink:href=\"#ArialMT-114\"/>\n      <use x=\"61.083984\" xlink:href=\"#ArialMT-101\"/>\n      <use x=\"116.699219\" xlink:href=\"#ArialMT-101\"/>\n     </g>\n    </g>\n    <g id=\"patch_13\">\n     <path d=\"M 53.808438 57.007812 \nL 75.808437 57.007812 \nL 75.808437 49.307812 \nL 53.808438 49.307812 \nz\n\" style=\"fill:#cc8963;stroke:#ffffff;stroke-linejoin:miter;\"/>\n    </g>\n    <g id=\"text_14\">\n     <!-- paid -->\n     <g style=\"fill:#262626;\" transform=\"translate(84.608438 57.007812)scale(0.11 -0.11)\">\n      <use xlink:href=\"#ArialMT-112\"/>\n      <use x=\"55.615234\" xlink:href=\"#ArialMT-97\"/>\n      <use x=\"111.230469\" xlink:href=\"#ArialMT-105\"/>\n      <use x=\"133.447266\" xlink:href=\"#ArialMT-100\"/>\n     </g>\n    </g>\n   </g>\n  </g>\n </g>\n <defs>\n  <clipPath id=\"p3c1b9dda20\">\n   <rect height=\"217.44\" width=\"334.8\" x=\"43.908438\" y=\"7.2\"/>\n  </clipPath>\n </defs>\n</svg>\n",
      "image/png": "[encoded data removed]"
     },
     "metadata": {}
    }
   ],
   "source": [
    "#payment plan when users churned\n",
    "churn_level_df = churn_level()"
   ]
  },
  {
   "cell_type": "markdown",
   "metadata": {},
   "source": [
    "# Feature Engineering\n",
    "Once you've familiarized yourself with the data, build out the features you find promising to train your model on. To work with the full dataset, you can follow the following steps.\n",
    "- Write a script to extract the necessary features from the smaller subset of data\n",
    "- Ensure that your script is scalable, using the best practices discussed in Lesson 3\n",
    "- Try your script on the full data set, debugging your script if necessary\n",
    "\n",
    "If you are working in the classroom workspace, you can just extract features based on the small subset of data contained here. Be sure to transfer over this work to the larger dataset when you work on your Spark cluster."
   ]
  },
  {
   "cell_type": "code",
   "execution_count": 37,
   "metadata": {},
   "outputs": [],
   "source": [
    "#Feature 1: Number of days between first registration and latest user interaction\n",
    "#Feature 2: most recent payment level\n",
    "#Feature 3: average number of songs per session\n",
    "#Feature 4: average length of each user\n",
    "#Feature 5: number of sessions for each user\n",
    "#Feature 6: gender as 0, 1\n",
    "#Feature 7: auth status as 0, 1\n",
    "#Feature 8: number of artists heard\n",
    "#Feature 9: number of \"Thumbs Up\" for each user\n",
    "#Feature 10: number of \"Thumbs Down\" for each user\n",
    "#Feature 11: number of \"Add Friend\" for each user (currently deactivated due to memory)\n",
    "features_data = create_features_data(churn_data)"
   ]
  },
  {
   "cell_type": "code",
   "execution_count": 38,
   "metadata": {},
   "outputs": [
    {
     "output_type": "stream",
     "name": "stdout",
     "text": [
      "+----------------+----------------+----------------+-----+---------------+---------------------+----------+------------+-----------+---------+-----------+------------+--------------+\n|last_interaction|           state|operating_system|churn|registered_days|avg_songs_per_session|avg_length|num_sessions|type_gender|type_auth|num_artists|num_thumbsup|num_thumbsdown|\n+----------------+----------------+----------------+-----+---------------+---------------------+----------+------------+-----------+---------+-----------+------------+--------------+\n|   1543589607000|  LauderdaleWest|         Windows|    0|             70|                   33|       188|          12|          0|        1|        350|          28|             3|\n|   1543603730000|     AngelesLong|       Macintosh|    0|            109|                   90|       208|          41|          0|        1|       2123|         192|            38|\n|   1543108803000|YorkNewarkJersey|       Macintosh|    0|            123|                   51|       183|           3|          0|        1|        143|           8|             1|\n|   1543490925000|              NH|             X11|    0|             71|                   96|       208|          23|          0|        1|       1376|         111|            17|\n|   1539629720000|        DCVAMDWV|         Windows|    1|             15|                   28|       194|           6|          0|        1|        110|          20|             2|\n|   1539629720000|        DCVAMDWV|         Windows|    1|             15|                   28|       194|           6|          0|        2|        110|          20|             2|\n|   1542630896000|              MS|       Macintosh|    1|             53|                   83|       208|          22|          0|        1|       1198|         138|            32|\n|   1542630896000|              MS|       Macintosh|    1|             53|                   83|       208|          22|          0|        2|       1198|         138|            32|\n|   1541138333000|              MI|       Macintosh|    1|             70|                   76|       200|          17|          1|        1|        908|         110|            70|\n|   1541138333000|              MI|       Macintosh|    1|             70|                   76|       200|          17|          1|        2|        908|         110|            70|\n|   1543539285000|              TX|         Windows|    0|             60|                   28|       192|           9|          1|        1|        226|          11|             3|\n|   1543491909000|       RockNorth|         Windows|    1|            115|                   47|       200|           9|          1|        1|        357|          38|            12|\n|   1543491909000|       RockNorth|         Windows|    1|            115|                   47|       200|           9|          1|        2|        357|          38|            12|\n|   1543622411000|YorkNewarkJersey|      compatible|    0|             61|                   63|       200|          76|          1|        1|       2488|         437|            41|\n|   1543593340000|        DCVAMDWV|       Macintosh|    0|             62|                  105|       204|           6|          1|        1|        509|          20|             6|\n|   1543405710000|            MANH|         Windows|    0|             23|                  136|       198|           6|          1|        1|        643|          58|             3|\n|   1539729037000|              CO|         Windows|    1|             53|                  179|       208|          10|          0|        1|       1239|         172|            32|\n|   1539729037000|              CO|         Windows|    1|             53|                  179|       208|          10|          0|        2|       1239|         172|            32|\n|   1543379762000|     AngelesLong|         Windows|    0|             74|                  173|       207|          10|          1|        1|       1211|          92|            24|\n|   1543592476000|YorkNewarkJersey|         Windows|    0|             62|                   88|       209|          30|          0|        1|       1642|         135|            21|\n+----------------+----------------+----------------+-----+---------------+---------------------+----------+------------+-----------+---------+-----------+------------+--------------+\nonly showing top 20 rows\n\n"
     ]
    }
   ],
   "source": [
    "features_data.show()"
   ]
  },
  {
   "source": [
    "#delete unused DataFrames from memory\n",
    "del churn_level_df, churn_page_df, cleaned_data, data, gender_churn_df, non_churn_page_df, show_churn_data_df, show_cleaned_data_df, churn_data\n",
    "gc.collect()"
   ],
   "cell_type": "code",
   "metadata": {},
   "execution_count": 39,
   "outputs": [
    {
     "output_type": "execute_result",
     "data": {
      "text/plain": [
       "3259"
      ]
     },
     "metadata": {},
     "execution_count": 39
    }
   ]
  },
  {
   "cell_type": "markdown",
   "metadata": {},
   "source": [
    "# Modeling\n",
    "Split the full dataset into train, test, and validation sets. Test out several of the machine learning methods you learned. Evaluate the accuracy of the various models, tuning parameters as necessary. Determine your winning model based on test accuracy and report results on the validation set. Since the churned users are a fairly small subset, I suggest using F1 score as the metric to optimize."
   ]
  },
  {
   "cell_type": "code",
   "execution_count": 40,
   "metadata": {},
   "outputs": [],
   "source": [
    "def create_pipeline(data):\n",
    "    \"\"\"\n",
    "    This function creates the pipeline for ML.\n",
    "    It adds a string indexer for categorical data and vector assembler for numerical data\n",
    "\n",
    "    Args:\n",
    "        - data (json): inpt data from features_data\n",
    "    Returns:\n",
    "        - pipeline\n",
    "    \"\"\"\n",
    "    #create list of columns for vector assembler\n",
    "    cols = []\n",
    "    \n",
    "    for field in data.schema.fields :\n",
    "        if field.dataType!=StringType():\n",
    "            cols.append(field.name)\n",
    "\n",
    "    #remove label from list of features\n",
    "    cols.remove('churn')    \n",
    "\n",
    "    #create indexes for categorical features\n",
    "    string_indexer_state = StringIndexer(inputCol='state', outputCol='index_state')\n",
    "    string_indexer_operating_system = StringIndexer(inputCol='operating_system', outputCol='index_operating_system')\n",
    "    \n",
    "    #create vector assembler of numerical features\n",
    "    vector_assembler = VectorAssembler(inputCols=cols, outputCol='features')\n",
    "\n",
    "    #create pipeline\n",
    "    pipeline = Pipeline(stages=[string_indexer_state, string_indexer_operating_system, vector_assembler])\n",
    "\n",
    "    return pipeline"
   ]
  },
  {
   "cell_type": "code",
   "execution_count": 41,
   "metadata": {},
   "outputs": [],
   "source": [
    "#create a pipeline with features data\n",
    "pipeline = create_pipeline(features_data)"
   ]
  },
  {
   "cell_type": "code",
   "execution_count": 42,
   "metadata": {},
   "outputs": [],
   "source": [
    "def fit_transform_pipeline(data, pipeline):\n",
    "    \"\"\"\n",
    "    This functions fits and transforms a pipeline\n",
    "\n",
    "    Args:\n",
    "        - data (json): input data on which to do the fit and transform\n",
    "        - pipeline: custom pipeline with features data\n",
    "    Returns:\n",
    "        - model_data (json): data for the ML\n",
    "    \"\"\"\n",
    "    #fit and transform the pipeline on the feature data\n",
    "    model_data = pipeline.fit(data).transform(data)\n",
    "\n",
    "    return model_data"
   ]
  },
  {
   "cell_type": "code",
   "execution_count": 43,
   "metadata": {},
   "outputs": [],
   "source": [
    "#fit and transform the pipeline with features data\n",
    "model_data = fit_transform_pipeline(features_data, pipeline)"
   ]
  },
  {
   "cell_type": "code",
   "execution_count": 44,
   "metadata": {},
   "outputs": [],
   "source": [
    "def train_test_split(data):\n",
    "    \"\"\"\n",
    "    This function splits the given data into trian, test and validation datasets\n",
    "\n",
    "    Args:\n",
    "        - data (json): input data\n",
    "    Returns:\n",
    "        - train (json): subset of input data for training\n",
    "        - test (json): subset of input data for test\n",
    "        - validation (json): subset of inpt data for validating training\n",
    "    \"\"\"\n",
    "    #extract features vector and label for ML\n",
    "    data = data.select(col(\"churn\").alias(\"label\"), col(\"features\").alias(\"features\"))\n",
    "\n",
    "    # Split the data into train, test and validation\n",
    "    train, test = data.randomSplit([.8, .2], seed=42)\n",
    "\n",
    "    return train, test"
   ]
  },
  {
   "cell_type": "code",
   "execution_count": 45,
   "metadata": {},
   "outputs": [],
   "source": [
    "#split the model data into trian, test and validation data\n",
    "train, test = train_test_split(model_data)"
   ]
  },
  {
   "cell_type": "code",
   "execution_count": 47,
   "metadata": {},
   "outputs": [],
   "source": [
    "def simple_predict(train, test):\n",
    "    \"\"\"\n",
    "    This function does the prediction on the features vector and label.\n",
    "\n",
    "    Args:\n",
    "        - train: training data\n",
    "        - test: test data\n",
    "    Returns:\n",
    "        - clf: fitted data\n",
    "        - preds: predicted values\n",
    "    \"\"\"\n",
    "    #define the model with \"churn\" as label column\n",
    "    model = RandomForestClassifier()\n",
    "\n",
    "    #fit model on training data\n",
    "    clf = model.fit(train)\n",
    "\n",
    "    #create predictions on validation data\n",
    "    preds = clf.transform(test)\n",
    "\n",
    "    return clf, preds"
   ]
  },
  {
   "cell_type": "code",
   "execution_count": 48,
   "metadata": {},
   "outputs": [],
   "source": [
    "#create classifier and prediction on RandomForestClassifier\n",
    "clf, preds = simple_predict(train, test)"
   ]
  },
  {
   "cell_type": "code",
   "execution_count": null,
   "metadata": {},
   "outputs": [],
   "source": [
    "def evaluate_simple_predict(preds):\n",
    "    \"\"\"\n",
    "    This function evaluates the simple_predict model for accuracy and f1-score\n",
    "\n",
    "    Args:\n",
    "        - preds: predicted values through ML model\n",
    "    Returns:\n",
    "        - None\n",
    "    \"\"\"\n",
    "    #evaluate model prediction accuracy and f1 score\n",
    "    evaluator = MulticlassClassificationEvaluator(predictionCol=\"prediction\")\n",
    "    print('Random Forest Classifier Metrics:')\n",
    "    print('Accuracy: {}'.format(evaluator.evaluate(preds, {evaluator.metricName: \"accuracy\"})))\n",
    "    print('F-1 Score:{}'.format(evaluator.evaluate(preds, {evaluator.metricName: \"f1\"})))"
   ]
  },
  {
   "cell_type": "code",
   "execution_count": 49,
   "metadata": {},
   "outputs": [
    {
     "output_type": "stream",
     "name": "stdout",
     "text": [
      "Logistic Regression Metrics:\n",
      "Accuracy: 0.9591836734693877\n",
      "F-1 Score:0.9591836734693877\n"
     ]
    }
   ],
   "source": [
    "#evaluate the simple RandomForestClassifier model\n",
    "evaluate_simple_predict(preds)"
   ]
  },
  {
   "cell_type": "code",
   "execution_count": 50,
   "metadata": {},
   "outputs": [],
   "source": [
    "def advanced_predict(train, test):\n",
    "    \"\"\"\n",
    "    This function does ML using ParamGrid and CrossValidation\n",
    "\n",
    "    Args:\n",
    "        - train (json): input training data\n",
    "        - test (json): input test data\n",
    "    Returns:\n",
    "        - cvModel: trained model\n",
    "        - preds: predictions\n",
    "    \"\"\"\n",
    "    #define classifier\n",
    "    clf = RandomForestClassifier()\n",
    "\n",
    "    #define parameter grid for optimization\n",
    "    paramGrid = ParamGridBuilder() \\\n",
    "    .addGrid(clf.numTrees,[20, 25]) \\\n",
    "    .addGrid(clf.maxDepth,[10, 15]) \\\n",
    "    .build()\n",
    "\n",
    "    #define crossvalidator\n",
    "    crossval = CrossValidator(estimator=Pipeline(stages=[clf]),\n",
    "                              estimatorParamMaps=paramGrid,\n",
    "                              evaluator=MulticlassClassificationEvaluator(),\n",
    "                              numFolds=3)\n",
    "    \n",
    "    #fit the training data to the crossvalidator\n",
    "    cvModel= crossval.fit(train)\n",
    "\n",
    "    #predict values on test data\n",
    "    preds = cvModel.transform(test)\n",
    "\n",
    "    return cvModel, preds"
   ]
  },
  {
   "cell_type": "code",
   "execution_count": 51,
   "metadata": {},
   "outputs": [],
   "source": [
    "#create clf and prediction on RandomForestClassifier with ParamGrid, CrossValidation\n",
    "#search for best model with numTrees and maxDepth META-parameters\n",
    "cvModel, adv_preds = advanced_predict(train, test)"
   ]
  },
  {
   "cell_type": "code",
   "execution_count": 52,
   "metadata": {},
   "outputs": [
    {
     "output_type": "stream",
     "name": "stdout",
     "text": [
      "48\n",
      "49\n"
     ]
    }
   ],
   "source": [
    "#get right predictions vs actual values\n",
    "print(adv_preds.filter(adv_preds.label == adv_preds.prediction).count())\n",
    "print(adv_preds.count())"
   ]
  },
  {
   "cell_type": "code",
   "execution_count": 53,
   "metadata": {},
   "outputs": [
    {
     "output_type": "execute_result",
     "data": {
      "text/plain": [
       "0.9795918367346939"
      ]
     },
     "metadata": {},
     "execution_count": 53
    }
   ],
   "source": [
    "#compute accuracy of best model\n",
    "48/49"
   ]
  },
  {
   "cell_type": "markdown",
   "metadata": {},
   "source": [
    "# Final Steps\n",
    "Clean up your code, adding comments and renaming variables to make the code easier to read and maintain. Refer to the Spark Project Overview page and Data Scientist Capstone Project Rubric to make sure you are including all components of the capstone project and meet all expectations. Remember, this includes thorough documentation in a README file in a Github repository, as well as a web app or blog post."
   ]
  },
  {
   "cell_type": "code",
   "execution_count": null,
   "metadata": {},
   "outputs": [],
   "source": []
  }
 ],
 "metadata": {
  "kernelspec": {
   "display_name": "Python 3",
   "language": "python",
   "name": "python3"
  },
  "language_info": {
   "codemirror_mode": {
    "name": "ipython",
    "version": 3
   },
   "file_extension": ".py",
   "mimetype": "text/x-python",
   "name": "python",
   "nbconvert_exporter": "python",
   "pygments_lexer": "ipython3",
   "version": "3.7.9-final"
  }
 },
 "nbformat": 4,
 "nbformat_minor": 2
}