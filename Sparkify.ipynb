{
 "cells": [
  {
   "cell_type": "markdown",
   "metadata": {},
   "source": [
    "# Sparkify Project Workspace\n",
    "This workspace contains a tiny subset (128MB) of the full dataset available (12GB). Feel free to use this workspace to build your project, or to explore a smaller subset with Spark before deploying your cluster on the cloud. Instructions for setting up your Spark cluster is included in the last lesson of the Extracurricular Spark Course content.\n",
    "\n",
    "You can follow the steps below to guide your data analysis and model building portion of this project."
   ]
  },
  {
   "cell_type": "code",
   "execution_count": 4,
   "metadata": {},
   "outputs": [],
   "source": [
    "# import libraries\n",
    "import os\n",
    "import re\n",
    "import copy\n",
    "import time\n",
    "import datetime\n",
    "import numpy as np\n",
    "import pandas as pd\n",
    "from matplotlib import pyplot as plt\n",
    "\n",
    "from pyspark.sql import SparkSession\n",
    "from pyspark.sql.functions import *\n",
    "from pyspark.sql.types import *\n",
    "from pyspark.ml.feature import StringIndexer, VectorAssembler #, OneHotEncoderEstimator\n",
    "from pyspark.ml import Pipeline\n",
    "from pyspark.ml.tuning import CrossValidator\n",
    "from pyspark.ml.evaluation import RegressionEvaluator\n",
    "from pyspark.sql.types import IntegerType, ArrayType, FloatType, DoubleType, Row, DateType\n",
    "from pyspark.ml.linalg import DenseVector, SparseVector\n",
    "from pyspark.ml.classification import LogisticRegression, RandomForestClassifier, GBTClassifier\n",
    "from pyspark.ml.evaluation import  MulticlassClassificationEvaluator\n",
    "from pyspark.ml.feature import CountVectorizer, IDF, Normalizer, PCA, RegexTokenizer, StandardScaler, StopWordsRemover, StringIndexer, VectorAssembler\n",
    "from pyspark.ml.tuning import CrossValidator, ParamGridBuilder\n",
    "\n",
    "%matplotlib inline"
   ]
  },
  {
   "cell_type": "code",
   "execution_count": 5,
   "metadata": {},
   "outputs": [],
   "source": [
    "# create a Spark session\n",
    "spark = SparkSession \\\n",
    "     .builder \\\n",
    "     .appName(\"Sparkify\") \\\n",
    "     .getOrCreate()"
   ]
  },
  {
   "cell_type": "code",
   "execution_count": 7,
   "metadata": {},
   "outputs": [
    {
     "output_type": "stream",
     "name": "stdout",
     "text": [
      "Version:  3.0.2\n"
     ]
    }
   ],
   "source": [
    "#check spark installed spark version\n",
    "print('Version: ', spark.version)"
   ]
  },
  {
   "source": [
    "# Code Prep\n",
    "In this workspace, all code that is used throughout the notebook is defined."
   ],
   "cell_type": "markdown",
   "metadata": {}
  },
  {
   "cell_type": "code",
   "execution_count": 11,
   "metadata": {},
   "outputs": [],
   "source": [
    "def load_data(path=''):\n",
    "    \"\"\"\n",
    "    This function loads json data\n",
    "\n",
    "    Args:\n",
    "        - path (string): filepath to the data\n",
    "    Returns:\n",
    "        - data (json): spark json file\n",
    "    \"\"\"\n",
    "    #create json data from filepath\n",
    "    data = spark.read.json(path)\n",
    "\n",
    "    return data"
   ]
  },
  {
   "cell_type": "code",
   "execution_count": 248,
   "metadata": {},
   "outputs": [],
   "source": [
    "def clean_data(data):\n",
    "    \"\"\"\n",
    "    This function cleans the dataset:\n",
    "        - delete rows without userIds or sessionIds\n",
    "        - cast userId to LongType\n",
    "        - replace special characters of string columns with empty string\n",
    "        - split ts into useable columns interaction_time, month, date\n",
    "        - delete ts column\n",
    "        - split location into seperate columns location, state\n",
    "\n",
    "    Args:\n",
    "        data (json): loaded json file\n",
    "    Returns:\n",
    "        cleaned_data (json): cleaned json file\n",
    "    \"\"\"\n",
    "    #delete rows without userids or sessionids\n",
    "    data = data.filter(col('userId').isNotNull() | col('sessionId').isNotNull())\n",
    "\n",
    "    #cast userId to LongType\n",
    "    data= data.withColumn(\"userId\", data[\"userId\"].cast(LongType()))\n",
    "\n",
    "    #replace special characters of strings with empty\n",
    "    for field in data.schema.fields:\n",
    "        if field.dataType==StringType():\n",
    "            data = data.withColumn(field.name, regexp_replace(field.name, '[^a-zA-Z0-9\\,\\-]', ''))\n",
    "    \n",
    "    # split ts into useable columns interaction_time, month, date\n",
    "    data = data.withColumn('interaction_time', from_unixtime(col('ts').cast(LongType())/1000).cast(TimestampType()))\n",
    "    data = data.withColumn('month', month(col('interaction_time')))\n",
    "    data = data.withColumn('date', from_unixtime(col('ts')/1000).cast(DateType()))\n",
    "    #delete ts column\n",
    "    data = data.drop('ts')\n",
    "\n",
    "    #split location into seperate columns location, state\n",
    "    data = data.withColumn('state', split(col('location'), ',').getItem(1))\n",
    "    data = data.withColumn('location', split(col('location'),',').getItem(0))\n",
    "\n",
    "    #create new copy\n",
    "    cleaned_data = data\n",
    "\n",
    "    return cleaned_data"
   ]
  },
  {
   "cell_type": "markdown",
   "metadata": {},
   "source": [
    "# Load and Clean Dataset\n",
    "In this workspace, the mini-dataset file is `mini_sparkify_event_data.json`. Load and clean the dataset, checking for invalid or missing data - for example, records without userids or sessionids. "
   ]
  },
  {
   "cell_type": "code",
   "execution_count": 247,
   "metadata": {},
   "outputs": [],
   "source": [
    "#load data\n",
    "data = load_data(path='mini_sparkify_event_data.json')"
   ]
  },
  {
   "cell_type": "code",
   "execution_count": 249,
   "metadata": {},
   "outputs": [],
   "source": [
    "#clean data\n",
    "cleaned_data = clean_data(data)"
   ]
  },
  {
   "cell_type": "code",
   "execution_count": 251,
   "metadata": {},
   "outputs": [
    {
     "output_type": "execute_result",
     "data": {
      "text/plain": [
       "           artist      auth firstName gender  itemInSession lastName  \\\n",
       "0   MarthaTilston  LoggedIn     Colin      M             50  Freeman   \n",
       "1  FiveIronFrenzy  LoggedIn     Micah      M             79     Long   \n",
       "2     AdamLambert  LoggedIn     Colin      M             51  Freeman   \n",
       "3          Enigma  LoggedIn     Micah      M             80     Long   \n",
       "4        DaftPunk  LoggedIn     Colin      M             52  Freeman   \n",
       "\n",
       "      length level                 location method  ...   registration  \\\n",
       "0  277.89016  paid              Bakersfield    PUT  ...  1538173362000   \n",
       "1  236.09424  free  Boston-Cambridge-Newton    PUT  ...  1538331630000   \n",
       "2  282.82730  paid              Bakersfield    PUT  ...  1538173362000   \n",
       "3  262.71302  free  Boston-Cambridge-Newton    PUT  ...  1538331630000   \n",
       "4  223.60771  paid              Bakersfield    PUT  ...  1538173362000   \n",
       "\n",
       "   sessionId                        song status  \\\n",
       "0         29                   Rockpools    200   \n",
       "1          8                      Canada    200   \n",
       "2         29             TimeForMiracles    200   \n",
       "3          8    KnockingOnForbiddenDoors    200   \n",
       "4         29  HarderBetterFasterStronger    200   \n",
       "\n",
       "                                           userAgent userId  \\\n",
       "0  Mozilla50WindowsNT61WOW64rv310Gecko20100101Fir...     30   \n",
       "1  Mozilla50WindowsNT61WOW64AppleWebKit53736KHTML...      9   \n",
       "2  Mozilla50WindowsNT61WOW64rv310Gecko20100101Fir...     30   \n",
       "3  Mozilla50WindowsNT61WOW64AppleWebKit53736KHTML...      9   \n",
       "4  Mozilla50WindowsNT61WOW64rv310Gecko20100101Fir...     30   \n",
       "\n",
       "     interaction_time month        date  state  \n",
       "0 2018-10-01 02:01:57    10  2018-10-01     CA  \n",
       "1 2018-10-01 02:03:00    10  2018-10-01  MA-NH  \n",
       "2 2018-10-01 02:06:34    10  2018-10-01     CA  \n",
       "3 2018-10-01 02:06:56    10  2018-10-01  MA-NH  \n",
       "4 2018-10-01 02:11:16    10  2018-10-01     CA  \n",
       "\n",
       "[5 rows x 21 columns]"
      ],
      "text/html": "<div>\n<style scoped>\n    .dataframe tbody tr th:only-of-type {\n        vertical-align: middle;\n    }\n\n    .dataframe tbody tr th {\n        vertical-align: top;\n    }\n\n    .dataframe thead th {\n        text-align: right;\n    }\n</style>\n<table border=\"1\" class=\"dataframe\">\n  <thead>\n    <tr style=\"text-align: right;\">\n      <th></th>\n      <th>artist</th>\n      <th>auth</th>\n      <th>firstName</th>\n      <th>gender</th>\n      <th>itemInSession</th>\n      <th>lastName</th>\n      <th>length</th>\n      <th>level</th>\n      <th>location</th>\n      <th>method</th>\n      <th>...</th>\n      <th>registration</th>\n      <th>sessionId</th>\n      <th>song</th>\n      <th>status</th>\n      <th>userAgent</th>\n      <th>userId</th>\n      <th>interaction_time</th>\n      <th>month</th>\n      <th>date</th>\n      <th>state</th>\n    </tr>\n  </thead>\n  <tbody>\n    <tr>\n      <th>0</th>\n      <td>MarthaTilston</td>\n      <td>LoggedIn</td>\n      <td>Colin</td>\n      <td>M</td>\n      <td>50</td>\n      <td>Freeman</td>\n      <td>277.89016</td>\n      <td>paid</td>\n      <td>Bakersfield</td>\n      <td>PUT</td>\n      <td>...</td>\n      <td>1538173362000</td>\n      <td>29</td>\n      <td>Rockpools</td>\n      <td>200</td>\n      <td>Mozilla50WindowsNT61WOW64rv310Gecko20100101Fir...</td>\n      <td>30</td>\n      <td>2018-10-01 02:01:57</td>\n      <td>10</td>\n      <td>2018-10-01</td>\n      <td>CA</td>\n    </tr>\n    <tr>\n      <th>1</th>\n      <td>FiveIronFrenzy</td>\n      <td>LoggedIn</td>\n      <td>Micah</td>\n      <td>M</td>\n      <td>79</td>\n      <td>Long</td>\n      <td>236.09424</td>\n      <td>free</td>\n      <td>Boston-Cambridge-Newton</td>\n      <td>PUT</td>\n      <td>...</td>\n      <td>1538331630000</td>\n      <td>8</td>\n      <td>Canada</td>\n      <td>200</td>\n      <td>Mozilla50WindowsNT61WOW64AppleWebKit53736KHTML...</td>\n      <td>9</td>\n      <td>2018-10-01 02:03:00</td>\n      <td>10</td>\n      <td>2018-10-01</td>\n      <td>MA-NH</td>\n    </tr>\n    <tr>\n      <th>2</th>\n      <td>AdamLambert</td>\n      <td>LoggedIn</td>\n      <td>Colin</td>\n      <td>M</td>\n      <td>51</td>\n      <td>Freeman</td>\n      <td>282.82730</td>\n      <td>paid</td>\n      <td>Bakersfield</td>\n      <td>PUT</td>\n      <td>...</td>\n      <td>1538173362000</td>\n      <td>29</td>\n      <td>TimeForMiracles</td>\n      <td>200</td>\n      <td>Mozilla50WindowsNT61WOW64rv310Gecko20100101Fir...</td>\n      <td>30</td>\n      <td>2018-10-01 02:06:34</td>\n      <td>10</td>\n      <td>2018-10-01</td>\n      <td>CA</td>\n    </tr>\n    <tr>\n      <th>3</th>\n      <td>Enigma</td>\n      <td>LoggedIn</td>\n      <td>Micah</td>\n      <td>M</td>\n      <td>80</td>\n      <td>Long</td>\n      <td>262.71302</td>\n      <td>free</td>\n      <td>Boston-Cambridge-Newton</td>\n      <td>PUT</td>\n      <td>...</td>\n      <td>1538331630000</td>\n      <td>8</td>\n      <td>KnockingOnForbiddenDoors</td>\n      <td>200</td>\n      <td>Mozilla50WindowsNT61WOW64AppleWebKit53736KHTML...</td>\n      <td>9</td>\n      <td>2018-10-01 02:06:56</td>\n      <td>10</td>\n      <td>2018-10-01</td>\n      <td>MA-NH</td>\n    </tr>\n    <tr>\n      <th>4</th>\n      <td>DaftPunk</td>\n      <td>LoggedIn</td>\n      <td>Colin</td>\n      <td>M</td>\n      <td>52</td>\n      <td>Freeman</td>\n      <td>223.60771</td>\n      <td>paid</td>\n      <td>Bakersfield</td>\n      <td>PUT</td>\n      <td>...</td>\n      <td>1538173362000</td>\n      <td>29</td>\n      <td>HarderBetterFasterStronger</td>\n      <td>200</td>\n      <td>Mozilla50WindowsNT61WOW64rv310Gecko20100101Fir...</td>\n      <td>30</td>\n      <td>2018-10-01 02:11:16</td>\n      <td>10</td>\n      <td>2018-10-01</td>\n      <td>CA</td>\n    </tr>\n  </tbody>\n</table>\n<p>5 rows × 21 columns</p>\n</div>"
     },
     "metadata": {},
     "execution_count": 251
    }
   ],
   "source": [
    "#display first 5 rows of cleaned data as pandas df\n",
    "pd.DataFrame(cleaned_data.take(5), columns=cleaned_data.columns)"
   ]
  },
  {
   "cell_type": "markdown",
   "metadata": {},
   "source": [
    "# Exploratory Data Analysis\n",
    "When you're working with the full dataset, perform EDA by loading a small subset of the data and doing basic manipulations within Spark. In this workspace, you are already provided a small subset of data you can explore.\n",
    "\n",
    "### Define Churn\n",
    "\n",
    "Once you've done some preliminary analysis, create a column `Churn` to use as the label for your model. I suggest using the `Cancellation Confirmation` events to define your churn, which happen for both paid and free users. As a bonus task, you can also look into the `Downgrade` events.\n",
    "\n",
    "### Explore Data\n",
    "Once you've defined churn, perform some exploratory data analysis to observe the behavior for users who stayed vs users who churned. You can start by exploring aggregates on these two groups of users, observing how much of a specific action they experienced per a certain time unit or number of songs played."
   ]
  },
  {
   "cell_type": "code",
   "execution_count": null,
   "metadata": {},
   "outputs": [],
   "source": []
  },
  {
   "cell_type": "markdown",
   "metadata": {},
   "source": [
    "# Feature Engineering\n",
    "Once you've familiarized yourself with the data, build out the features you find promising to train your model on. To work with the full dataset, you can follow the following steps.\n",
    "- Write a script to extract the necessary features from the smaller subset of data\n",
    "- Ensure that your script is scalable, using the best practices discussed in Lesson 3\n",
    "- Try your script on the full data set, debugging your script if necessary\n",
    "\n",
    "If you are working in the classroom workspace, you can just extract features based on the small subset of data contained here. Be sure to transfer over this work to the larger dataset when you work on your Spark cluster."
   ]
  },
  {
   "cell_type": "code",
   "execution_count": null,
   "metadata": {},
   "outputs": [],
   "source": []
  },
  {
   "cell_type": "markdown",
   "metadata": {},
   "source": [
    "# Modeling\n",
    "Split the full dataset into train, test, and validation sets. Test out several of the machine learning methods you learned. Evaluate the accuracy of the various models, tuning parameters as necessary. Determine your winning model based on test accuracy and report results on the validation set. Since the churned users are a fairly small subset, I suggest using F1 score as the metric to optimize."
   ]
  },
  {
   "cell_type": "code",
   "execution_count": null,
   "metadata": {},
   "outputs": [],
   "source": []
  },
  {
   "cell_type": "markdown",
   "metadata": {},
   "source": [
    "# Final Steps\n",
    "Clean up your code, adding comments and renaming variables to make the code easier to read and maintain. Refer to the Spark Project Overview page and Data Scientist Capstone Project Rubric to make sure you are including all components of the capstone project and meet all expectations. Remember, this includes thorough documentation in a README file in a Github repository, as well as a web app or blog post."
   ]
  },
  {
   "cell_type": "code",
   "execution_count": null,
   "metadata": {},
   "outputs": [],
   "source": []
  }
 ],
 "metadata": {
  "kernelspec": {
   "display_name": "Python 3",
   "language": "python",
   "name": "python3"
  },
  "language_info": {
   "codemirror_mode": {
    "name": "ipython",
    "version": 3
   },
   "file_extension": ".py",
   "mimetype": "text/x-python",
   "name": "python",
   "nbconvert_exporter": "python",
   "pygments_lexer": "ipython3",
   "version": "3.7.9-final"
  }
 },
 "nbformat": 4,
 "nbformat_minor": 2
}