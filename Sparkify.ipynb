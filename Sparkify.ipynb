{
 "cells": [
  {
   "cell_type": "markdown",
   "metadata": {},
   "source": [
    "# Sparkify Project Workspace\n",
    "This workspace contains a tiny subset (128MB) of the full dataset available (12GB). Feel free to use this workspace to build your project, or to explore a smaller subset with Spark before deploying your cluster on the cloud. Instructions for setting up your Spark cluster is included in the last lesson of the Extracurricular Spark Course content.\n",
    "\n",
    "You can follow the steps below to guide your data analysis and model building portion of this project."
   ]
  },
  {
   "cell_type": "code",
   "execution_count": 315,
   "metadata": {},
   "outputs": [],
   "source": [
    "# import libraries\n",
    "import os\n",
    "import re\n",
    "import copy\n",
    "import time\n",
    "import datetime\n",
    "import numpy as np\n",
    "import pandas as pd\n",
    "from matplotlib import pyplot as plt\n",
    "import seaborn as sns\n",
    "\n",
    "%matplotlib inline\n",
    "sns.set()\n",
    "\n",
    "from pyspark.sql import SparkSession\n",
    "from pyspark.sql.functions import *\n",
    "from pyspark.sql.types import *\n",
    "from pyspark.ml.feature import StringIndexer, VectorAssembler #, OneHotEncoderEstimator\n",
    "from pyspark.ml import Pipeline\n",
    "from pyspark.ml.tuning import CrossValidator\n",
    "from pyspark.ml.evaluation import RegressionEvaluator\n",
    "from pyspark.sql.types import IntegerType, ArrayType, FloatType, DoubleType, Row, DateType\n",
    "from pyspark.ml.linalg import DenseVector, SparseVector\n",
    "from pyspark.ml.classification import LogisticRegression, RandomForestClassifier, GBTClassifier\n",
    "from pyspark.ml.evaluation import  MulticlassClassificationEvaluator\n",
    "from pyspark.ml.feature import CountVectorizer, IDF, Normalizer, PCA, RegexTokenizer, StandardScaler, StopWordsRemover, StringIndexer, VectorAssembler\n",
    "from pyspark.ml.tuning import CrossValidator, ParamGridBuilder"
   ]
  },
  {
   "cell_type": "code",
   "execution_count": 316,
   "metadata": {},
   "outputs": [],
   "source": [
    "# create a Spark session\n",
    "spark = SparkSession \\\n",
    "     .builder \\\n",
    "     .appName(\"Sparkify\") \\\n",
    "     .getOrCreate()"
   ]
  },
  {
   "cell_type": "code",
   "execution_count": 317,
   "metadata": {},
   "outputs": [
    {
     "output_type": "stream",
     "name": "stdout",
     "text": [
      "Version:  3.0.2\n"
     ]
    }
   ],
   "source": [
    "#check spark installed spark version\n",
    "print('Version: ', spark.version)"
   ]
  },
  {
   "source": [
    "# Code Prep\n",
    "In this workspace, all code that is used throughout the notebook is defined."
   ],
   "cell_type": "markdown",
   "metadata": {}
  },
  {
   "cell_type": "code",
   "execution_count": 318,
   "metadata": {},
   "outputs": [],
   "source": [
    "def load_data(path=''):\n",
    "    \"\"\"\n",
    "    This function loads json data\n",
    "\n",
    "    Args:\n",
    "        - path (string): filepath to the data\n",
    "    Returns:\n",
    "        - data (json): spark json file\n",
    "    \"\"\"\n",
    "    #create json data from filepath\n",
    "    data = spark.read.json(path)\n",
    "\n",
    "    return data"
   ]
  },
  {
   "cell_type": "code",
   "execution_count": 319,
   "metadata": {},
   "outputs": [],
   "source": [
    "def clean_data(data):\n",
    "    \"\"\"\n",
    "    This function cleans the dataset:\n",
    "        - delete rows without userIds or sessionIds\n",
    "        - cast userId to LongType\n",
    "        - replace special characters of string columns with empty string\n",
    "        - split ts into useable columns interaction_time, month, date\n",
    "        - delete ts column\n",
    "        - split location into seperate columns location, state\n",
    "\n",
    "    Args:\n",
    "        data (json): loaded json file\n",
    "    Returns:\n",
    "        cleaned_data (json): cleaned json file\n",
    "    \"\"\"\n",
    "    #delete rows without userids or sessionids\n",
    "    data = data.filter(col('userId').isNotNull() | col('sessionId').isNotNull())\n",
    "\n",
    "    #cast userId to LongType\n",
    "    data= data.withColumn(\"userId\", data[\"userId\"].cast(LongType()))\n",
    "\n",
    "    #replace special characters of strings with empty\n",
    "    for field in data.schema.fields:\n",
    "        if field.dataType==StringType():\n",
    "            data = data.withColumn(field.name, regexp_replace(field.name, '[^a-zA-Z0-9\\,\\-]', ''))\n",
    "    \n",
    "    # split ts into useable columns interaction_time, month, date\n",
    "    data = data.withColumn('interaction_time', from_unixtime(col('ts').cast(LongType())/1000).cast(TimestampType()))\n",
    "    data = data.withColumn('month', month(col('interaction_time')))\n",
    "    data = data.withColumn('date', from_unixtime(col('ts')/1000).cast(DateType()))\n",
    "    #delete ts column\n",
    "    data = data.drop('ts')\n",
    "\n",
    "    #split location into seperate columns location, state\n",
    "    data = data.withColumn('state', split(col('location'), ',').getItem(1))\n",
    "    data = data.withColumn('location', split(col('location'),',').getItem(0))\n",
    "\n",
    "    #create new copy\n",
    "    cleaned_data = data\n",
    "\n",
    "    return cleaned_data"
   ]
  },
  {
   "cell_type": "code",
   "execution_count": 327,
   "metadata": {},
   "outputs": [],
   "source": [
    "def add_churn(data):\n",
    "    \"\"\"\n",
    "    This functions adds a new column churn to the cleaned data, based on the Cancellation Confirmation events, \n",
    "    which happen to both paid and free users.\n",
    "\n",
    "    Args:\n",
    "        - data (json): provided data\n",
    "    Returns:\n",
    "        - data (json): with added column churn\n",
    "    \"\"\"\n",
    "    #compute churn on pagetypes and auth\n",
    "    churn = cleaned_data.withColumn('churn', when((col('page').isin(['Cancellation Confirmation', 'Cancel'])) | (col('auth') == 'Cancelled'), 1 ).otherwise(0)).groupby                  ('userId').agg(sum('churn').alias('churn')).withColumn('churn', when(col('churn') >= 1, 1).otherwise(0))\n",
    "\n",
    "    #join new df churn with cleaned_data\n",
    "    churn_data = data.join(churn, on='userId')\n",
    "    \n",
    "    return churn_data"
   ]
  },
  {
   "cell_type": "markdown",
   "metadata": {},
   "source": [
    "# Load and Clean Dataset\n",
    "In this workspace, the mini-dataset file is `mini_sparkify_event_data.json`. Load and clean the dataset, checking for invalid or missing data - for example, records without userids or sessionids. "
   ]
  },
  {
   "cell_type": "code",
   "execution_count": 320,
   "metadata": {},
   "outputs": [],
   "source": [
    "#load data\n",
    "data = load_data(path='mini_sparkify_event_data.json')"
   ]
  },
  {
   "cell_type": "code",
   "execution_count": 321,
   "metadata": {},
   "outputs": [],
   "source": [
    "#clean data\n",
    "cleaned_data = clean_data(data)"
   ]
  },
  {
   "cell_type": "code",
   "execution_count": 322,
   "metadata": {},
   "outputs": [
    {
     "output_type": "execute_result",
     "data": {
      "text/plain": [
       "           artist      auth firstName gender  itemInSession lastName  \\\n",
       "0   MarthaTilston  LoggedIn     Colin      M             50  Freeman   \n",
       "1  FiveIronFrenzy  LoggedIn     Micah      M             79     Long   \n",
       "2     AdamLambert  LoggedIn     Colin      M             51  Freeman   \n",
       "3          Enigma  LoggedIn     Micah      M             80     Long   \n",
       "4        DaftPunk  LoggedIn     Colin      M             52  Freeman   \n",
       "\n",
       "      length level                 location method  ...   registration  \\\n",
       "0  277.89016  paid              Bakersfield    PUT  ...  1538173362000   \n",
       "1  236.09424  free  Boston-Cambridge-Newton    PUT  ...  1538331630000   \n",
       "2  282.82730  paid              Bakersfield    PUT  ...  1538173362000   \n",
       "3  262.71302  free  Boston-Cambridge-Newton    PUT  ...  1538331630000   \n",
       "4  223.60771  paid              Bakersfield    PUT  ...  1538173362000   \n",
       "\n",
       "   sessionId                        song status  \\\n",
       "0         29                   Rockpools    200   \n",
       "1          8                      Canada    200   \n",
       "2         29             TimeForMiracles    200   \n",
       "3          8    KnockingOnForbiddenDoors    200   \n",
       "4         29  HarderBetterFasterStronger    200   \n",
       "\n",
       "                                           userAgent userId  \\\n",
       "0  Mozilla50WindowsNT61WOW64rv310Gecko20100101Fir...     30   \n",
       "1  Mozilla50WindowsNT61WOW64AppleWebKit53736KHTML...      9   \n",
       "2  Mozilla50WindowsNT61WOW64rv310Gecko20100101Fir...     30   \n",
       "3  Mozilla50WindowsNT61WOW64AppleWebKit53736KHTML...      9   \n",
       "4  Mozilla50WindowsNT61WOW64rv310Gecko20100101Fir...     30   \n",
       "\n",
       "     interaction_time month        date  state  \n",
       "0 2018-10-01 02:01:57    10  2018-10-01     CA  \n",
       "1 2018-10-01 02:03:00    10  2018-10-01  MA-NH  \n",
       "2 2018-10-01 02:06:34    10  2018-10-01     CA  \n",
       "3 2018-10-01 02:06:56    10  2018-10-01  MA-NH  \n",
       "4 2018-10-01 02:11:16    10  2018-10-01     CA  \n",
       "\n",
       "[5 rows x 21 columns]"
      ],
      "text/html": "<div>\n<style scoped>\n    .dataframe tbody tr th:only-of-type {\n        vertical-align: middle;\n    }\n\n    .dataframe tbody tr th {\n        vertical-align: top;\n    }\n\n    .dataframe thead th {\n        text-align: right;\n    }\n</style>\n<table border=\"1\" class=\"dataframe\">\n  <thead>\n    <tr style=\"text-align: right;\">\n      <th></th>\n      <th>artist</th>\n      <th>auth</th>\n      <th>firstName</th>\n      <th>gender</th>\n      <th>itemInSession</th>\n      <th>lastName</th>\n      <th>length</th>\n      <th>level</th>\n      <th>location</th>\n      <th>method</th>\n      <th>...</th>\n      <th>registration</th>\n      <th>sessionId</th>\n      <th>song</th>\n      <th>status</th>\n      <th>userAgent</th>\n      <th>userId</th>\n      <th>interaction_time</th>\n      <th>month</th>\n      <th>date</th>\n      <th>state</th>\n    </tr>\n  </thead>\n  <tbody>\n    <tr>\n      <th>0</th>\n      <td>MarthaTilston</td>\n      <td>LoggedIn</td>\n      <td>Colin</td>\n      <td>M</td>\n      <td>50</td>\n      <td>Freeman</td>\n      <td>277.89016</td>\n      <td>paid</td>\n      <td>Bakersfield</td>\n      <td>PUT</td>\n      <td>...</td>\n      <td>1538173362000</td>\n      <td>29</td>\n      <td>Rockpools</td>\n      <td>200</td>\n      <td>Mozilla50WindowsNT61WOW64rv310Gecko20100101Fir...</td>\n      <td>30</td>\n      <td>2018-10-01 02:01:57</td>\n      <td>10</td>\n      <td>2018-10-01</td>\n      <td>CA</td>\n    </tr>\n    <tr>\n      <th>1</th>\n      <td>FiveIronFrenzy</td>\n      <td>LoggedIn</td>\n      <td>Micah</td>\n      <td>M</td>\n      <td>79</td>\n      <td>Long</td>\n      <td>236.09424</td>\n      <td>free</td>\n      <td>Boston-Cambridge-Newton</td>\n      <td>PUT</td>\n      <td>...</td>\n      <td>1538331630000</td>\n      <td>8</td>\n      <td>Canada</td>\n      <td>200</td>\n      <td>Mozilla50WindowsNT61WOW64AppleWebKit53736KHTML...</td>\n      <td>9</td>\n      <td>2018-10-01 02:03:00</td>\n      <td>10</td>\n      <td>2018-10-01</td>\n      <td>MA-NH</td>\n    </tr>\n    <tr>\n      <th>2</th>\n      <td>AdamLambert</td>\n      <td>LoggedIn</td>\n      <td>Colin</td>\n      <td>M</td>\n      <td>51</td>\n      <td>Freeman</td>\n      <td>282.82730</td>\n      <td>paid</td>\n      <td>Bakersfield</td>\n      <td>PUT</td>\n      <td>...</td>\n      <td>1538173362000</td>\n      <td>29</td>\n      <td>TimeForMiracles</td>\n      <td>200</td>\n      <td>Mozilla50WindowsNT61WOW64rv310Gecko20100101Fir...</td>\n      <td>30</td>\n      <td>2018-10-01 02:06:34</td>\n      <td>10</td>\n      <td>2018-10-01</td>\n      <td>CA</td>\n    </tr>\n    <tr>\n      <th>3</th>\n      <td>Enigma</td>\n      <td>LoggedIn</td>\n      <td>Micah</td>\n      <td>M</td>\n      <td>80</td>\n      <td>Long</td>\n      <td>262.71302</td>\n      <td>free</td>\n      <td>Boston-Cambridge-Newton</td>\n      <td>PUT</td>\n      <td>...</td>\n      <td>1538331630000</td>\n      <td>8</td>\n      <td>KnockingOnForbiddenDoors</td>\n      <td>200</td>\n      <td>Mozilla50WindowsNT61WOW64AppleWebKit53736KHTML...</td>\n      <td>9</td>\n      <td>2018-10-01 02:06:56</td>\n      <td>10</td>\n      <td>2018-10-01</td>\n      <td>MA-NH</td>\n    </tr>\n    <tr>\n      <th>4</th>\n      <td>DaftPunk</td>\n      <td>LoggedIn</td>\n      <td>Colin</td>\n      <td>M</td>\n      <td>52</td>\n      <td>Freeman</td>\n      <td>223.60771</td>\n      <td>paid</td>\n      <td>Bakersfield</td>\n      <td>PUT</td>\n      <td>...</td>\n      <td>1538173362000</td>\n      <td>29</td>\n      <td>HarderBetterFasterStronger</td>\n      <td>200</td>\n      <td>Mozilla50WindowsNT61WOW64rv310Gecko20100101Fir...</td>\n      <td>30</td>\n      <td>2018-10-01 02:11:16</td>\n      <td>10</td>\n      <td>2018-10-01</td>\n      <td>CA</td>\n    </tr>\n  </tbody>\n</table>\n<p>5 rows × 21 columns</p>\n</div>"
     },
     "metadata": {},
     "execution_count": 322
    }
   ],
   "source": [
    "#display first 5 rows of cleaned data as pandas df\n",
    "pd.DataFrame(cleaned_data.take(5), columns=cleaned_data.columns)"
   ]
  },
  {
   "cell_type": "markdown",
   "metadata": {},
   "source": [
    "# Exploratory Data Analysis\n",
    "When you're working with the full dataset, perform EDA by loading a small subset of the data and doing basic manipulations within Spark. In this workspace, you are already provided a small subset of data you can explore.\n",
    "\n",
    "### Define Churn\n",
    "\n",
    "Once you've done some preliminary analysis, create a column `Churn` to use as the label for your model. I suggest using the `Cancellation Confirmation` events to define your churn, which happen for both paid and free users. As a bonus task, you can also look into the `Downgrade` events.\n",
    "\n",
    "### Explore Data\n",
    "Once you've defined churn, perform some exploratory data analysis to observe the behavior for users who stayed vs users who churned. You can start by exploring aggregates on these two groups of users, observing how much of a specific action they experienced per a certain time unit or number of songs played."
   ]
  },
  {
   "cell_type": "code",
   "execution_count": 328,
   "metadata": {},
   "outputs": [],
   "source": [
    "churn_data = add_churn(cleaned_data)"
   ]
  },
  {
   "cell_type": "code",
   "execution_count": 334,
   "metadata": {},
   "outputs": [
    {
     "output_type": "execute_result",
     "data": {
      "text/plain": [
       "       userId                       artist      auth firstName gender  \\\n",
       "0          30                MarthaTilston  LoggedIn     Colin      M   \n",
       "1           9               FiveIronFrenzy  LoggedIn     Micah      M   \n",
       "2          30                  AdamLambert  LoggedIn     Colin      M   \n",
       "3           9                       Enigma  LoggedIn     Micah      M   \n",
       "4          30                     DaftPunk  LoggedIn     Colin      M   \n",
       "...       ...                          ...       ...       ...    ...   \n",
       "99995     124                AlejandroSanz  LoggedIn    Nicole      F   \n",
       "99996      44                   Blackfield  LoggedIn    Kaysie      F   \n",
       "99997      11                    Figurines  LoggedIn       Zoe      F   \n",
       "99998     103             VulgairesMachins  LoggedIn     Piper      F   \n",
       "99999      83  MajorLazerNinaSkyRickyBlaze  LoggedIn      Sean      M   \n",
       "\n",
       "       itemInSession lastName     length level                     location  \\\n",
       "0                 50  Freeman  277.89016  paid                  Bakersfield   \n",
       "1                 79     Long  236.09424  free      Boston-Cambridge-Newton   \n",
       "2                 51  Freeman  282.82730  paid                  Bakersfield   \n",
       "3                 80     Long  262.71302  free      Boston-Cambridge-Newton   \n",
       "4                 52  Freeman  223.60771  paid                  Bakersfield   \n",
       "...              ...      ...        ...   ...                          ...   \n",
       "99995            498     Beck  308.58404  paid           Vineland-Bridgeton   \n",
       "99996            205     Vega  253.04771  paid  Bridgeport-Stamford-Norwalk   \n",
       "99997              3    Patel  168.48934  free           Providence-Warwick   \n",
       "99998            251  Nielsen   99.29098  paid    NewYork-Newark-JerseyCity   \n",
       "99999             11   Mercer  226.42893  free                    Anchorage   \n",
       "\n",
       "       ...   registration sessionId                        song  status  \\\n",
       "0      ...  1538173362000        29                   Rockpools     200   \n",
       "1      ...  1538331630000         8                      Canada     200   \n",
       "2      ...  1538173362000        29             TimeForMiracles     200   \n",
       "3      ...  1538331630000         8    KnockingOnForbiddenDoors     200   \n",
       "4      ...  1538173362000        29  HarderBetterFasterStronger     200   \n",
       "...    ...            ...       ...                         ...     ...   \n",
       "99995  ...  1532224335000      1394             CuandoNadieMeVe     200   \n",
       "99996  ...  1537779419000       758                       MissU     200   \n",
       "99997  ...  1532554781000      1404                 SilverPonds     200   \n",
       "99998  ...  1537699856000      1117                  Cocanomane     200   \n",
       "99999  ...  1532771049000      1391            KeepItGoinLouder     200   \n",
       "\n",
       "                                               userAgent    interaction_time  \\\n",
       "0      Mozilla50WindowsNT61WOW64rv310Gecko20100101Fir... 2018-10-01 02:01:57   \n",
       "1      Mozilla50WindowsNT61WOW64AppleWebKit53736KHTML... 2018-10-01 02:03:00   \n",
       "2      Mozilla50WindowsNT61WOW64rv310Gecko20100101Fir... 2018-10-01 02:06:34   \n",
       "3      Mozilla50WindowsNT61WOW64AppleWebKit53736KHTML... 2018-10-01 02:06:56   \n",
       "4      Mozilla50WindowsNT61WOW64rv310Gecko20100101Fir... 2018-10-01 02:11:16   \n",
       "...                                                  ...                 ...   \n",
       "99995  Mozilla50MacintoshIntelMacOSX1094AppleWebKit53... 2018-10-30 23:15:48   \n",
       "99996  Mozilla50MacintoshIntelMacOSX1092AppleWebKit53... 2018-10-30 23:16:03   \n",
       "99997   Mozilla50WindowsNT61WOW64Trident70rv110likeGecko 2018-10-30 23:16:18   \n",
       "99998  Mozilla50MacintoshIntelMacOSX1094AppleWebKit53... 2018-10-30 23:16:31   \n",
       "99999  Mozilla50X11Linuxx8664AppleWebKit53736KHTML,li... 2018-10-30 23:16:46   \n",
       "\n",
       "      month        date     state churn  \n",
       "0        10  2018-10-01        CA     0  \n",
       "1        10  2018-10-01     MA-NH     0  \n",
       "2        10  2018-10-01        CA     0  \n",
       "3        10  2018-10-01     MA-NH     0  \n",
       "4        10  2018-10-01        CA     0  \n",
       "...     ...         ...       ...   ...  \n",
       "99995    10  2018-10-30        NJ     0  \n",
       "99996    10  2018-10-30        CT     0  \n",
       "99997    10  2018-10-30     RI-MA     0  \n",
       "99998    10  2018-10-30  NY-NJ-PA     1  \n",
       "99999    10  2018-10-30        AK     0  \n",
       "\n",
       "[100000 rows x 22 columns]"
      ],
      "text/html": "<div>\n<style scoped>\n    .dataframe tbody tr th:only-of-type {\n        vertical-align: middle;\n    }\n\n    .dataframe tbody tr th {\n        vertical-align: top;\n    }\n\n    .dataframe thead th {\n        text-align: right;\n    }\n</style>\n<table border=\"1\" class=\"dataframe\">\n  <thead>\n    <tr style=\"text-align: right;\">\n      <th></th>\n      <th>userId</th>\n      <th>artist</th>\n      <th>auth</th>\n      <th>firstName</th>\n      <th>gender</th>\n      <th>itemInSession</th>\n      <th>lastName</th>\n      <th>length</th>\n      <th>level</th>\n      <th>location</th>\n      <th>...</th>\n      <th>registration</th>\n      <th>sessionId</th>\n      <th>song</th>\n      <th>status</th>\n      <th>userAgent</th>\n      <th>interaction_time</th>\n      <th>month</th>\n      <th>date</th>\n      <th>state</th>\n      <th>churn</th>\n    </tr>\n  </thead>\n  <tbody>\n    <tr>\n      <th>0</th>\n      <td>30</td>\n      <td>MarthaTilston</td>\n      <td>LoggedIn</td>\n      <td>Colin</td>\n      <td>M</td>\n      <td>50</td>\n      <td>Freeman</td>\n      <td>277.89016</td>\n      <td>paid</td>\n      <td>Bakersfield</td>\n      <td>...</td>\n      <td>1538173362000</td>\n      <td>29</td>\n      <td>Rockpools</td>\n      <td>200</td>\n      <td>Mozilla50WindowsNT61WOW64rv310Gecko20100101Fir...</td>\n      <td>2018-10-01 02:01:57</td>\n      <td>10</td>\n      <td>2018-10-01</td>\n      <td>CA</td>\n      <td>0</td>\n    </tr>\n    <tr>\n      <th>1</th>\n      <td>9</td>\n      <td>FiveIronFrenzy</td>\n      <td>LoggedIn</td>\n      <td>Micah</td>\n      <td>M</td>\n      <td>79</td>\n      <td>Long</td>\n      <td>236.09424</td>\n      <td>free</td>\n      <td>Boston-Cambridge-Newton</td>\n      <td>...</td>\n      <td>1538331630000</td>\n      <td>8</td>\n      <td>Canada</td>\n      <td>200</td>\n      <td>Mozilla50WindowsNT61WOW64AppleWebKit53736KHTML...</td>\n      <td>2018-10-01 02:03:00</td>\n      <td>10</td>\n      <td>2018-10-01</td>\n      <td>MA-NH</td>\n      <td>0</td>\n    </tr>\n    <tr>\n      <th>2</th>\n      <td>30</td>\n      <td>AdamLambert</td>\n      <td>LoggedIn</td>\n      <td>Colin</td>\n      <td>M</td>\n      <td>51</td>\n      <td>Freeman</td>\n      <td>282.82730</td>\n      <td>paid</td>\n      <td>Bakersfield</td>\n      <td>...</td>\n      <td>1538173362000</td>\n      <td>29</td>\n      <td>TimeForMiracles</td>\n      <td>200</td>\n      <td>Mozilla50WindowsNT61WOW64rv310Gecko20100101Fir...</td>\n      <td>2018-10-01 02:06:34</td>\n      <td>10</td>\n      <td>2018-10-01</td>\n      <td>CA</td>\n      <td>0</td>\n    </tr>\n    <tr>\n      <th>3</th>\n      <td>9</td>\n      <td>Enigma</td>\n      <td>LoggedIn</td>\n      <td>Micah</td>\n      <td>M</td>\n      <td>80</td>\n      <td>Long</td>\n      <td>262.71302</td>\n      <td>free</td>\n      <td>Boston-Cambridge-Newton</td>\n      <td>...</td>\n      <td>1538331630000</td>\n      <td>8</td>\n      <td>KnockingOnForbiddenDoors</td>\n      <td>200</td>\n      <td>Mozilla50WindowsNT61WOW64AppleWebKit53736KHTML...</td>\n      <td>2018-10-01 02:06:56</td>\n      <td>10</td>\n      <td>2018-10-01</td>\n      <td>MA-NH</td>\n      <td>0</td>\n    </tr>\n    <tr>\n      <th>4</th>\n      <td>30</td>\n      <td>DaftPunk</td>\n      <td>LoggedIn</td>\n      <td>Colin</td>\n      <td>M</td>\n      <td>52</td>\n      <td>Freeman</td>\n      <td>223.60771</td>\n      <td>paid</td>\n      <td>Bakersfield</td>\n      <td>...</td>\n      <td>1538173362000</td>\n      <td>29</td>\n      <td>HarderBetterFasterStronger</td>\n      <td>200</td>\n      <td>Mozilla50WindowsNT61WOW64rv310Gecko20100101Fir...</td>\n      <td>2018-10-01 02:11:16</td>\n      <td>10</td>\n      <td>2018-10-01</td>\n      <td>CA</td>\n      <td>0</td>\n    </tr>\n    <tr>\n      <th>...</th>\n      <td>...</td>\n      <td>...</td>\n      <td>...</td>\n      <td>...</td>\n      <td>...</td>\n      <td>...</td>\n      <td>...</td>\n      <td>...</td>\n      <td>...</td>\n      <td>...</td>\n      <td>...</td>\n      <td>...</td>\n      <td>...</td>\n      <td>...</td>\n      <td>...</td>\n      <td>...</td>\n      <td>...</td>\n      <td>...</td>\n      <td>...</td>\n      <td>...</td>\n      <td>...</td>\n    </tr>\n    <tr>\n      <th>99995</th>\n      <td>124</td>\n      <td>AlejandroSanz</td>\n      <td>LoggedIn</td>\n      <td>Nicole</td>\n      <td>F</td>\n      <td>498</td>\n      <td>Beck</td>\n      <td>308.58404</td>\n      <td>paid</td>\n      <td>Vineland-Bridgeton</td>\n      <td>...</td>\n      <td>1532224335000</td>\n      <td>1394</td>\n      <td>CuandoNadieMeVe</td>\n      <td>200</td>\n      <td>Mozilla50MacintoshIntelMacOSX1094AppleWebKit53...</td>\n      <td>2018-10-30 23:15:48</td>\n      <td>10</td>\n      <td>2018-10-30</td>\n      <td>NJ</td>\n      <td>0</td>\n    </tr>\n    <tr>\n      <th>99996</th>\n      <td>44</td>\n      <td>Blackfield</td>\n      <td>LoggedIn</td>\n      <td>Kaysie</td>\n      <td>F</td>\n      <td>205</td>\n      <td>Vega</td>\n      <td>253.04771</td>\n      <td>paid</td>\n      <td>Bridgeport-Stamford-Norwalk</td>\n      <td>...</td>\n      <td>1537779419000</td>\n      <td>758</td>\n      <td>MissU</td>\n      <td>200</td>\n      <td>Mozilla50MacintoshIntelMacOSX1092AppleWebKit53...</td>\n      <td>2018-10-30 23:16:03</td>\n      <td>10</td>\n      <td>2018-10-30</td>\n      <td>CT</td>\n      <td>0</td>\n    </tr>\n    <tr>\n      <th>99997</th>\n      <td>11</td>\n      <td>Figurines</td>\n      <td>LoggedIn</td>\n      <td>Zoe</td>\n      <td>F</td>\n      <td>3</td>\n      <td>Patel</td>\n      <td>168.48934</td>\n      <td>free</td>\n      <td>Providence-Warwick</td>\n      <td>...</td>\n      <td>1532554781000</td>\n      <td>1404</td>\n      <td>SilverPonds</td>\n      <td>200</td>\n      <td>Mozilla50WindowsNT61WOW64Trident70rv110likeGecko</td>\n      <td>2018-10-30 23:16:18</td>\n      <td>10</td>\n      <td>2018-10-30</td>\n      <td>RI-MA</td>\n      <td>0</td>\n    </tr>\n    <tr>\n      <th>99998</th>\n      <td>103</td>\n      <td>VulgairesMachins</td>\n      <td>LoggedIn</td>\n      <td>Piper</td>\n      <td>F</td>\n      <td>251</td>\n      <td>Nielsen</td>\n      <td>99.29098</td>\n      <td>paid</td>\n      <td>NewYork-Newark-JerseyCity</td>\n      <td>...</td>\n      <td>1537699856000</td>\n      <td>1117</td>\n      <td>Cocanomane</td>\n      <td>200</td>\n      <td>Mozilla50MacintoshIntelMacOSX1094AppleWebKit53...</td>\n      <td>2018-10-30 23:16:31</td>\n      <td>10</td>\n      <td>2018-10-30</td>\n      <td>NY-NJ-PA</td>\n      <td>1</td>\n    </tr>\n    <tr>\n      <th>99999</th>\n      <td>83</td>\n      <td>MajorLazerNinaSkyRickyBlaze</td>\n      <td>LoggedIn</td>\n      <td>Sean</td>\n      <td>M</td>\n      <td>11</td>\n      <td>Mercer</td>\n      <td>226.42893</td>\n      <td>free</td>\n      <td>Anchorage</td>\n      <td>...</td>\n      <td>1532771049000</td>\n      <td>1391</td>\n      <td>KeepItGoinLouder</td>\n      <td>200</td>\n      <td>Mozilla50X11Linuxx8664AppleWebKit53736KHTML,li...</td>\n      <td>2018-10-30 23:16:46</td>\n      <td>10</td>\n      <td>2018-10-30</td>\n      <td>AK</td>\n      <td>0</td>\n    </tr>\n  </tbody>\n</table>\n<p>100000 rows × 22 columns</p>\n</div>"
     },
     "metadata": {},
     "execution_count": 334
    }
   ],
   "source": [
    "df = pd.DataFrame(churn_data.take(100000), columns=churn_data.columns)\n",
    "df"
   ]
  },
  {
   "cell_type": "code",
   "execution_count": null,
   "metadata": {},
   "outputs": [],
   "source": []
  },
  {
   "cell_type": "markdown",
   "metadata": {},
   "source": [
    "# Feature Engineering\n",
    "Once you've familiarized yourself with the data, build out the features you find promising to train your model on. To work with the full dataset, you can follow the following steps.\n",
    "- Write a script to extract the necessary features from the smaller subset of data\n",
    "- Ensure that your script is scalable, using the best practices discussed in Lesson 3\n",
    "- Try your script on the full data set, debugging your script if necessary\n",
    "\n",
    "If you are working in the classroom workspace, you can just extract features based on the small subset of data contained here. Be sure to transfer over this work to the larger dataset when you work on your Spark cluster."
   ]
  },
  {
   "cell_type": "code",
   "execution_count": null,
   "metadata": {},
   "outputs": [],
   "source": []
  },
  {
   "cell_type": "markdown",
   "metadata": {},
   "source": [
    "# Modeling\n",
    "Split the full dataset into train, test, and validation sets. Test out several of the machine learning methods you learned. Evaluate the accuracy of the various models, tuning parameters as necessary. Determine your winning model based on test accuracy and report results on the validation set. Since the churned users are a fairly small subset, I suggest using F1 score as the metric to optimize."
   ]
  },
  {
   "cell_type": "code",
   "execution_count": null,
   "metadata": {},
   "outputs": [],
   "source": []
  },
  {
   "cell_type": "markdown",
   "metadata": {},
   "source": [
    "# Final Steps\n",
    "Clean up your code, adding comments and renaming variables to make the code easier to read and maintain. Refer to the Spark Project Overview page and Data Scientist Capstone Project Rubric to make sure you are including all components of the capstone project and meet all expectations. Remember, this includes thorough documentation in a README file in a Github repository, as well as a web app or blog post."
   ]
  },
  {
   "cell_type": "code",
   "execution_count": null,
   "metadata": {},
   "outputs": [],
   "source": []
  }
 ],
 "metadata": {
  "kernelspec": {
   "display_name": "Python 3",
   "language": "python",
   "name": "python3"
  },
  "language_info": {
   "codemirror_mode": {
    "name": "ipython",
    "version": 3
   },
   "file_extension": ".py",
   "mimetype": "text/x-python",
   "name": "python",
   "nbconvert_exporter": "python",
   "pygments_lexer": "ipython3",
   "version": "3.7.9-final"
  }
 },
 "nbformat": 4,
 "nbformat_minor": 2
}